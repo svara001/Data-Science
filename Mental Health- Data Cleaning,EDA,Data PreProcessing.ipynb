{
 "cells": [
  {
   "cell_type": "markdown",
   "metadata": {},
   "source": [
    "   ##     <h1><center>PROJECT: MENTAL HEALTH DATA ANALYSIS</center></h1>                                               \n",
    "                                                                                             \n",
    "                                                                                             \n",
    "                                                                 - Srishti P A (UIN: 01095922)\n",
    "                                                                 - Shreya V (UIN: 01114390)\n",
    "                                  "
   ]
  },
  {
   "cell_type": "markdown",
   "metadata": {},
   "source": [
    "## <h2>OUTCOME: Best Model to detect whether the employees need treatment</h2>"
   ]
  },
  {
   "cell_type": "markdown",
   "metadata": {},
   "source": [
    "### SOURCE OF DATASET: https://www.kaggle.com/osmi/mental-health-in-tech-survey"
   ]
  },
  {
   "cell_type": "markdown",
   "metadata": {},
   "source": [
    "## Data Cleaning/ Exploratory Data Analysis/ Data PreProcessing"
   ]
  },
  {
   "cell_type": "code",
   "execution_count": 1,
   "metadata": {},
   "outputs": [],
   "source": [
    "import pandas as pd\n",
    "import numpy as np\n",
    "import matplotlib.pyplot as plt\n",
    "import seaborn as sb\n",
    "%matplotlib inline\n",
    "import warnings\n",
    "warnings.filterwarnings('ignore')"
   ]
  },
  {
   "cell_type": "code",
   "execution_count": 2,
   "metadata": {},
   "outputs": [],
   "source": [
    "data =pd.read_csv('survey.csv')"
   ]
  },
  {
   "cell_type": "code",
   "execution_count": 3,
   "metadata": {},
   "outputs": [
    {
     "data": {
      "text/plain": [
       "(1259, 27)"
      ]
     },
     "execution_count": 3,
     "metadata": {},
     "output_type": "execute_result"
    }
   ],
   "source": [
    "data.shape"
   ]
  },
  {
   "cell_type": "markdown",
   "metadata": {},
   "source": [
    "## SIZE OF DATA SET: 1259 rows and 27 columns"
   ]
  },
  {
   "cell_type": "code",
   "execution_count": 4,
   "metadata": {
    "scrolled": true
   },
   "outputs": [
    {
     "data": {
      "text/html": [
       "<div>\n",
       "<style scoped>\n",
       "    .dataframe tbody tr th:only-of-type {\n",
       "        vertical-align: middle;\n",
       "    }\n",
       "\n",
       "    .dataframe tbody tr th {\n",
       "        vertical-align: top;\n",
       "    }\n",
       "\n",
       "    .dataframe thead th {\n",
       "        text-align: right;\n",
       "    }\n",
       "</style>\n",
       "<table border=\"1\" class=\"dataframe\">\n",
       "  <thead>\n",
       "    <tr style=\"text-align: right;\">\n",
       "      <th></th>\n",
       "      <th>Timestamp</th>\n",
       "      <th>Age</th>\n",
       "      <th>Gender</th>\n",
       "      <th>Country</th>\n",
       "      <th>state</th>\n",
       "      <th>self_employed</th>\n",
       "      <th>family_history</th>\n",
       "      <th>treatment</th>\n",
       "      <th>work_interfere</th>\n",
       "      <th>no_employees</th>\n",
       "      <th>...</th>\n",
       "      <th>leave</th>\n",
       "      <th>mental_health_consequence</th>\n",
       "      <th>phys_health_consequence</th>\n",
       "      <th>coworkers</th>\n",
       "      <th>supervisor</th>\n",
       "      <th>mental_health_interview</th>\n",
       "      <th>phys_health_interview</th>\n",
       "      <th>mental_vs_physical</th>\n",
       "      <th>obs_consequence</th>\n",
       "      <th>comments</th>\n",
       "    </tr>\n",
       "  </thead>\n",
       "  <tbody>\n",
       "    <tr>\n",
       "      <th>0</th>\n",
       "      <td>2014-08-27 11:29:31</td>\n",
       "      <td>37</td>\n",
       "      <td>Female</td>\n",
       "      <td>United States</td>\n",
       "      <td>IL</td>\n",
       "      <td>NaN</td>\n",
       "      <td>No</td>\n",
       "      <td>Yes</td>\n",
       "      <td>Often</td>\n",
       "      <td>6-25</td>\n",
       "      <td>...</td>\n",
       "      <td>Somewhat easy</td>\n",
       "      <td>No</td>\n",
       "      <td>No</td>\n",
       "      <td>Some of them</td>\n",
       "      <td>Yes</td>\n",
       "      <td>No</td>\n",
       "      <td>Maybe</td>\n",
       "      <td>Yes</td>\n",
       "      <td>No</td>\n",
       "      <td>NaN</td>\n",
       "    </tr>\n",
       "    <tr>\n",
       "      <th>1</th>\n",
       "      <td>2014-08-27 11:29:37</td>\n",
       "      <td>44</td>\n",
       "      <td>M</td>\n",
       "      <td>United States</td>\n",
       "      <td>IN</td>\n",
       "      <td>NaN</td>\n",
       "      <td>No</td>\n",
       "      <td>No</td>\n",
       "      <td>Rarely</td>\n",
       "      <td>More than 1000</td>\n",
       "      <td>...</td>\n",
       "      <td>Don't know</td>\n",
       "      <td>Maybe</td>\n",
       "      <td>No</td>\n",
       "      <td>No</td>\n",
       "      <td>No</td>\n",
       "      <td>No</td>\n",
       "      <td>No</td>\n",
       "      <td>Don't know</td>\n",
       "      <td>No</td>\n",
       "      <td>NaN</td>\n",
       "    </tr>\n",
       "    <tr>\n",
       "      <th>2</th>\n",
       "      <td>2014-08-27 11:29:44</td>\n",
       "      <td>32</td>\n",
       "      <td>Male</td>\n",
       "      <td>Canada</td>\n",
       "      <td>NaN</td>\n",
       "      <td>NaN</td>\n",
       "      <td>No</td>\n",
       "      <td>No</td>\n",
       "      <td>Rarely</td>\n",
       "      <td>6-25</td>\n",
       "      <td>...</td>\n",
       "      <td>Somewhat difficult</td>\n",
       "      <td>No</td>\n",
       "      <td>No</td>\n",
       "      <td>Yes</td>\n",
       "      <td>Yes</td>\n",
       "      <td>Yes</td>\n",
       "      <td>Yes</td>\n",
       "      <td>No</td>\n",
       "      <td>No</td>\n",
       "      <td>NaN</td>\n",
       "    </tr>\n",
       "    <tr>\n",
       "      <th>3</th>\n",
       "      <td>2014-08-27 11:29:46</td>\n",
       "      <td>31</td>\n",
       "      <td>Male</td>\n",
       "      <td>United Kingdom</td>\n",
       "      <td>NaN</td>\n",
       "      <td>NaN</td>\n",
       "      <td>Yes</td>\n",
       "      <td>Yes</td>\n",
       "      <td>Often</td>\n",
       "      <td>26-100</td>\n",
       "      <td>...</td>\n",
       "      <td>Somewhat difficult</td>\n",
       "      <td>Yes</td>\n",
       "      <td>Yes</td>\n",
       "      <td>Some of them</td>\n",
       "      <td>No</td>\n",
       "      <td>Maybe</td>\n",
       "      <td>Maybe</td>\n",
       "      <td>No</td>\n",
       "      <td>Yes</td>\n",
       "      <td>NaN</td>\n",
       "    </tr>\n",
       "    <tr>\n",
       "      <th>4</th>\n",
       "      <td>2014-08-27 11:30:22</td>\n",
       "      <td>31</td>\n",
       "      <td>Male</td>\n",
       "      <td>United States</td>\n",
       "      <td>TX</td>\n",
       "      <td>NaN</td>\n",
       "      <td>No</td>\n",
       "      <td>No</td>\n",
       "      <td>Never</td>\n",
       "      <td>100-500</td>\n",
       "      <td>...</td>\n",
       "      <td>Don't know</td>\n",
       "      <td>No</td>\n",
       "      <td>No</td>\n",
       "      <td>Some of them</td>\n",
       "      <td>Yes</td>\n",
       "      <td>Yes</td>\n",
       "      <td>Yes</td>\n",
       "      <td>Don't know</td>\n",
       "      <td>No</td>\n",
       "      <td>NaN</td>\n",
       "    </tr>\n",
       "  </tbody>\n",
       "</table>\n",
       "<p>5 rows × 27 columns</p>\n",
       "</div>"
      ],
      "text/plain": [
       "             Timestamp  Age  Gender         Country state self_employed  \\\n",
       "0  2014-08-27 11:29:31   37  Female   United States    IL           NaN   \n",
       "1  2014-08-27 11:29:37   44       M   United States    IN           NaN   \n",
       "2  2014-08-27 11:29:44   32    Male          Canada   NaN           NaN   \n",
       "3  2014-08-27 11:29:46   31    Male  United Kingdom   NaN           NaN   \n",
       "4  2014-08-27 11:30:22   31    Male   United States    TX           NaN   \n",
       "\n",
       "  family_history treatment work_interfere    no_employees   ...     \\\n",
       "0             No       Yes          Often            6-25   ...      \n",
       "1             No        No         Rarely  More than 1000   ...      \n",
       "2             No        No         Rarely            6-25   ...      \n",
       "3            Yes       Yes          Often          26-100   ...      \n",
       "4             No        No          Never         100-500   ...      \n",
       "\n",
       "                leave mental_health_consequence phys_health_consequence  \\\n",
       "0       Somewhat easy                        No                      No   \n",
       "1          Don't know                     Maybe                      No   \n",
       "2  Somewhat difficult                        No                      No   \n",
       "3  Somewhat difficult                       Yes                     Yes   \n",
       "4          Don't know                        No                      No   \n",
       "\n",
       "      coworkers supervisor mental_health_interview phys_health_interview  \\\n",
       "0  Some of them        Yes                      No                 Maybe   \n",
       "1            No         No                      No                    No   \n",
       "2           Yes        Yes                     Yes                   Yes   \n",
       "3  Some of them         No                   Maybe                 Maybe   \n",
       "4  Some of them        Yes                     Yes                   Yes   \n",
       "\n",
       "  mental_vs_physical obs_consequence comments  \n",
       "0                Yes              No      NaN  \n",
       "1         Don't know              No      NaN  \n",
       "2                 No              No      NaN  \n",
       "3                 No             Yes      NaN  \n",
       "4         Don't know              No      NaN  \n",
       "\n",
       "[5 rows x 27 columns]"
      ]
     },
     "execution_count": 4,
     "metadata": {},
     "output_type": "execute_result"
    }
   ],
   "source": [
    "data.head()"
   ]
  },
  {
   "cell_type": "code",
   "execution_count": 5,
   "metadata": {},
   "outputs": [
    {
     "name": "stdout",
     "output_type": "stream",
     "text": [
      "<class 'pandas.core.frame.DataFrame'>\n",
      "RangeIndex: 1259 entries, 0 to 1258\n",
      "Data columns (total 27 columns):\n",
      "Timestamp                    1259 non-null object\n",
      "Age                          1259 non-null int64\n",
      "Gender                       1259 non-null object\n",
      "Country                      1259 non-null object\n",
      "state                        744 non-null object\n",
      "self_employed                1241 non-null object\n",
      "family_history               1259 non-null object\n",
      "treatment                    1259 non-null object\n",
      "work_interfere               995 non-null object\n",
      "no_employees                 1259 non-null object\n",
      "remote_work                  1259 non-null object\n",
      "tech_company                 1259 non-null object\n",
      "benefits                     1259 non-null object\n",
      "care_options                 1259 non-null object\n",
      "wellness_program             1259 non-null object\n",
      "seek_help                    1259 non-null object\n",
      "anonymity                    1259 non-null object\n",
      "leave                        1259 non-null object\n",
      "mental_health_consequence    1259 non-null object\n",
      "phys_health_consequence      1259 non-null object\n",
      "coworkers                    1259 non-null object\n",
      "supervisor                   1259 non-null object\n",
      "mental_health_interview      1259 non-null object\n",
      "phys_health_interview        1259 non-null object\n",
      "mental_vs_physical           1259 non-null object\n",
      "obs_consequence              1259 non-null object\n",
      "comments                     164 non-null object\n",
      "dtypes: int64(1), object(26)\n",
      "memory usage: 265.6+ KB\n"
     ]
    }
   ],
   "source": [
    "data.info()"
   ]
  },
  {
   "cell_type": "code",
   "execution_count": 6,
   "metadata": {},
   "outputs": [
    {
     "data": {
      "text/plain": [
       "Timestamp                       0\n",
       "Age                             0\n",
       "Gender                          0\n",
       "Country                         0\n",
       "state                         515\n",
       "self_employed                  18\n",
       "family_history                  0\n",
       "treatment                       0\n",
       "work_interfere                264\n",
       "no_employees                    0\n",
       "remote_work                     0\n",
       "tech_company                    0\n",
       "benefits                        0\n",
       "care_options                    0\n",
       "wellness_program                0\n",
       "seek_help                       0\n",
       "anonymity                       0\n",
       "leave                           0\n",
       "mental_health_consequence       0\n",
       "phys_health_consequence         0\n",
       "coworkers                       0\n",
       "supervisor                      0\n",
       "mental_health_interview         0\n",
       "phys_health_interview           0\n",
       "mental_vs_physical              0\n",
       "obs_consequence                 0\n",
       "comments                     1095\n",
       "dtype: int64"
      ]
     },
     "execution_count": 6,
     "metadata": {},
     "output_type": "execute_result"
    }
   ],
   "source": [
    "## To check the null values in each column\n",
    "data.isnull().sum()"
   ]
  },
  {
   "cell_type": "markdown",
   "metadata": {},
   "source": [
    "#### Data Cleaning"
   ]
  },
  {
   "cell_type": "code",
   "execution_count": 7,
   "metadata": {},
   "outputs": [],
   "source": [
    "# Droping the column 'Timestamp' as we dont require at what time the record has been collected/inserted/updated\n",
    "data.drop(columns=['Timestamp'],inplace=True)"
   ]
  },
  {
   "cell_type": "code",
   "execution_count": 8,
   "metadata": {},
   "outputs": [],
   "source": [
    "## Droping the column 'Comments' as column is having only 13% of data and other 87% of data is missing\n",
    "data.drop(columns=['comments'],inplace=True)"
   ]
  },
  {
   "cell_type": "code",
   "execution_count": 9,
   "metadata": {},
   "outputs": [
    {
     "data": {
      "text/html": [
       "<div>\n",
       "<style scoped>\n",
       "    .dataframe tbody tr th:only-of-type {\n",
       "        vertical-align: middle;\n",
       "    }\n",
       "\n",
       "    .dataframe tbody tr th {\n",
       "        vertical-align: top;\n",
       "    }\n",
       "\n",
       "    .dataframe thead th {\n",
       "        text-align: right;\n",
       "    }\n",
       "</style>\n",
       "<table border=\"1\" class=\"dataframe\">\n",
       "  <thead>\n",
       "    <tr style=\"text-align: right;\">\n",
       "      <th></th>\n",
       "      <th>Age</th>\n",
       "      <th>Gender</th>\n",
       "      <th>Country</th>\n",
       "      <th>state</th>\n",
       "      <th>self_employed</th>\n",
       "      <th>family_history</th>\n",
       "      <th>treatment</th>\n",
       "      <th>work_interfere</th>\n",
       "      <th>no_employees</th>\n",
       "      <th>remote_work</th>\n",
       "      <th>...</th>\n",
       "      <th>anonymity</th>\n",
       "      <th>leave</th>\n",
       "      <th>mental_health_consequence</th>\n",
       "      <th>phys_health_consequence</th>\n",
       "      <th>coworkers</th>\n",
       "      <th>supervisor</th>\n",
       "      <th>mental_health_interview</th>\n",
       "      <th>phys_health_interview</th>\n",
       "      <th>mental_vs_physical</th>\n",
       "      <th>obs_consequence</th>\n",
       "    </tr>\n",
       "  </thead>\n",
       "  <tbody>\n",
       "    <tr>\n",
       "      <th>0</th>\n",
       "      <td>37</td>\n",
       "      <td>Female</td>\n",
       "      <td>United States</td>\n",
       "      <td>IL</td>\n",
       "      <td>NaN</td>\n",
       "      <td>No</td>\n",
       "      <td>Yes</td>\n",
       "      <td>Often</td>\n",
       "      <td>6-25</td>\n",
       "      <td>No</td>\n",
       "      <td>...</td>\n",
       "      <td>Yes</td>\n",
       "      <td>Somewhat easy</td>\n",
       "      <td>No</td>\n",
       "      <td>No</td>\n",
       "      <td>Some of them</td>\n",
       "      <td>Yes</td>\n",
       "      <td>No</td>\n",
       "      <td>Maybe</td>\n",
       "      <td>Yes</td>\n",
       "      <td>No</td>\n",
       "    </tr>\n",
       "    <tr>\n",
       "      <th>1</th>\n",
       "      <td>44</td>\n",
       "      <td>M</td>\n",
       "      <td>United States</td>\n",
       "      <td>IN</td>\n",
       "      <td>NaN</td>\n",
       "      <td>No</td>\n",
       "      <td>No</td>\n",
       "      <td>Rarely</td>\n",
       "      <td>More than 1000</td>\n",
       "      <td>No</td>\n",
       "      <td>...</td>\n",
       "      <td>Don't know</td>\n",
       "      <td>Don't know</td>\n",
       "      <td>Maybe</td>\n",
       "      <td>No</td>\n",
       "      <td>No</td>\n",
       "      <td>No</td>\n",
       "      <td>No</td>\n",
       "      <td>No</td>\n",
       "      <td>Don't know</td>\n",
       "      <td>No</td>\n",
       "    </tr>\n",
       "    <tr>\n",
       "      <th>2</th>\n",
       "      <td>32</td>\n",
       "      <td>Male</td>\n",
       "      <td>Canada</td>\n",
       "      <td>NaN</td>\n",
       "      <td>NaN</td>\n",
       "      <td>No</td>\n",
       "      <td>No</td>\n",
       "      <td>Rarely</td>\n",
       "      <td>6-25</td>\n",
       "      <td>No</td>\n",
       "      <td>...</td>\n",
       "      <td>Don't know</td>\n",
       "      <td>Somewhat difficult</td>\n",
       "      <td>No</td>\n",
       "      <td>No</td>\n",
       "      <td>Yes</td>\n",
       "      <td>Yes</td>\n",
       "      <td>Yes</td>\n",
       "      <td>Yes</td>\n",
       "      <td>No</td>\n",
       "      <td>No</td>\n",
       "    </tr>\n",
       "    <tr>\n",
       "      <th>3</th>\n",
       "      <td>31</td>\n",
       "      <td>Male</td>\n",
       "      <td>United Kingdom</td>\n",
       "      <td>NaN</td>\n",
       "      <td>NaN</td>\n",
       "      <td>Yes</td>\n",
       "      <td>Yes</td>\n",
       "      <td>Often</td>\n",
       "      <td>26-100</td>\n",
       "      <td>No</td>\n",
       "      <td>...</td>\n",
       "      <td>No</td>\n",
       "      <td>Somewhat difficult</td>\n",
       "      <td>Yes</td>\n",
       "      <td>Yes</td>\n",
       "      <td>Some of them</td>\n",
       "      <td>No</td>\n",
       "      <td>Maybe</td>\n",
       "      <td>Maybe</td>\n",
       "      <td>No</td>\n",
       "      <td>Yes</td>\n",
       "    </tr>\n",
       "    <tr>\n",
       "      <th>4</th>\n",
       "      <td>31</td>\n",
       "      <td>Male</td>\n",
       "      <td>United States</td>\n",
       "      <td>TX</td>\n",
       "      <td>NaN</td>\n",
       "      <td>No</td>\n",
       "      <td>No</td>\n",
       "      <td>Never</td>\n",
       "      <td>100-500</td>\n",
       "      <td>Yes</td>\n",
       "      <td>...</td>\n",
       "      <td>Don't know</td>\n",
       "      <td>Don't know</td>\n",
       "      <td>No</td>\n",
       "      <td>No</td>\n",
       "      <td>Some of them</td>\n",
       "      <td>Yes</td>\n",
       "      <td>Yes</td>\n",
       "      <td>Yes</td>\n",
       "      <td>Don't know</td>\n",
       "      <td>No</td>\n",
       "    </tr>\n",
       "  </tbody>\n",
       "</table>\n",
       "<p>5 rows × 25 columns</p>\n",
       "</div>"
      ],
      "text/plain": [
       "   Age  Gender         Country state self_employed family_history treatment  \\\n",
       "0   37  Female   United States    IL           NaN             No       Yes   \n",
       "1   44       M   United States    IN           NaN             No        No   \n",
       "2   32    Male          Canada   NaN           NaN             No        No   \n",
       "3   31    Male  United Kingdom   NaN           NaN            Yes       Yes   \n",
       "4   31    Male   United States    TX           NaN             No        No   \n",
       "\n",
       "  work_interfere    no_employees remote_work       ...         anonymity  \\\n",
       "0          Often            6-25          No       ...               Yes   \n",
       "1         Rarely  More than 1000          No       ...        Don't know   \n",
       "2         Rarely            6-25          No       ...        Don't know   \n",
       "3          Often          26-100          No       ...                No   \n",
       "4          Never         100-500         Yes       ...        Don't know   \n",
       "\n",
       "                leave mental_health_consequence phys_health_consequence  \\\n",
       "0       Somewhat easy                        No                      No   \n",
       "1          Don't know                     Maybe                      No   \n",
       "2  Somewhat difficult                        No                      No   \n",
       "3  Somewhat difficult                       Yes                     Yes   \n",
       "4          Don't know                        No                      No   \n",
       "\n",
       "      coworkers supervisor mental_health_interview phys_health_interview  \\\n",
       "0  Some of them        Yes                      No                 Maybe   \n",
       "1            No         No                      No                    No   \n",
       "2           Yes        Yes                     Yes                   Yes   \n",
       "3  Some of them         No                   Maybe                 Maybe   \n",
       "4  Some of them        Yes                     Yes                   Yes   \n",
       "\n",
       "  mental_vs_physical obs_consequence  \n",
       "0                Yes              No  \n",
       "1         Don't know              No  \n",
       "2                 No              No  \n",
       "3                 No             Yes  \n",
       "4         Don't know              No  \n",
       "\n",
       "[5 rows x 25 columns]"
      ]
     },
     "execution_count": 9,
     "metadata": {},
     "output_type": "execute_result"
    }
   ],
   "source": [
    "data.head()"
   ]
  },
  {
   "cell_type": "code",
   "execution_count": 10,
   "metadata": {},
   "outputs": [
    {
     "data": {
      "text/html": [
       "<div>\n",
       "<style scoped>\n",
       "    .dataframe tbody tr th:only-of-type {\n",
       "        vertical-align: middle;\n",
       "    }\n",
       "\n",
       "    .dataframe tbody tr th {\n",
       "        vertical-align: top;\n",
       "    }\n",
       "\n",
       "    .dataframe thead th {\n",
       "        text-align: right;\n",
       "    }\n",
       "</style>\n",
       "<table border=\"1\" class=\"dataframe\">\n",
       "  <thead>\n",
       "    <tr style=\"text-align: right;\">\n",
       "      <th></th>\n",
       "      <th>Country</th>\n",
       "      <th>state</th>\n",
       "    </tr>\n",
       "  </thead>\n",
       "  <tbody>\n",
       "    <tr>\n",
       "      <th>2</th>\n",
       "      <td>Canada</td>\n",
       "      <td>NaN</td>\n",
       "    </tr>\n",
       "    <tr>\n",
       "      <th>7</th>\n",
       "      <td>Canada</td>\n",
       "      <td>NaN</td>\n",
       "    </tr>\n",
       "    <tr>\n",
       "      <th>9</th>\n",
       "      <td>Canada</td>\n",
       "      <td>NaN</td>\n",
       "    </tr>\n",
       "    <tr>\n",
       "      <th>14</th>\n",
       "      <td>Canada</td>\n",
       "      <td>NaN</td>\n",
       "    </tr>\n",
       "    <tr>\n",
       "      <th>36</th>\n",
       "      <td>Canada</td>\n",
       "      <td>NaN</td>\n",
       "    </tr>\n",
       "    <tr>\n",
       "      <th>42</th>\n",
       "      <td>Canada</td>\n",
       "      <td>NaN</td>\n",
       "    </tr>\n",
       "    <tr>\n",
       "      <th>48</th>\n",
       "      <td>Canada</td>\n",
       "      <td>NaN</td>\n",
       "    </tr>\n",
       "    <tr>\n",
       "      <th>59</th>\n",
       "      <td>Canada</td>\n",
       "      <td>NaN</td>\n",
       "    </tr>\n",
       "    <tr>\n",
       "      <th>64</th>\n",
       "      <td>Canada</td>\n",
       "      <td>NaN</td>\n",
       "    </tr>\n",
       "    <tr>\n",
       "      <th>71</th>\n",
       "      <td>Canada</td>\n",
       "      <td>NaN</td>\n",
       "    </tr>\n",
       "    <tr>\n",
       "      <th>82</th>\n",
       "      <td>Canada</td>\n",
       "      <td>NaN</td>\n",
       "    </tr>\n",
       "    <tr>\n",
       "      <th>94</th>\n",
       "      <td>Canada</td>\n",
       "      <td>NaN</td>\n",
       "    </tr>\n",
       "    <tr>\n",
       "      <th>100</th>\n",
       "      <td>Canada</td>\n",
       "      <td>NaN</td>\n",
       "    </tr>\n",
       "    <tr>\n",
       "      <th>117</th>\n",
       "      <td>Canada</td>\n",
       "      <td>NaN</td>\n",
       "    </tr>\n",
       "    <tr>\n",
       "      <th>124</th>\n",
       "      <td>Canada</td>\n",
       "      <td>NaN</td>\n",
       "    </tr>\n",
       "    <tr>\n",
       "      <th>134</th>\n",
       "      <td>Canada</td>\n",
       "      <td>NaN</td>\n",
       "    </tr>\n",
       "    <tr>\n",
       "      <th>150</th>\n",
       "      <td>Canada</td>\n",
       "      <td>NaN</td>\n",
       "    </tr>\n",
       "    <tr>\n",
       "      <th>174</th>\n",
       "      <td>Canada</td>\n",
       "      <td>NaN</td>\n",
       "    </tr>\n",
       "    <tr>\n",
       "      <th>206</th>\n",
       "      <td>Canada</td>\n",
       "      <td>NaN</td>\n",
       "    </tr>\n",
       "    <tr>\n",
       "      <th>217</th>\n",
       "      <td>Canada</td>\n",
       "      <td>NaN</td>\n",
       "    </tr>\n",
       "    <tr>\n",
       "      <th>236</th>\n",
       "      <td>Canada</td>\n",
       "      <td>NaN</td>\n",
       "    </tr>\n",
       "    <tr>\n",
       "      <th>239</th>\n",
       "      <td>Canada</td>\n",
       "      <td>NaN</td>\n",
       "    </tr>\n",
       "    <tr>\n",
       "      <th>255</th>\n",
       "      <td>Canada</td>\n",
       "      <td>NaN</td>\n",
       "    </tr>\n",
       "    <tr>\n",
       "      <th>261</th>\n",
       "      <td>Canada</td>\n",
       "      <td>NaN</td>\n",
       "    </tr>\n",
       "    <tr>\n",
       "      <th>264</th>\n",
       "      <td>Canada</td>\n",
       "      <td>NaN</td>\n",
       "    </tr>\n",
       "    <tr>\n",
       "      <th>275</th>\n",
       "      <td>Canada</td>\n",
       "      <td>NaN</td>\n",
       "    </tr>\n",
       "    <tr>\n",
       "      <th>284</th>\n",
       "      <td>Canada</td>\n",
       "      <td>NaN</td>\n",
       "    </tr>\n",
       "    <tr>\n",
       "      <th>305</th>\n",
       "      <td>Canada</td>\n",
       "      <td>NaN</td>\n",
       "    </tr>\n",
       "    <tr>\n",
       "      <th>310</th>\n",
       "      <td>Canada</td>\n",
       "      <td>NaN</td>\n",
       "    </tr>\n",
       "    <tr>\n",
       "      <th>331</th>\n",
       "      <td>Canada</td>\n",
       "      <td>NaN</td>\n",
       "    </tr>\n",
       "    <tr>\n",
       "      <th>...</th>\n",
       "      <td>...</td>\n",
       "      <td>...</td>\n",
       "    </tr>\n",
       "    <tr>\n",
       "      <th>582</th>\n",
       "      <td>Canada</td>\n",
       "      <td>NaN</td>\n",
       "    </tr>\n",
       "    <tr>\n",
       "      <th>592</th>\n",
       "      <td>Canada</td>\n",
       "      <td>NaN</td>\n",
       "    </tr>\n",
       "    <tr>\n",
       "      <th>626</th>\n",
       "      <td>Canada</td>\n",
       "      <td>NaN</td>\n",
       "    </tr>\n",
       "    <tr>\n",
       "      <th>628</th>\n",
       "      <td>Canada</td>\n",
       "      <td>NaN</td>\n",
       "    </tr>\n",
       "    <tr>\n",
       "      <th>672</th>\n",
       "      <td>Canada</td>\n",
       "      <td>NaN</td>\n",
       "    </tr>\n",
       "    <tr>\n",
       "      <th>674</th>\n",
       "      <td>Canada</td>\n",
       "      <td>NaN</td>\n",
       "    </tr>\n",
       "    <tr>\n",
       "      <th>683</th>\n",
       "      <td>Canada</td>\n",
       "      <td>NaN</td>\n",
       "    </tr>\n",
       "    <tr>\n",
       "      <th>690</th>\n",
       "      <td>Canada</td>\n",
       "      <td>NaN</td>\n",
       "    </tr>\n",
       "    <tr>\n",
       "      <th>693</th>\n",
       "      <td>Canada</td>\n",
       "      <td>NaN</td>\n",
       "    </tr>\n",
       "    <tr>\n",
       "      <th>721</th>\n",
       "      <td>Canada</td>\n",
       "      <td>NaN</td>\n",
       "    </tr>\n",
       "    <tr>\n",
       "      <th>722</th>\n",
       "      <td>Canada</td>\n",
       "      <td>NaN</td>\n",
       "    </tr>\n",
       "    <tr>\n",
       "      <th>746</th>\n",
       "      <td>Canada</td>\n",
       "      <td>NaN</td>\n",
       "    </tr>\n",
       "    <tr>\n",
       "      <th>749</th>\n",
       "      <td>Canada</td>\n",
       "      <td>NaN</td>\n",
       "    </tr>\n",
       "    <tr>\n",
       "      <th>760</th>\n",
       "      <td>Canada</td>\n",
       "      <td>NaN</td>\n",
       "    </tr>\n",
       "    <tr>\n",
       "      <th>775</th>\n",
       "      <td>Canada</td>\n",
       "      <td>NaN</td>\n",
       "    </tr>\n",
       "    <tr>\n",
       "      <th>853</th>\n",
       "      <td>Canada</td>\n",
       "      <td>NaN</td>\n",
       "    </tr>\n",
       "    <tr>\n",
       "      <th>914</th>\n",
       "      <td>Canada</td>\n",
       "      <td>NaN</td>\n",
       "    </tr>\n",
       "    <tr>\n",
       "      <th>981</th>\n",
       "      <td>Canada</td>\n",
       "      <td>NaN</td>\n",
       "    </tr>\n",
       "    <tr>\n",
       "      <th>984</th>\n",
       "      <td>Canada</td>\n",
       "      <td>NaN</td>\n",
       "    </tr>\n",
       "    <tr>\n",
       "      <th>1020</th>\n",
       "      <td>Canada</td>\n",
       "      <td>NaN</td>\n",
       "    </tr>\n",
       "    <tr>\n",
       "      <th>1035</th>\n",
       "      <td>Canada</td>\n",
       "      <td>NaN</td>\n",
       "    </tr>\n",
       "    <tr>\n",
       "      <th>1045</th>\n",
       "      <td>Canada</td>\n",
       "      <td>NaN</td>\n",
       "    </tr>\n",
       "    <tr>\n",
       "      <th>1058</th>\n",
       "      <td>Canada</td>\n",
       "      <td>NaN</td>\n",
       "    </tr>\n",
       "    <tr>\n",
       "      <th>1083</th>\n",
       "      <td>Canada</td>\n",
       "      <td>NaN</td>\n",
       "    </tr>\n",
       "    <tr>\n",
       "      <th>1102</th>\n",
       "      <td>Canada</td>\n",
       "      <td>NaN</td>\n",
       "    </tr>\n",
       "    <tr>\n",
       "      <th>1115</th>\n",
       "      <td>Canada</td>\n",
       "      <td>NaN</td>\n",
       "    </tr>\n",
       "    <tr>\n",
       "      <th>1152</th>\n",
       "      <td>Canada</td>\n",
       "      <td>NaN</td>\n",
       "    </tr>\n",
       "    <tr>\n",
       "      <th>1155</th>\n",
       "      <td>Canada</td>\n",
       "      <td>NaN</td>\n",
       "    </tr>\n",
       "    <tr>\n",
       "      <th>1191</th>\n",
       "      <td>Canada</td>\n",
       "      <td>NaN</td>\n",
       "    </tr>\n",
       "    <tr>\n",
       "      <th>1235</th>\n",
       "      <td>Canada</td>\n",
       "      <td>NaN</td>\n",
       "    </tr>\n",
       "  </tbody>\n",
       "</table>\n",
       "<p>72 rows × 2 columns</p>\n",
       "</div>"
      ],
      "text/plain": [
       "     Country state\n",
       "2     Canada   NaN\n",
       "7     Canada   NaN\n",
       "9     Canada   NaN\n",
       "14    Canada   NaN\n",
       "36    Canada   NaN\n",
       "42    Canada   NaN\n",
       "48    Canada   NaN\n",
       "59    Canada   NaN\n",
       "64    Canada   NaN\n",
       "71    Canada   NaN\n",
       "82    Canada   NaN\n",
       "94    Canada   NaN\n",
       "100   Canada   NaN\n",
       "117   Canada   NaN\n",
       "124   Canada   NaN\n",
       "134   Canada   NaN\n",
       "150   Canada   NaN\n",
       "174   Canada   NaN\n",
       "206   Canada   NaN\n",
       "217   Canada   NaN\n",
       "236   Canada   NaN\n",
       "239   Canada   NaN\n",
       "255   Canada   NaN\n",
       "261   Canada   NaN\n",
       "264   Canada   NaN\n",
       "275   Canada   NaN\n",
       "284   Canada   NaN\n",
       "305   Canada   NaN\n",
       "310   Canada   NaN\n",
       "331   Canada   NaN\n",
       "...      ...   ...\n",
       "582   Canada   NaN\n",
       "592   Canada   NaN\n",
       "626   Canada   NaN\n",
       "628   Canada   NaN\n",
       "672   Canada   NaN\n",
       "674   Canada   NaN\n",
       "683   Canada   NaN\n",
       "690   Canada   NaN\n",
       "693   Canada   NaN\n",
       "721   Canada   NaN\n",
       "722   Canada   NaN\n",
       "746   Canada   NaN\n",
       "749   Canada   NaN\n",
       "760   Canada   NaN\n",
       "775   Canada   NaN\n",
       "853   Canada   NaN\n",
       "914   Canada   NaN\n",
       "981   Canada   NaN\n",
       "984   Canada   NaN\n",
       "1020  Canada   NaN\n",
       "1035  Canada   NaN\n",
       "1045  Canada   NaN\n",
       "1058  Canada   NaN\n",
       "1083  Canada   NaN\n",
       "1102  Canada   NaN\n",
       "1115  Canada   NaN\n",
       "1152  Canada   NaN\n",
       "1155  Canada   NaN\n",
       "1191  Canada   NaN\n",
       "1235  Canada   NaN\n",
       "\n",
       "[72 rows x 2 columns]"
      ]
     },
     "execution_count": 10,
     "metadata": {},
     "output_type": "execute_result"
    }
   ],
   "source": [
    "data.loc[data.Country=='Canada',['Country','state']]"
   ]
  },
  {
   "cell_type": "code",
   "execution_count": 11,
   "metadata": {},
   "outputs": [
    {
     "data": {
      "text/html": [
       "<div>\n",
       "<style scoped>\n",
       "    .dataframe tbody tr th:only-of-type {\n",
       "        vertical-align: middle;\n",
       "    }\n",
       "\n",
       "    .dataframe tbody tr th {\n",
       "        vertical-align: top;\n",
       "    }\n",
       "\n",
       "    .dataframe thead th {\n",
       "        text-align: right;\n",
       "    }\n",
       "</style>\n",
       "<table border=\"1\" class=\"dataframe\">\n",
       "  <thead>\n",
       "    <tr style=\"text-align: right;\">\n",
       "      <th></th>\n",
       "      <th>Country</th>\n",
       "      <th>state</th>\n",
       "    </tr>\n",
       "  </thead>\n",
       "  <tbody>\n",
       "    <tr>\n",
       "      <th>3</th>\n",
       "      <td>United Kingdom</td>\n",
       "      <td>NaN</td>\n",
       "    </tr>\n",
       "    <tr>\n",
       "      <th>16</th>\n",
       "      <td>United Kingdom</td>\n",
       "      <td>NaN</td>\n",
       "    </tr>\n",
       "    <tr>\n",
       "      <th>29</th>\n",
       "      <td>United Kingdom</td>\n",
       "      <td>NaN</td>\n",
       "    </tr>\n",
       "    <tr>\n",
       "      <th>30</th>\n",
       "      <td>United Kingdom</td>\n",
       "      <td>NaN</td>\n",
       "    </tr>\n",
       "    <tr>\n",
       "      <th>32</th>\n",
       "      <td>United Kingdom</td>\n",
       "      <td>NaN</td>\n",
       "    </tr>\n",
       "    <tr>\n",
       "      <th>40</th>\n",
       "      <td>United Kingdom</td>\n",
       "      <td>NaN</td>\n",
       "    </tr>\n",
       "    <tr>\n",
       "      <th>46</th>\n",
       "      <td>United Kingdom</td>\n",
       "      <td>NaN</td>\n",
       "    </tr>\n",
       "    <tr>\n",
       "      <th>62</th>\n",
       "      <td>United Kingdom</td>\n",
       "      <td>NaN</td>\n",
       "    </tr>\n",
       "    <tr>\n",
       "      <th>73</th>\n",
       "      <td>United Kingdom</td>\n",
       "      <td>NaN</td>\n",
       "    </tr>\n",
       "    <tr>\n",
       "      <th>75</th>\n",
       "      <td>United Kingdom</td>\n",
       "      <td>NaN</td>\n",
       "    </tr>\n",
       "    <tr>\n",
       "      <th>81</th>\n",
       "      <td>United Kingdom</td>\n",
       "      <td>NaN</td>\n",
       "    </tr>\n",
       "    <tr>\n",
       "      <th>86</th>\n",
       "      <td>United Kingdom</td>\n",
       "      <td>NaN</td>\n",
       "    </tr>\n",
       "    <tr>\n",
       "      <th>115</th>\n",
       "      <td>United Kingdom</td>\n",
       "      <td>NaN</td>\n",
       "    </tr>\n",
       "    <tr>\n",
       "      <th>116</th>\n",
       "      <td>United Kingdom</td>\n",
       "      <td>NaN</td>\n",
       "    </tr>\n",
       "    <tr>\n",
       "      <th>126</th>\n",
       "      <td>United Kingdom</td>\n",
       "      <td>NaN</td>\n",
       "    </tr>\n",
       "    <tr>\n",
       "      <th>128</th>\n",
       "      <td>United Kingdom</td>\n",
       "      <td>NaN</td>\n",
       "    </tr>\n",
       "    <tr>\n",
       "      <th>135</th>\n",
       "      <td>United Kingdom</td>\n",
       "      <td>NaN</td>\n",
       "    </tr>\n",
       "    <tr>\n",
       "      <th>136</th>\n",
       "      <td>United Kingdom</td>\n",
       "      <td>NaN</td>\n",
       "    </tr>\n",
       "    <tr>\n",
       "      <th>141</th>\n",
       "      <td>United Kingdom</td>\n",
       "      <td>NaN</td>\n",
       "    </tr>\n",
       "    <tr>\n",
       "      <th>146</th>\n",
       "      <td>United Kingdom</td>\n",
       "      <td>NaN</td>\n",
       "    </tr>\n",
       "    <tr>\n",
       "      <th>154</th>\n",
       "      <td>United Kingdom</td>\n",
       "      <td>NaN</td>\n",
       "    </tr>\n",
       "    <tr>\n",
       "      <th>160</th>\n",
       "      <td>United Kingdom</td>\n",
       "      <td>NaN</td>\n",
       "    </tr>\n",
       "    <tr>\n",
       "      <th>165</th>\n",
       "      <td>United Kingdom</td>\n",
       "      <td>NaN</td>\n",
       "    </tr>\n",
       "    <tr>\n",
       "      <th>169</th>\n",
       "      <td>United Kingdom</td>\n",
       "      <td>NaN</td>\n",
       "    </tr>\n",
       "    <tr>\n",
       "      <th>170</th>\n",
       "      <td>United Kingdom</td>\n",
       "      <td>NaN</td>\n",
       "    </tr>\n",
       "    <tr>\n",
       "      <th>171</th>\n",
       "      <td>United Kingdom</td>\n",
       "      <td>NaN</td>\n",
       "    </tr>\n",
       "    <tr>\n",
       "      <th>176</th>\n",
       "      <td>United Kingdom</td>\n",
       "      <td>NaN</td>\n",
       "    </tr>\n",
       "    <tr>\n",
       "      <th>182</th>\n",
       "      <td>United Kingdom</td>\n",
       "      <td>NaN</td>\n",
       "    </tr>\n",
       "    <tr>\n",
       "      <th>186</th>\n",
       "      <td>United Kingdom</td>\n",
       "      <td>NaN</td>\n",
       "    </tr>\n",
       "    <tr>\n",
       "      <th>188</th>\n",
       "      <td>United Kingdom</td>\n",
       "      <td>NaN</td>\n",
       "    </tr>\n",
       "    <tr>\n",
       "      <th>...</th>\n",
       "      <td>...</td>\n",
       "      <td>...</td>\n",
       "    </tr>\n",
       "    <tr>\n",
       "      <th>1116</th>\n",
       "      <td>United Kingdom</td>\n",
       "      <td>NaN</td>\n",
       "    </tr>\n",
       "    <tr>\n",
       "      <th>1120</th>\n",
       "      <td>United Kingdom</td>\n",
       "      <td>NaN</td>\n",
       "    </tr>\n",
       "    <tr>\n",
       "      <th>1121</th>\n",
       "      <td>United Kingdom</td>\n",
       "      <td>NaN</td>\n",
       "    </tr>\n",
       "    <tr>\n",
       "      <th>1122</th>\n",
       "      <td>United Kingdom</td>\n",
       "      <td>NaN</td>\n",
       "    </tr>\n",
       "    <tr>\n",
       "      <th>1131</th>\n",
       "      <td>United Kingdom</td>\n",
       "      <td>NaN</td>\n",
       "    </tr>\n",
       "    <tr>\n",
       "      <th>1135</th>\n",
       "      <td>United Kingdom</td>\n",
       "      <td>NaN</td>\n",
       "    </tr>\n",
       "    <tr>\n",
       "      <th>1136</th>\n",
       "      <td>United Kingdom</td>\n",
       "      <td>NaN</td>\n",
       "    </tr>\n",
       "    <tr>\n",
       "      <th>1137</th>\n",
       "      <td>United Kingdom</td>\n",
       "      <td>NaN</td>\n",
       "    </tr>\n",
       "    <tr>\n",
       "      <th>1139</th>\n",
       "      <td>United Kingdom</td>\n",
       "      <td>NaN</td>\n",
       "    </tr>\n",
       "    <tr>\n",
       "      <th>1143</th>\n",
       "      <td>United Kingdom</td>\n",
       "      <td>NaN</td>\n",
       "    </tr>\n",
       "    <tr>\n",
       "      <th>1146</th>\n",
       "      <td>United Kingdom</td>\n",
       "      <td>NaN</td>\n",
       "    </tr>\n",
       "    <tr>\n",
       "      <th>1147</th>\n",
       "      <td>United Kingdom</td>\n",
       "      <td>NaN</td>\n",
       "    </tr>\n",
       "    <tr>\n",
       "      <th>1151</th>\n",
       "      <td>United Kingdom</td>\n",
       "      <td>NaN</td>\n",
       "    </tr>\n",
       "    <tr>\n",
       "      <th>1153</th>\n",
       "      <td>United Kingdom</td>\n",
       "      <td>NaN</td>\n",
       "    </tr>\n",
       "    <tr>\n",
       "      <th>1157</th>\n",
       "      <td>United Kingdom</td>\n",
       "      <td>NaN</td>\n",
       "    </tr>\n",
       "    <tr>\n",
       "      <th>1161</th>\n",
       "      <td>United Kingdom</td>\n",
       "      <td>NaN</td>\n",
       "    </tr>\n",
       "    <tr>\n",
       "      <th>1173</th>\n",
       "      <td>United Kingdom</td>\n",
       "      <td>NaN</td>\n",
       "    </tr>\n",
       "    <tr>\n",
       "      <th>1192</th>\n",
       "      <td>United Kingdom</td>\n",
       "      <td>NaN</td>\n",
       "    </tr>\n",
       "    <tr>\n",
       "      <th>1203</th>\n",
       "      <td>United Kingdom</td>\n",
       "      <td>NaN</td>\n",
       "    </tr>\n",
       "    <tr>\n",
       "      <th>1206</th>\n",
       "      <td>United Kingdom</td>\n",
       "      <td>NaN</td>\n",
       "    </tr>\n",
       "    <tr>\n",
       "      <th>1212</th>\n",
       "      <td>United Kingdom</td>\n",
       "      <td>NaN</td>\n",
       "    </tr>\n",
       "    <tr>\n",
       "      <th>1216</th>\n",
       "      <td>United Kingdom</td>\n",
       "      <td>NaN</td>\n",
       "    </tr>\n",
       "    <tr>\n",
       "      <th>1223</th>\n",
       "      <td>United Kingdom</td>\n",
       "      <td>NaN</td>\n",
       "    </tr>\n",
       "    <tr>\n",
       "      <th>1230</th>\n",
       "      <td>United Kingdom</td>\n",
       "      <td>NaN</td>\n",
       "    </tr>\n",
       "    <tr>\n",
       "      <th>1231</th>\n",
       "      <td>United Kingdom</td>\n",
       "      <td>NaN</td>\n",
       "    </tr>\n",
       "    <tr>\n",
       "      <th>1232</th>\n",
       "      <td>United Kingdom</td>\n",
       "      <td>NaN</td>\n",
       "    </tr>\n",
       "    <tr>\n",
       "      <th>1233</th>\n",
       "      <td>United Kingdom</td>\n",
       "      <td>NaN</td>\n",
       "    </tr>\n",
       "    <tr>\n",
       "      <th>1234</th>\n",
       "      <td>United Kingdom</td>\n",
       "      <td>NaN</td>\n",
       "    </tr>\n",
       "    <tr>\n",
       "      <th>1244</th>\n",
       "      <td>United Kingdom</td>\n",
       "      <td>NaN</td>\n",
       "    </tr>\n",
       "    <tr>\n",
       "      <th>1254</th>\n",
       "      <td>United Kingdom</td>\n",
       "      <td>NaN</td>\n",
       "    </tr>\n",
       "  </tbody>\n",
       "</table>\n",
       "<p>185 rows × 2 columns</p>\n",
       "</div>"
      ],
      "text/plain": [
       "             Country state\n",
       "3     United Kingdom   NaN\n",
       "16    United Kingdom   NaN\n",
       "29    United Kingdom   NaN\n",
       "30    United Kingdom   NaN\n",
       "32    United Kingdom   NaN\n",
       "40    United Kingdom   NaN\n",
       "46    United Kingdom   NaN\n",
       "62    United Kingdom   NaN\n",
       "73    United Kingdom   NaN\n",
       "75    United Kingdom   NaN\n",
       "81    United Kingdom   NaN\n",
       "86    United Kingdom   NaN\n",
       "115   United Kingdom   NaN\n",
       "116   United Kingdom   NaN\n",
       "126   United Kingdom   NaN\n",
       "128   United Kingdom   NaN\n",
       "135   United Kingdom   NaN\n",
       "136   United Kingdom   NaN\n",
       "141   United Kingdom   NaN\n",
       "146   United Kingdom   NaN\n",
       "154   United Kingdom   NaN\n",
       "160   United Kingdom   NaN\n",
       "165   United Kingdom   NaN\n",
       "169   United Kingdom   NaN\n",
       "170   United Kingdom   NaN\n",
       "171   United Kingdom   NaN\n",
       "176   United Kingdom   NaN\n",
       "182   United Kingdom   NaN\n",
       "186   United Kingdom   NaN\n",
       "188   United Kingdom   NaN\n",
       "...              ...   ...\n",
       "1116  United Kingdom   NaN\n",
       "1120  United Kingdom   NaN\n",
       "1121  United Kingdom   NaN\n",
       "1122  United Kingdom   NaN\n",
       "1131  United Kingdom   NaN\n",
       "1135  United Kingdom   NaN\n",
       "1136  United Kingdom   NaN\n",
       "1137  United Kingdom   NaN\n",
       "1139  United Kingdom   NaN\n",
       "1143  United Kingdom   NaN\n",
       "1146  United Kingdom   NaN\n",
       "1147  United Kingdom   NaN\n",
       "1151  United Kingdom   NaN\n",
       "1153  United Kingdom   NaN\n",
       "1157  United Kingdom   NaN\n",
       "1161  United Kingdom   NaN\n",
       "1173  United Kingdom   NaN\n",
       "1192  United Kingdom   NaN\n",
       "1203  United Kingdom   NaN\n",
       "1206  United Kingdom   NaN\n",
       "1212  United Kingdom   NaN\n",
       "1216  United Kingdom   NaN\n",
       "1223  United Kingdom   NaN\n",
       "1230  United Kingdom   NaN\n",
       "1231  United Kingdom   NaN\n",
       "1232  United Kingdom   NaN\n",
       "1233  United Kingdom   NaN\n",
       "1234  United Kingdom   NaN\n",
       "1244  United Kingdom   NaN\n",
       "1254  United Kingdom   NaN\n",
       "\n",
       "[185 rows x 2 columns]"
      ]
     },
     "execution_count": 11,
     "metadata": {},
     "output_type": "execute_result"
    }
   ],
   "source": [
    "data.loc[data.Country=='United Kingdom',['Country','state']]"
   ]
  },
  {
   "cell_type": "code",
   "execution_count": 12,
   "metadata": {},
   "outputs": [],
   "source": [
    "data.drop(columns=['state'],inplace=True)"
   ]
  },
  {
   "cell_type": "code",
   "execution_count": 13,
   "metadata": {},
   "outputs": [
    {
     "name": "stdout",
     "output_type": "stream",
     "text": [
      "<class 'pandas.core.frame.DataFrame'>\n",
      "RangeIndex: 1259 entries, 0 to 1258\n",
      "Data columns (total 24 columns):\n",
      "Age                          1259 non-null int64\n",
      "Gender                       1259 non-null object\n",
      "Country                      1259 non-null object\n",
      "self_employed                1241 non-null object\n",
      "family_history               1259 non-null object\n",
      "treatment                    1259 non-null object\n",
      "work_interfere               995 non-null object\n",
      "no_employees                 1259 non-null object\n",
      "remote_work                  1259 non-null object\n",
      "tech_company                 1259 non-null object\n",
      "benefits                     1259 non-null object\n",
      "care_options                 1259 non-null object\n",
      "wellness_program             1259 non-null object\n",
      "seek_help                    1259 non-null object\n",
      "anonymity                    1259 non-null object\n",
      "leave                        1259 non-null object\n",
      "mental_health_consequence    1259 non-null object\n",
      "phys_health_consequence      1259 non-null object\n",
      "coworkers                    1259 non-null object\n",
      "supervisor                   1259 non-null object\n",
      "mental_health_interview      1259 non-null object\n",
      "phys_health_interview        1259 non-null object\n",
      "mental_vs_physical           1259 non-null object\n",
      "obs_consequence              1259 non-null object\n",
      "dtypes: int64(1), object(23)\n",
      "memory usage: 236.1+ KB\n"
     ]
    }
   ],
   "source": [
    "data.info()"
   ]
  },
  {
   "cell_type": "code",
   "execution_count": 14,
   "metadata": {},
   "outputs": [],
   "source": [
    "#Droping null values for column 'self_employed' as there were only 18 records missing\n",
    "data.dropna(subset=['self_employed'],inplace=True)"
   ]
  },
  {
   "cell_type": "code",
   "execution_count": 15,
   "metadata": {},
   "outputs": [
    {
     "name": "stdout",
     "output_type": "stream",
     "text": [
      "<class 'pandas.core.frame.DataFrame'>\n",
      "Int64Index: 1241 entries, 18 to 1258\n",
      "Data columns (total 24 columns):\n",
      "Age                          1241 non-null int64\n",
      "Gender                       1241 non-null object\n",
      "Country                      1241 non-null object\n",
      "self_employed                1241 non-null object\n",
      "family_history               1241 non-null object\n",
      "treatment                    1241 non-null object\n",
      "work_interfere               977 non-null object\n",
      "no_employees                 1241 non-null object\n",
      "remote_work                  1241 non-null object\n",
      "tech_company                 1241 non-null object\n",
      "benefits                     1241 non-null object\n",
      "care_options                 1241 non-null object\n",
      "wellness_program             1241 non-null object\n",
      "seek_help                    1241 non-null object\n",
      "anonymity                    1241 non-null object\n",
      "leave                        1241 non-null object\n",
      "mental_health_consequence    1241 non-null object\n",
      "phys_health_consequence      1241 non-null object\n",
      "coworkers                    1241 non-null object\n",
      "supervisor                   1241 non-null object\n",
      "mental_health_interview      1241 non-null object\n",
      "phys_health_interview        1241 non-null object\n",
      "mental_vs_physical           1241 non-null object\n",
      "obs_consequence              1241 non-null object\n",
      "dtypes: int64(1), object(23)\n",
      "memory usage: 242.4+ KB\n"
     ]
    }
   ],
   "source": [
    "data.info()"
   ]
  },
  {
   "cell_type": "code",
   "execution_count": 16,
   "metadata": {},
   "outputs": [
    {
     "data": {
      "text/plain": [
       "Sometimes    458\n",
       "Never        207\n",
       "Rarely       170\n",
       "Often        142\n",
       "Name: work_interfere, dtype: int64"
      ]
     },
     "execution_count": 16,
     "metadata": {},
     "output_type": "execute_result"
    }
   ],
   "source": [
    "data.work_interfere.value_counts()"
   ]
  },
  {
   "cell_type": "code",
   "execution_count": 17,
   "metadata": {},
   "outputs": [],
   "source": [
    "## filling na values for the column 'work_interfere' with most common value \n",
    "data['work_interfere'] = data['work_interfere'].fillna(value='Sometimes')"
   ]
  },
  {
   "cell_type": "code",
   "execution_count": 18,
   "metadata": {},
   "outputs": [
    {
     "data": {
      "text/plain": [
       "Sometimes    722\n",
       "Never        207\n",
       "Rarely       170\n",
       "Often        142\n",
       "Name: work_interfere, dtype: int64"
      ]
     },
     "execution_count": 18,
     "metadata": {},
     "output_type": "execute_result"
    }
   ],
   "source": [
    "data.work_interfere.value_counts()"
   ]
  },
  {
   "cell_type": "code",
   "execution_count": 19,
   "metadata": {},
   "outputs": [
    {
     "data": {
      "text/plain": [
       "Age                          0\n",
       "Gender                       0\n",
       "Country                      0\n",
       "self_employed                0\n",
       "family_history               0\n",
       "treatment                    0\n",
       "work_interfere               0\n",
       "no_employees                 0\n",
       "remote_work                  0\n",
       "tech_company                 0\n",
       "benefits                     0\n",
       "care_options                 0\n",
       "wellness_program             0\n",
       "seek_help                    0\n",
       "anonymity                    0\n",
       "leave                        0\n",
       "mental_health_consequence    0\n",
       "phys_health_consequence      0\n",
       "coworkers                    0\n",
       "supervisor                   0\n",
       "mental_health_interview      0\n",
       "phys_health_interview        0\n",
       "mental_vs_physical           0\n",
       "obs_consequence              0\n",
       "dtype: int64"
      ]
     },
     "execution_count": 19,
     "metadata": {},
     "output_type": "execute_result"
    }
   ],
   "source": [
    "data.isnull().sum()"
   ]
  },
  {
   "cell_type": "code",
   "execution_count": 20,
   "metadata": {},
   "outputs": [
    {
     "name": "stdout",
     "output_type": "stream",
     "text": [
      "<class 'pandas.core.frame.DataFrame'>\n",
      "Int64Index: 1241 entries, 18 to 1258\n",
      "Data columns (total 24 columns):\n",
      "Age                          1241 non-null int64\n",
      "Gender                       1241 non-null object\n",
      "Country                      1241 non-null object\n",
      "self_employed                1241 non-null object\n",
      "family_history               1241 non-null object\n",
      "treatment                    1241 non-null object\n",
      "work_interfere               1241 non-null object\n",
      "no_employees                 1241 non-null object\n",
      "remote_work                  1241 non-null object\n",
      "tech_company                 1241 non-null object\n",
      "benefits                     1241 non-null object\n",
      "care_options                 1241 non-null object\n",
      "wellness_program             1241 non-null object\n",
      "seek_help                    1241 non-null object\n",
      "anonymity                    1241 non-null object\n",
      "leave                        1241 non-null object\n",
      "mental_health_consequence    1241 non-null object\n",
      "phys_health_consequence      1241 non-null object\n",
      "coworkers                    1241 non-null object\n",
      "supervisor                   1241 non-null object\n",
      "mental_health_interview      1241 non-null object\n",
      "phys_health_interview        1241 non-null object\n",
      "mental_vs_physical           1241 non-null object\n",
      "obs_consequence              1241 non-null object\n",
      "dtypes: int64(1), object(23)\n",
      "memory usage: 242.4+ KB\n"
     ]
    }
   ],
   "source": [
    "data.info()"
   ]
  },
  {
   "cell_type": "markdown",
   "metadata": {},
   "source": [
    "## Finally all the null values was handled"
   ]
  },
  {
   "cell_type": "code",
   "execution_count": 21,
   "metadata": {},
   "outputs": [
    {
     "data": {
      "text/html": [
       "<div>\n",
       "<style scoped>\n",
       "    .dataframe tbody tr th:only-of-type {\n",
       "        vertical-align: middle;\n",
       "    }\n",
       "\n",
       "    .dataframe tbody tr th {\n",
       "        vertical-align: top;\n",
       "    }\n",
       "\n",
       "    .dataframe thead th {\n",
       "        text-align: right;\n",
       "    }\n",
       "</style>\n",
       "<table border=\"1\" class=\"dataframe\">\n",
       "  <thead>\n",
       "    <tr style=\"text-align: right;\">\n",
       "      <th></th>\n",
       "      <th>Age</th>\n",
       "    </tr>\n",
       "  </thead>\n",
       "  <tbody>\n",
       "    <tr>\n",
       "      <th>count</th>\n",
       "      <td>1.241000e+03</td>\n",
       "    </tr>\n",
       "    <tr>\n",
       "      <th>mean</th>\n",
       "      <td>8.058021e+07</td>\n",
       "    </tr>\n",
       "    <tr>\n",
       "      <th>std</th>\n",
       "      <td>2.838665e+09</td>\n",
       "    </tr>\n",
       "    <tr>\n",
       "      <th>min</th>\n",
       "      <td>-1.726000e+03</td>\n",
       "    </tr>\n",
       "    <tr>\n",
       "      <th>25%</th>\n",
       "      <td>2.700000e+01</td>\n",
       "    </tr>\n",
       "    <tr>\n",
       "      <th>50%</th>\n",
       "      <td>3.100000e+01</td>\n",
       "    </tr>\n",
       "    <tr>\n",
       "      <th>75%</th>\n",
       "      <td>3.600000e+01</td>\n",
       "    </tr>\n",
       "    <tr>\n",
       "      <th>max</th>\n",
       "      <td>1.000000e+11</td>\n",
       "    </tr>\n",
       "  </tbody>\n",
       "</table>\n",
       "</div>"
      ],
      "text/plain": [
       "                Age\n",
       "count  1.241000e+03\n",
       "mean   8.058021e+07\n",
       "std    2.838665e+09\n",
       "min   -1.726000e+03\n",
       "25%    2.700000e+01\n",
       "50%    3.100000e+01\n",
       "75%    3.600000e+01\n",
       "max    1.000000e+11"
      ]
     },
     "execution_count": 21,
     "metadata": {},
     "output_type": "execute_result"
    }
   ],
   "source": [
    "data.describe()"
   ]
  },
  {
   "cell_type": "code",
   "execution_count": 22,
   "metadata": {},
   "outputs": [
    {
     "name": "stdout",
     "output_type": "stream",
     "text": [
      "Mean--> 80580208.0\n",
      "Median--> 31.0\n",
      "Mode--> 0    29\n",
      "dtype: int64\n",
      "Standard Deviation 2838664778.11705\n"
     ]
    }
   ],
   "source": [
    "print('Mean-->',data.Age.mean())\n",
    "print('Median-->',data.Age.median())\n",
    "print('Mode-->',data.Age.mode())\n",
    "print('Standard Deviation', data.Age.std())"
   ]
  },
  {
   "cell_type": "code",
   "execution_count": 23,
   "metadata": {},
   "outputs": [
    {
     "data": {
      "text/plain": [
       "<matplotlib.axes._subplots.AxesSubplot at 0x18637e119b0>"
      ]
     },
     "execution_count": 23,
     "metadata": {},
     "output_type": "execute_result"
    },
    {
     "data": {
      "image/png": "[encoded data removed]",
      "text/plain": [
       "<Figure size 432x288 with 1 Axes>"
      ]
     },
     "metadata": {
      "needs_background": "light"
     },
     "output_type": "display_data"
    }
   ],
   "source": [
    "sb.boxplot(data.Age)"
   ]
  },
  {
   "cell_type": "code",
   "execution_count": 24,
   "metadata": {
    "scrolled": false
   },
   "outputs": [
    {
     "data": {
      "text/plain": [
       "<matplotlib.axes._subplots.AxesSubplot at 0x18637bbe080>"
      ]
     },
     "execution_count": 24,
     "metadata": {},
     "output_type": "execute_result"
    },
    {
     "data": {
      "image/png": "[encoded data removed]",
      "text/plain": [
       "<Figure size 432x288 with 1 Axes>"
      ]
     },
     "metadata": {
      "needs_background": "light"
     },
     "output_type": "display_data"
    }
   ],
   "source": [
    "sb.distplot(data.Age)"
   ]
  },
  {
   "cell_type": "code",
   "execution_count": 25,
   "metadata": {
    "scrolled": true
   },
   "outputs": [
    {
     "data": {
      "text/plain": [
       "143             -29\n",
       "364             329\n",
       "390     99999999999\n",
       "715           -1726\n",
       "734               5\n",
       "989               8\n",
       "1127             -1\n",
       "1182             72\n",
       "Name: Age, dtype: int64"
      ]
     },
     "execution_count": 25,
     "metadata": {},
     "output_type": "execute_result"
    }
   ],
   "source": [
    "data.loc[(data.Age>70) | (data.Age<10),'Age']"
   ]
  },
  {
   "cell_type": "markdown",
   "metadata": {},
   "source": [
    "## From above observations we can clearly tell that Outliers exists in the Age Column"
   ]
  },
  {
   "cell_type": "code",
   "execution_count": 26,
   "metadata": {},
   "outputs": [],
   "source": [
    "##Droping the Outliers\n",
    "data.drop(data[(data.Age>70) | (data.Age<10)].index,inplace=True)"
   ]
  },
  {
   "cell_type": "code",
   "execution_count": 27,
   "metadata": {},
   "outputs": [
    {
     "data": {
      "text/html": [
       "<div>\n",
       "<style scoped>\n",
       "    .dataframe tbody tr th:only-of-type {\n",
       "        vertical-align: middle;\n",
       "    }\n",
       "\n",
       "    .dataframe tbody tr th {\n",
       "        vertical-align: top;\n",
       "    }\n",
       "\n",
       "    .dataframe thead th {\n",
       "        text-align: right;\n",
       "    }\n",
       "</style>\n",
       "<table border=\"1\" class=\"dataframe\">\n",
       "  <thead>\n",
       "    <tr style=\"text-align: right;\">\n",
       "      <th></th>\n",
       "      <th>Age</th>\n",
       "    </tr>\n",
       "  </thead>\n",
       "  <tbody>\n",
       "    <tr>\n",
       "      <th>count</th>\n",
       "      <td>1233.000000</td>\n",
       "    </tr>\n",
       "    <tr>\n",
       "      <th>mean</th>\n",
       "      <td>32.012165</td>\n",
       "    </tr>\n",
       "    <tr>\n",
       "      <th>std</th>\n",
       "      <td>7.240916</td>\n",
       "    </tr>\n",
       "    <tr>\n",
       "      <th>min</th>\n",
       "      <td>11.000000</td>\n",
       "    </tr>\n",
       "    <tr>\n",
       "      <th>25%</th>\n",
       "      <td>27.000000</td>\n",
       "    </tr>\n",
       "    <tr>\n",
       "      <th>50%</th>\n",
       "      <td>31.000000</td>\n",
       "    </tr>\n",
       "    <tr>\n",
       "      <th>75%</th>\n",
       "      <td>36.000000</td>\n",
       "    </tr>\n",
       "    <tr>\n",
       "      <th>max</th>\n",
       "      <td>65.000000</td>\n",
       "    </tr>\n",
       "  </tbody>\n",
       "</table>\n",
       "</div>"
      ],
      "text/plain": [
       "               Age\n",
       "count  1233.000000\n",
       "mean     32.012165\n",
       "std       7.240916\n",
       "min      11.000000\n",
       "25%      27.000000\n",
       "50%      31.000000\n",
       "75%      36.000000\n",
       "max      65.000000"
      ]
     },
     "execution_count": 27,
     "metadata": {},
     "output_type": "execute_result"
    }
   ],
   "source": [
    "data.describe()"
   ]
  },
  {
   "cell_type": "code",
   "execution_count": 28,
   "metadata": {},
   "outputs": [
    {
     "data": {
      "text/plain": [
       "<matplotlib.axes._subplots.AxesSubplot at 0x18637e76470>"
      ]
     },
     "execution_count": 28,
     "metadata": {},
     "output_type": "execute_result"
    },
    {
     "data": {
      "image/png": "[encoded data removed]",
      "text/plain": [
       "<Figure size 432x288 with 1 Axes>"
      ]
     },
     "metadata": {
      "needs_background": "light"
     },
     "output_type": "display_data"
    }
   ],
   "source": [
    "sb.boxplot(data.Age)"
   ]
  },
  {
   "cell_type": "code",
   "execution_count": 29,
   "metadata": {},
   "outputs": [
    {
     "data": {
      "text/plain": [
       "<matplotlib.axes._subplots.AxesSubplot at 0x18637eabfd0>"
      ]
     },
     "execution_count": 29,
     "metadata": {},
     "output_type": "execute_result"
    },
    {
     "data": {
      "image/png": "[encoded data removed]",
      "text/plain": [
       "<Figure size 432x288 with 1 Axes>"
      ]
     },
     "metadata": {
      "needs_background": "light"
     },
     "output_type": "display_data"
    }
   ],
   "source": [
    "sb.distplot(data.Age)"
   ]
  },
  {
   "cell_type": "code",
   "execution_count": 30,
   "metadata": {},
   "outputs": [],
   "source": [
    "## Now lets calculate the Zscore for the column 'Age'\n",
    "age_std = np.std(data.Age)\n",
    "age_mean = np.mean(data.Age)"
   ]
  },
  {
   "cell_type": "code",
   "execution_count": 31,
   "metadata": {},
   "outputs": [],
   "source": [
    "zscore_age = [] #The z score tells you how many standard deviations from the mean your score is\n",
    "for i in data.Age:\n",
    "    zscore_age.append((i-age_mean)/age_std)"
   ]
  },
  {
   "cell_type": "code",
   "execution_count": 32,
   "metadata": {
    "scrolled": false
   },
   "outputs": [
    {
     "data": {
      "text/plain": [
       "[1.9325608941143286,\n",
       " 0.550959698287247,\n",
       " -0.41616113879171,\n",
       " -0.13984089962629373,\n",
       " 1.9325608941143286,\n",
       " 1.2417602962007879,\n",
       " 0.13647933953912258,\n",
       " 0.41279957870453887,\n",
       " 0.13647933953912258,\n",
       " 0.41279957870453887,\n",
       " 0.27463945912183074,\n",
       " 0.6891198178699552,\n",
       " -0.0016807800435855774,\n",
       " -0.13984089962629373,\n",
       " -0.2780010192090019,\n",
       " 1.379920415783496,\n",
       " 1.1036001766180796,\n",
       " -0.6924813779571264,\n",
       " -0.41616113879171,\n",
       " 0.8272799374526634,\n",
       " 2.4852013724451614,\n",
       " 0.41279957870453887,\n",
       " -1.1069617367052509,\n",
       " 0.41279957870453887,\n",
       " -0.6924813779571264,\n",
       " -1.9359224542014997,\n",
       " -0.2780010192090019,\n",
       " 0.8272799374526634,\n",
       " -0.5543212583744181,\n",
       " 0.27463945912183074,\n",
       " -0.8306414975398345,\n",
       " -0.2780010192090019,\n",
       " -1.3832819758706671,\n",
       " 0.13647933953912258,\n",
       " -0.13984089962629373,\n",
       " -0.0016807800435855774,\n",
       " -0.5543212583744181,\n",
       " -0.6924813779571264,\n",
       " -0.0016807800435855774,\n",
       " -1.1069617367052509,\n",
       " -0.8306414975398345,\n",
       " 0.13647933953912258,\n",
       " 1.6562406549489121,\n",
       " -0.8306414975398345,\n",
       " -0.6924813779571264,\n",
       " -0.8306414975398345,\n",
       " 0.41279957870453887,\n",
       " 1.1036001766180796,\n",
       " -1.245121856287959,\n",
       " 0.550959698287247,\n",
       " -0.13984089962629373,\n",
       " 0.27463945912183074,\n",
       " -0.5543212583744181,\n",
       " 0.27463945912183074,\n",
       " -1.245121856287959,\n",
       " 0.8272799374526634,\n",
       " 0.13647933953912258,\n",
       " -1.7977623346187916,\n",
       " -0.9688016171225426,\n",
       " -0.13984089962629373,\n",
       " -0.0016807800435855774,\n",
       " -0.5543212583744181,\n",
       " 0.8272799374526634,\n",
       " -1.245121856287959,\n",
       " -0.2780010192090019,\n",
       " -0.6924813779571264,\n",
       " 0.13647933953912258,\n",
       " -0.13984089962629373,\n",
       " 0.9654400570353715,\n",
       " 0.27463945912183074,\n",
       " -0.41616113879171,\n",
       " -0.0016807800435855774,\n",
       " -0.13984089962629373,\n",
       " 1.1036001766180796,\n",
       " 0.27463945912183074,\n",
       " -1.9359224542014997,\n",
       " -0.9688016171225426,\n",
       " -0.41616113879171,\n",
       " -1.1069617367052509,\n",
       " -0.13984089962629373,\n",
       " 0.13647933953912258,\n",
       " -0.2780010192090019,\n",
       " -0.8306414975398345,\n",
       " 1.6562406549489121,\n",
       " -0.9688016171225426,\n",
       " 0.13647933953912258,\n",
       " -0.41616113879171,\n",
       " 0.41279957870453887,\n",
       " 0.41279957870453887,\n",
       " -0.5543212583744181,\n",
       " 0.27463945912183074,\n",
       " -0.0016807800435855774,\n",
       " -1.3832819758706671,\n",
       " -0.5543212583744181,\n",
       " 1.7944007745316204,\n",
       " -0.0016807800435855774,\n",
       " -0.5543212583744181,\n",
       " -0.8306414975398345,\n",
       " -1.5214420954533752,\n",
       " -0.6924813779571264,\n",
       " -1.9359224542014997,\n",
       " 0.41279957870453887,\n",
       " -0.41616113879171,\n",
       " -0.9688016171225426,\n",
       " 0.13647933953912258,\n",
       " 0.550959698287247,\n",
       " -0.6924813779571264,\n",
       " -0.6924813779571264,\n",
       " -0.6924813779571264,\n",
       " -0.0016807800435855774,\n",
       " -0.13984089962629373,\n",
       " -1.7977623346187916,\n",
       " 0.13647933953912258,\n",
       " -0.0016807800435855774,\n",
       " -0.6924813779571264,\n",
       " 0.8272799374526634,\n",
       " -1.1069617367052509,\n",
       " 0.9654400570353715,\n",
       " -0.5543212583744181,\n",
       " 0.9654400570353715,\n",
       " -0.41616113879171,\n",
       " -1.3832819758706671,\n",
       " 0.8272799374526634,\n",
       " 0.6891198178699552,\n",
       " 0.41279957870453887,\n",
       " -0.2780010192090019,\n",
       " 0.6891198178699552,\n",
       " -1.1069617367052509,\n",
       " -1.245121856287959,\n",
       " -0.2780010192090019,\n",
       " -0.41616113879171,\n",
       " -1.7977623346187916,\n",
       " -0.0016807800435855774,\n",
       " -0.5543212583744181,\n",
       " 0.550959698287247,\n",
       " 0.6891198178699552,\n",
       " -0.9688016171225426,\n",
       " -0.6924813779571264,\n",
       " -0.8306414975398345,\n",
       " -0.6924813779571264,\n",
       " -0.9688016171225426,\n",
       " 0.550959698287247,\n",
       " -0.9688016171225426,\n",
       " -0.13984089962629373,\n",
       " -0.8306414975398345,\n",
       " 0.13647933953912258,\n",
       " -0.6924813779571264,\n",
       " 0.27463945912183074,\n",
       " 1.379920415783496,\n",
       " -1.245121856287959,\n",
       " -1.1069617367052509,\n",
       " -0.8306414975398345,\n",
       " -0.13984089962629373,\n",
       " -1.3832819758706671,\n",
       " -1.245121856287959,\n",
       " 0.27463945912183074,\n",
       " -0.13984089962629373,\n",
       " -0.5543212583744181,\n",
       " -0.0016807800435855774,\n",
       " 1.7944007745316204,\n",
       " 0.13647933953912258,\n",
       " -0.41616113879171,\n",
       " -0.8306414975398345,\n",
       " -0.5543212583744181,\n",
       " 1.7944007745316204,\n",
       " 1.5180805353662041,\n",
       " 0.6891198178699552,\n",
       " -1.1069617367052509,\n",
       " -0.8306414975398345,\n",
       " -1.245121856287959,\n",
       " 0.41279957870453887,\n",
       " 0.8272799374526634,\n",
       " -0.5543212583744181,\n",
       " -0.5543212583744181,\n",
       " 0.41279957870453887,\n",
       " -0.0016807800435855774,\n",
       " -0.13984089962629373,\n",
       " 0.41279957870453887,\n",
       " -0.8306414975398345,\n",
       " -0.6924813779571264,\n",
       " -0.5543212583744181,\n",
       " -0.6924813779571264,\n",
       " 0.27463945912183074,\n",
       " 1.2417602962007879,\n",
       " 0.6891198178699552,\n",
       " 0.27463945912183074,\n",
       " -0.0016807800435855774,\n",
       " -1.5214420954533752,\n",
       " -0.2780010192090019,\n",
       " -1.1069617367052509,\n",
       " -0.8306414975398345,\n",
       " 1.1036001766180796,\n",
       " 0.6891198178699552,\n",
       " -0.8306414975398345,\n",
       " -0.0016807800435855774,\n",
       " -0.0016807800435855774,\n",
       " -0.6924813779571264,\n",
       " -0.2780010192090019,\n",
       " -0.13984089962629373,\n",
       " -0.41616113879171,\n",
       " 1.2417602962007879,\n",
       " 0.27463945912183074,\n",
       " 0.13647933953912258,\n",
       " -0.5543212583744181,\n",
       " -0.5543212583744181,\n",
       " -1.245121856287959,\n",
       " -1.1069617367052509,\n",
       " -0.0016807800435855774,\n",
       " 0.27463945912183074,\n",
       " -1.1069617367052509,\n",
       " -0.8306414975398345,\n",
       " 0.550959698287247,\n",
       " 1.2417602962007879,\n",
       " 0.8272799374526634,\n",
       " 0.8272799374526634,\n",
       " -0.2780010192090019,\n",
       " -0.9688016171225426,\n",
       " 0.6891198178699552,\n",
       " 0.27463945912183074,\n",
       " 0.6891198178699552,\n",
       " -0.5543212583744181,\n",
       " -1.3832819758706671,\n",
       " 0.27463945912183074,\n",
       " 0.13647933953912258,\n",
       " -0.9688016171225426,\n",
       " -0.6924813779571264,\n",
       " 1.1036001766180796,\n",
       " -1.5214420954533752,\n",
       " -0.41616113879171,\n",
       " -0.0016807800435855774,\n",
       " -0.41616113879171,\n",
       " -1.245121856287959,\n",
       " -0.5543212583744181,\n",
       " -0.13984089962629373,\n",
       " -0.6924813779571264,\n",
       " -1.1069617367052509,\n",
       " -0.41616113879171,\n",
       " -1.245121856287959,\n",
       " 1.379920415783496,\n",
       " -1.1069617367052509,\n",
       " -0.9688016171225426,\n",
       " -0.6924813779571264,\n",
       " -0.6924813779571264,\n",
       " -0.2780010192090019,\n",
       " -0.41616113879171,\n",
       " 1.5180805353662041,\n",
       " -0.0016807800435855774,\n",
       " 1.2417602962007879,\n",
       " -0.0016807800435855774,\n",
       " 0.6891198178699552,\n",
       " -0.0016807800435855774,\n",
       " -0.2780010192090019,\n",
       " -1.245121856287959,\n",
       " -0.2780010192090019,\n",
       " 0.27463945912183074,\n",
       " 0.8272799374526634,\n",
       " 0.13647933953912258,\n",
       " 0.27463945912183074,\n",
       " -0.5543212583744181,\n",
       " -0.5543212583744181,\n",
       " -1.245121856287959,\n",
       " -1.3832819758706671,\n",
       " -0.6924813779571264,\n",
       " -1.9359224542014997,\n",
       " 0.41279957870453887,\n",
       " -0.9688016171225426,\n",
       " -0.6924813779571264,\n",
       " -0.8306414975398345,\n",
       " -1.9359224542014997,\n",
       " 0.8272799374526634,\n",
       " -0.8306414975398345,\n",
       " -0.2780010192090019,\n",
       " 0.41279957870453887,\n",
       " 1.7944007745316204,\n",
       " -0.0016807800435855774,\n",
       " 3.31416208994141,\n",
       " -1.1069617367052509,\n",
       " -0.2780010192090019,\n",
       " 3.866802568272243,\n",
       " 0.13647933953912258,\n",
       " 0.6891198178699552,\n",
       " -1.245121856287959,\n",
       " -0.13984089962629373,\n",
       " -0.8306414975398345,\n",
       " -0.5543212583744181,\n",
       " 0.6891198178699552,\n",
       " -0.8306414975398345,\n",
       " -0.2780010192090019,\n",
       " -0.8306414975398345,\n",
       " -0.9688016171225426,\n",
       " -0.6924813779571264,\n",
       " -0.9688016171225426,\n",
       " 0.41279957870453887,\n",
       " 0.550959698287247,\n",
       " -0.8306414975398345,\n",
       " -0.6924813779571264,\n",
       " -0.2780010192090019,\n",
       " -0.41616113879171,\n",
       " -0.9688016171225426,\n",
       " -1.3832819758706671,\n",
       " -0.41616113879171,\n",
       " 1.2417602962007879,\n",
       " -0.41616113879171,\n",
       " -0.0016807800435855774,\n",
       " -1.1069617367052509,\n",
       " -0.9688016171225426,\n",
       " -0.9688016171225426,\n",
       " -0.2780010192090019,\n",
       " -0.9688016171225426,\n",
       " -0.2780010192090019,\n",
       " 0.13647933953912258,\n",
       " -1.1069617367052509,\n",
       " -0.9688016171225426,\n",
       " -0.13984089962629373,\n",
       " 1.7944007745316204,\n",
       " -0.41616113879171,\n",
       " 1.9325608941143286,\n",
       " -0.2780010192090019,\n",
       " -0.41616113879171,\n",
       " -1.1069617367052509,\n",
       " -0.41616113879171,\n",
       " 0.41279957870453887,\n",
       " 0.13647933953912258,\n",
       " -0.6924813779571264,\n",
       " 0.550959698287247,\n",
       " 0.13647933953912258,\n",
       " -0.9688016171225426,\n",
       " -1.245121856287959,\n",
       " 3.037841850775994,\n",
       " -1.3832819758706671,\n",
       " -0.9688016171225426,\n",
       " -0.41616113879171,\n",
       " -0.6924813779571264,\n",
       " -0.2780010192090019,\n",
       " -0.8306414975398345,\n",
       " -0.9688016171225426,\n",
       " -0.13984089962629373,\n",
       " 0.13647933953912258,\n",
       " 0.27463945912183074,\n",
       " 0.27463945912183074,\n",
       " -0.41616113879171,\n",
       " 0.13647933953912258,\n",
       " 0.27463945912183074,\n",
       " -0.8306414975398345,\n",
       " -0.0016807800435855774,\n",
       " -0.5543212583744181,\n",
       " 0.41279957870453887,\n",
       " 0.550959698287247,\n",
       " -1.5214420954533752,\n",
       " -1.5214420954533752,\n",
       " -1.3832819758706671,\n",
       " 1.2417602962007879,\n",
       " 3.176001970358702,\n",
       " -0.0016807800435855774,\n",
       " -1.5214420954533752,\n",
       " 1.7944007745316204,\n",
       " -0.6924813779571264,\n",
       " -0.9688016171225426,\n",
       " 0.27463945912183074,\n",
       " -0.8306414975398345,\n",
       " 1.2417602962007879,\n",
       " -0.6924813779571264,\n",
       " -0.13984089962629373,\n",
       " -0.9688016171225426,\n",
       " -0.8306414975398345,\n",
       " -0.6924813779571264,\n",
       " 1.379920415783496,\n",
       " -0.41616113879171,\n",
       " -0.9688016171225426,\n",
       " 0.13647933953912258,\n",
       " 1.1036001766180796,\n",
       " -0.13984089962629373,\n",
       " -0.8306414975398345,\n",
       " -1.1069617367052509,\n",
       " -0.41616113879171,\n",
       " 2.208881133279745,\n",
       " 0.41279957870453887,\n",
       " -0.0016807800435855774,\n",
       " -0.41616113879171,\n",
       " -0.8306414975398345,\n",
       " -0.5543212583744181,\n",
       " -1.245121856287959,\n",
       " 0.41279957870453887,\n",
       " -0.41616113879171,\n",
       " -0.8306414975398345,\n",
       " 0.13647933953912258,\n",
       " 0.13647933953912258,\n",
       " -1.3832819758706671,\n",
       " -0.2780010192090019,\n",
       " 0.13647933953912258,\n",
       " -0.13984089962629373,\n",
       " -1.5214420954533752,\n",
       " -0.13984089962629373,\n",
       " -0.8306414975398345,\n",
       " -0.2780010192090019,\n",
       " -0.2780010192090019,\n",
       " -1.245121856287959,\n",
       " 0.27463945912183074,\n",
       " 3.176001970358702,\n",
       " -0.5543212583744181,\n",
       " -0.8306414975398345,\n",
       " -0.5543212583744181,\n",
       " -0.0016807800435855774,\n",
       " -0.5543212583744181,\n",
       " -1.5214420954533752,\n",
       " -1.1069617367052509,\n",
       " -0.8306414975398345,\n",
       " -1.245121856287959,\n",
       " -1.1069617367052509,\n",
       " -0.5543212583744181,\n",
       " -1.1069617367052509,\n",
       " 0.13647933953912258,\n",
       " 0.27463945912183074,\n",
       " -0.6924813779571264,\n",
       " -0.5543212583744181,\n",
       " -0.8306414975398345,\n",
       " -1.6596022150360834,\n",
       " -1.245121856287959,\n",
       " -0.41616113879171,\n",
       " -0.8306414975398345,\n",
       " 0.550959698287247,\n",
       " 1.2417602962007879,\n",
       " 0.13647933953912258,\n",
       " -1.245121856287959,\n",
       " 0.9654400570353715,\n",
       " 0.27463945912183074,\n",
       " -0.8306414975398345,\n",
       " -1.1069617367052509,\n",
       " 0.6891198178699552,\n",
       " 1.5180805353662041,\n",
       " 1.1036001766180796,\n",
       " -0.2780010192090019,\n",
       " 0.27463945912183074,\n",
       " -0.6924813779571264,\n",
       " 0.550959698287247,\n",
       " -0.6924813779571264,\n",
       " 0.41279957870453887,\n",
       " -0.0016807800435855774,\n",
       " 0.6891198178699552,\n",
       " -0.41616113879171,\n",
       " 0.13647933953912258,\n",
       " -0.5543212583744181,\n",
       " -0.8306414975398345,\n",
       " -0.6924813779571264,\n",
       " 0.8272799374526634,\n",
       " 3.452322209524118,\n",
       " -0.5543212583744181,\n",
       " -0.8306414975398345,\n",
       " 1.379920415783496,\n",
       " -0.13984089962629373,\n",
       " 3.5904823291068264,\n",
       " -0.41616113879171,\n",
       " 0.9654400570353715,\n",
       " 0.27463945912183074,\n",
       " 3.452322209524118,\n",
       " -0.6924813779571264,\n",
       " -1.245121856287959,\n",
       " -1.9359224542014997,\n",
       " -0.2780010192090019,\n",
       " -1.245121856287959,\n",
       " 1.5180805353662041,\n",
       " -1.9359224542014997,\n",
       " -0.41616113879171,\n",
       " 2.208881133279745,\n",
       " 1.5180805353662041,\n",
       " -0.5543212583744181,\n",
       " -0.2780010192090019,\n",
       " -0.8306414975398345,\n",
       " 0.13647933953912258,\n",
       " -0.13984089962629373,\n",
       " -0.2780010192090019,\n",
       " -0.6924813779571264,\n",
       " -1.1069617367052509,\n",
       " -0.9688016171225426,\n",
       " -1.245121856287959,\n",
       " 0.550959698287247,\n",
       " -0.9688016171225426,\n",
       " 3.037841850775994,\n",
       " 0.27463945912183074,\n",
       " 0.8272799374526634,\n",
       " 1.1036001766180796,\n",
       " -0.0016807800435855774,\n",
       " -0.9688016171225426,\n",
       " 0.41279957870453887,\n",
       " 1.9325608941143286,\n",
       " 1.379920415783496,\n",
       " -0.0016807800435855774,\n",
       " 2.0707210136970366,\n",
       " -1.3832819758706671,\n",
       " 0.13647933953912258,\n",
       " -0.9688016171225426,\n",
       " -0.41616113879171,\n",
       " 0.9654400570353715,\n",
       " 0.8272799374526634,\n",
       " 1.5180805353662041,\n",
       " 1.9325608941143286,\n",
       " 0.8272799374526634,\n",
       " 0.13647933953912258,\n",
       " 0.27463945912183074,\n",
       " 4.143122807437659,\n",
       " -1.245121856287959,\n",
       " 0.41279957870453887,\n",
       " -0.9688016171225426,\n",
       " 0.550959698287247,\n",
       " 1.2417602962007879,\n",
       " -1.1069617367052509,\n",
       " 2.623361492027869,\n",
       " -0.41616113879171,\n",
       " -0.13984089962629373,\n",
       " -0.6924813779571264,\n",
       " -0.13984089962629373,\n",
       " -0.6924813779571264,\n",
       " -1.245121856287959,\n",
       " -1.5214420954533752,\n",
       " -0.6924813779571264,\n",
       " 0.9654400570353715,\n",
       " -0.8306414975398345,\n",
       " -0.6924813779571264,\n",
       " -1.3832819758706671,\n",
       " -0.8306414975398345,\n",
       " -0.13984089962629373,\n",
       " -0.0016807800435855774,\n",
       " -0.5543212583744181,\n",
       " -0.5543212583744181,\n",
       " -1.245121856287959,\n",
       " -0.2780010192090019,\n",
       " 0.550959698287247,\n",
       " -1.5214420954533752,\n",
       " -0.2780010192090019,\n",
       " -0.9688016171225426,\n",
       " -0.0016807800435855774,\n",
       " -0.41616113879171,\n",
       " -1.5214420954533752,\n",
       " -0.6924813779571264,\n",
       " -0.0016807800435855774,\n",
       " 0.27463945912183074,\n",
       " 0.13647933953912258,\n",
       " -1.3832819758706671,\n",
       " -1.1069617367052509,\n",
       " 4.557603166185784,\n",
       " -0.6924813779571264,\n",
       " 0.13647933953912258,\n",
       " 0.550959698287247,\n",
       " 1.1036001766180796,\n",
       " -0.5543212583744181,\n",
       " 0.9654400570353715,\n",
       " -0.0016807800435855774,\n",
       " -0.13984089962629373,\n",
       " 0.8272799374526634,\n",
       " -1.245121856287959,\n",
       " 1.379920415783496,\n",
       " -0.6924813779571264,\n",
       " -0.8306414975398345,\n",
       " 2.4852013724451614,\n",
       " 0.6891198178699552,\n",
       " -1.245121856287959,\n",
       " 0.13647933953912258,\n",
       " -0.41616113879171,\n",
       " 0.27463945912183074,\n",
       " 1.2417602962007879,\n",
       " 2.4852013724451614,\n",
       " -0.41616113879171,\n",
       " 0.41279957870453887,\n",
       " -0.6924813779571264,\n",
       " 1.1036001766180796,\n",
       " -0.6924813779571264,\n",
       " -0.41616113879171,\n",
       " -0.13984089962629373,\n",
       " 1.5180805353662041,\n",
       " 0.27463945912183074,\n",
       " -0.41616113879171,\n",
       " -1.7977623346187916,\n",
       " 1.2417602962007879,\n",
       " -0.41616113879171,\n",
       " -1.245121856287959,\n",
       " -1.1069617367052509,\n",
       " -0.13984089962629373,\n",
       " 1.5180805353662041,\n",
       " -0.13984089962629373,\n",
       " -0.41616113879171,\n",
       " 0.41279957870453887,\n",
       " 0.13647933953912258,\n",
       " -0.2780010192090019,\n",
       " -0.6924813779571264,\n",
       " -0.0016807800435855774,\n",
       " 2.4852013724451614,\n",
       " -1.1069617367052509,\n",
       " -0.6924813779571264,\n",
       " -0.6924813779571264,\n",
       " -0.0016807800435855774,\n",
       " 1.379920415783496,\n",
       " 0.6891198178699552,\n",
       " -0.2780010192090019,\n",
       " -0.41616113879171,\n",
       " -0.2780010192090019,\n",
       " 0.41279957870453887,\n",
       " 0.41279957870453887,\n",
       " 0.8272799374526634,\n",
       " -1.3832819758706671,\n",
       " -1.1069617367052509,\n",
       " -1.3832819758706671,\n",
       " -0.13984089962629373,\n",
       " -1.245121856287959,\n",
       " -0.13984089962629373,\n",
       " -0.5543212583744181,\n",
       " 0.6891198178699552,\n",
       " 0.27463945912183074,\n",
       " -0.0016807800435855774,\n",
       " -0.5543212583744181,\n",
       " -1.1069617367052509,\n",
       " 3.31416208994141,\n",
       " -0.13984089962629373,\n",
       " 0.27463945912183074,\n",
       " 0.41279957870453887,\n",
       " -0.5543212583744181,\n",
       " 0.550959698287247,\n",
       " -0.2780010192090019,\n",
       " 0.41279957870453887,\n",
       " 2.347041252862453,\n",
       " 0.550959698287247,\n",
       " 0.41279957870453887,\n",
       " -0.41616113879171,\n",
       " 3.452322209524118,\n",
       " -0.13984089962629373,\n",
       " 0.6891198178699552,\n",
       " -0.9688016171225426,\n",
       " -0.2780010192090019,\n",
       " -0.8306414975398345,\n",
       " -1.3832819758706671,\n",
       " 0.9654400570353715,\n",
       " -0.41616113879171,\n",
       " 3.037841850775994,\n",
       " 0.27463945912183074,\n",
       " -0.0016807800435855774,\n",
       " -0.9688016171225426,\n",
       " -0.41616113879171,\n",
       " -0.0016807800435855774,\n",
       " -0.2780010192090019,\n",
       " -0.13984089962629373,\n",
       " -1.6596022150360834,\n",
       " -0.6924813779571264,\n",
       " -0.0016807800435855774,\n",
       " -0.8306414975398345,\n",
       " -0.2780010192090019,\n",
       " -0.2780010192090019,\n",
       " -1.3832819758706671,\n",
       " -1.1069617367052509,\n",
       " -0.8306414975398345,\n",
       " 1.5180805353662041,\n",
       " -0.8306414975398345,\n",
       " -1.245121856287959,\n",
       " -0.8306414975398345,\n",
       " -0.8306414975398345,\n",
       " 0.41279957870453887,\n",
       " -0.5543212583744181,\n",
       " -1.3832819758706671,\n",
       " -0.41616113879171,\n",
       " -0.41616113879171,\n",
       " 1.7944007745316204,\n",
       " 0.13647933953912258,\n",
       " 0.8272799374526634,\n",
       " -1.7977623346187916,\n",
       " -0.41616113879171,\n",
       " -1.5214420954533752,\n",
       " -1.245121856287959,\n",
       " 0.13647933953912258,\n",
       " 2.347041252862453,\n",
       " -0.5543212583744181,\n",
       " -0.6924813779571264,\n",
       " -1.245121856287959,\n",
       " -0.41616113879171,\n",
       " -0.2780010192090019,\n",
       " -0.5543212583744181,\n",
       " -0.0016807800435855774,\n",
       " -0.0016807800435855774,\n",
       " 0.6891198178699552,\n",
       " 0.9654400570353715,\n",
       " -0.13984089962629373,\n",
       " -0.41616113879171,\n",
       " -0.2780010192090019,\n",
       " 0.13647933953912258,\n",
       " 0.6891198178699552,\n",
       " -1.245121856287959,\n",
       " 1.5180805353662041,\n",
       " -0.0016807800435855774,\n",
       " -0.8306414975398345,\n",
       " -0.0016807800435855774,\n",
       " 0.6891198178699552,\n",
       " -0.41616113879171,\n",
       " 0.27463945912183074,\n",
       " -0.6924813779571264,\n",
       " -0.2780010192090019,\n",
       " -0.41616113879171,\n",
       " -0.0016807800435855774,\n",
       " -0.9688016171225426,\n",
       " 0.6891198178699552,\n",
       " -0.41616113879171,\n",
       " -0.6924813779571264,\n",
       " 0.13647933953912258,\n",
       " -0.2780010192090019,\n",
       " -0.41616113879171,\n",
       " -0.9688016171225426,\n",
       " 0.13647933953912258,\n",
       " -0.13984089962629373,\n",
       " -1.5214420954533752,\n",
       " -0.2780010192090019,\n",
       " -0.41616113879171,\n",
       " 1.5180805353662041,\n",
       " 0.6891198178699552,\n",
       " -1.1069617367052509,\n",
       " -0.41616113879171,\n",
       " -0.13984089962629373,\n",
       " 0.13647933953912258,\n",
       " 1.5180805353662041,\n",
       " 0.13647933953912258,\n",
       " -0.6924813779571264,\n",
       " 0.550959698287247,\n",
       " 0.6891198178699552,\n",
       " -0.0016807800435855774,\n",
       " 0.9654400570353715,\n",
       " -0.13984089962629373,\n",
       " 0.550959698287247,\n",
       " -0.2780010192090019,\n",
       " -0.5543212583744181,\n",
       " -0.0016807800435855774,\n",
       " 0.41279957870453887,\n",
       " -1.7977623346187916,\n",
       " 0.13647933953912258,\n",
       " 1.379920415783496,\n",
       " 0.6891198178699552,\n",
       " 1.1036001766180796,\n",
       " 0.550959698287247,\n",
       " -0.41616113879171,\n",
       " 0.8272799374526634,\n",
       " -0.8306414975398345,\n",
       " 0.27463945912183074,\n",
       " -1.5214420954533752,\n",
       " -0.13984089962629373,\n",
       " 0.6891198178699552,\n",
       " 0.6891198178699552,\n",
       " 0.8272799374526634,\n",
       " -0.6924813779571264,\n",
       " 0.9654400570353715,\n",
       " 0.13647933953912258,\n",
       " -0.6924813779571264,\n",
       " 0.550959698287247,\n",
       " -0.5543212583744181,\n",
       " 0.9654400570353715,\n",
       " 0.13647933953912258,\n",
       " -0.0016807800435855774,\n",
       " -0.5543212583744181,\n",
       " 0.6891198178699552,\n",
       " 0.9654400570353715,\n",
       " 1.5180805353662041,\n",
       " -0.0016807800435855774,\n",
       " -0.6924813779571264,\n",
       " -0.13984089962629373,\n",
       " 1.5180805353662041,\n",
       " 0.13647933953912258,\n",
       " 0.27463945912183074,\n",
       " 0.13647933953912258,\n",
       " -0.9688016171225426,\n",
       " -0.9688016171225426,\n",
       " -0.0016807800435855774,\n",
       " -0.9688016171225426,\n",
       " 0.6891198178699552,\n",
       " 0.9654400570353715,\n",
       " -0.41616113879171,\n",
       " 0.13647933953912258,\n",
       " 0.6891198178699552,\n",
       " 0.41279957870453887,\n",
       " -1.3832819758706671,\n",
       " 0.8272799374526634,\n",
       " -0.0016807800435855774,\n",
       " -0.5543212583744181,\n",
       " -0.6924813779571264,\n",
       " 0.41279957870453887,\n",
       " -0.41616113879171,\n",
       " -1.245121856287959,\n",
       " 0.9654400570353715,\n",
       " -0.2780010192090019,\n",
       " -0.0016807800435855774,\n",
       " -0.5543212583744181,\n",
       " 1.1036001766180796,\n",
       " 0.550959698287247,\n",
       " -0.6924813779571264,\n",
       " 1.2417602962007879,\n",
       " -0.41616113879171,\n",
       " -0.41616113879171,\n",
       " 0.41279957870453887,\n",
       " -0.5543212583744181,\n",
       " 0.550959698287247,\n",
       " 0.9654400570353715,\n",
       " 0.9654400570353715,\n",
       " 1.6562406549489121,\n",
       " -0.8306414975398345,\n",
       " 0.41279957870453887,\n",
       " 1.1036001766180796,\n",
       " 0.41279957870453887,\n",
       " 0.8272799374526634,\n",
       " 0.27463945912183074,\n",
       " 1.5180805353662041,\n",
       " 2.208881133279745,\n",
       " -1.6596022150360834,\n",
       " 1.1036001766180796,\n",
       " -0.41616113879171,\n",
       " 0.41279957870453887,\n",
       " -0.41616113879171,\n",
       " 1.1036001766180796,\n",
       " -0.41616113879171,\n",
       " -0.41616113879171,\n",
       " 0.27463945912183074,\n",
       " 1.6562406549489121,\n",
       " -1.1069617367052509,\n",
       " 2.0707210136970366,\n",
       " 1.5180805353662041,\n",
       " 0.550959698287247,\n",
       " 1.5180805353662041,\n",
       " 0.550959698287247,\n",
       " -0.13984089962629373,\n",
       " 0.41279957870453887,\n",
       " 0.13647933953912258,\n",
       " 0.6891198178699552,\n",
       " 0.27463945912183074,\n",
       " 0.550959698287247,\n",
       " 1.1036001766180796,\n",
       " 1.1036001766180796,\n",
       " 1.379920415783496,\n",
       " -1.245121856287959,\n",
       " -1.5214420954533752,\n",
       " -0.8306414975398345,\n",
       " -0.13984089962629373,\n",
       " -0.9688016171225426,\n",
       " 2.623361492027869,\n",
       " -1.1069617367052509,\n",
       " 0.13647933953912258,\n",
       " -0.0016807800435855774,\n",
       " -0.0016807800435855774,\n",
       " -0.8306414975398345,\n",
       " -1.245121856287959,\n",
       " 0.13647933953912258,\n",
       " 1.9325608941143286,\n",
       " 0.27463945912183074,\n",
       " 0.41279957870453887,\n",
       " 0.9654400570353715,\n",
       " -0.0016807800435855774,\n",
       " 1.5180805353662041,\n",
       " 3.31416208994141,\n",
       " -0.0016807800435855774,\n",
       " 1.2417602962007879,\n",
       " 0.9654400570353715,\n",
       " 0.6891198178699552,\n",
       " -0.2780010192090019,\n",
       " -0.13984089962629373,\n",
       " -0.41616113879171,\n",
       " -1.245121856287959,\n",
       " -0.13984089962629373,\n",
       " -0.41616113879171,\n",
       " -0.2780010192090019,\n",
       " 0.6891198178699552,\n",
       " 0.550959698287247,\n",
       " 0.41279957870453887,\n",
       " 1.2417602962007879,\n",
       " -0.13984089962629373,\n",
       " 0.8272799374526634,\n",
       " -0.8306414975398345,\n",
       " 0.9654400570353715,\n",
       " 1.379920415783496,\n",
       " -0.0016807800435855774,\n",
       " -0.41616113879171,\n",
       " -0.2780010192090019,\n",
       " 1.1036001766180796,\n",
       " 2.623361492027869,\n",
       " 0.13647933953912258,\n",
       " 0.27463945912183074,\n",
       " 2.4852013724451614,\n",
       " -1.1069617367052509,\n",
       " -0.9688016171225426,\n",
       " 1.5180805353662041,\n",
       " -0.9688016171225426,\n",
       " -1.1069617367052509,\n",
       " 2.623361492027869,\n",
       " 2.347041252862453,\n",
       " -0.2780010192090019,\n",
       " -0.9688016171225426,\n",
       " 0.550959698287247,\n",
       " 2.208881133279745,\n",
       " 2.208881133279745,\n",
       " 2.8996817311932856,\n",
       " -1.1069617367052509,\n",
       " 0.13647933953912258,\n",
       " -0.9688016171225426,\n",
       " -0.2780010192090019,\n",
       " -0.2780010192090019,\n",
       " 0.27463945912183074,\n",
       " -0.13984089962629373,\n",
       " -1.3832819758706671,\n",
       " -0.5543212583744181,\n",
       " 0.41279957870453887,\n",
       " -0.5543212583744181,\n",
       " 1.379920415783496,\n",
       " 0.13647933953912258,\n",
       " -0.41616113879171,\n",
       " 1.5180805353662041,\n",
       " -0.41616113879171,\n",
       " -0.9688016171225426,\n",
       " -0.13984089962629373,\n",
       " 0.41279957870453887,\n",
       " 0.27463945912183074,\n",
       " 1.5180805353662041,\n",
       " 0.8272799374526634,\n",
       " -0.8306414975398345,\n",
       " 0.8272799374526634,\n",
       " 1.379920415783496,\n",
       " 0.13647933953912258,\n",
       " -0.0016807800435855774,\n",
       " 1.6562406549489121,\n",
       " -0.5543212583744181,\n",
       " 1.1036001766180796,\n",
       " -0.13984089962629373,\n",
       " -0.0016807800435855774,\n",
       " -0.5543212583744181,\n",
       " 0.9654400570353715,\n",
       " 1.7944007745316204,\n",
       " 1.5180805353662041,\n",
       " 0.41279957870453887,\n",
       " 1.1036001766180796,\n",
       " 0.27463945912183074,\n",
       " -1.1069617367052509,\n",
       " 4.004962687854951,\n",
       " 0.550959698287247,\n",
       " 0.8272799374526634,\n",
       " 0.13647933953912258,\n",
       " -0.2780010192090019,\n",
       " 0.27463945912183074,\n",
       " -0.8306414975398345,\n",
       " 0.13647933953912258,\n",
       " -0.0016807800435855774,\n",
       " -0.9688016171225426,\n",
       " 0.41279957870453887,\n",
       " -1.1069617367052509,\n",
       " 3.176001970358702,\n",
       " 0.13647933953912258,\n",
       " -0.8306414975398345,\n",
       " -0.9688016171225426,\n",
       " 1.7944007745316204,\n",
       " 0.13647933953912258,\n",
       " 1.5180805353662041,\n",
       " -0.2780010192090019,\n",
       " 1.1036001766180796,\n",
       " 2.347041252862453,\n",
       " -0.41616113879171,\n",
       " -0.8306414975398345,\n",
       " 0.8272799374526634,\n",
       " -0.6924813779571264,\n",
       " -0.8306414975398345,\n",
       " -0.5543212583744181,\n",
       " 1.1036001766180796,\n",
       " 0.6891198178699552,\n",
       " 0.27463945912183074,\n",
       " -0.5543212583744181,\n",
       " -0.6924813779571264,\n",
       " -0.41616113879171,\n",
       " 0.9654400570353715,\n",
       " -0.5543212583744181,\n",
       " -1.245121856287959,\n",
       " 0.8272799374526634,\n",
       " -1.7977623346187916,\n",
       " -0.2780010192090019,\n",
       " -0.5543212583744181,\n",
       " -1.6596022150360834,\n",
       " 0.41279957870453887,\n",
       " 0.9654400570353715,\n",
       " -0.13984089962629373,\n",
       " -0.0016807800435855774,\n",
       " -0.6924813779571264,\n",
       " -0.9688016171225426,\n",
       " 1.379920415783496,\n",
       " 0.27463945912183074,\n",
       " -0.8306414975398345,\n",
       " 0.41279957870453887,\n",
       " 0.27463945912183074,\n",
       " 0.8272799374526634,\n",
       " 0.27463945912183074,\n",
       " 0.9654400570353715,\n",
       " 1.6562406549489121,\n",
       " 1.1036001766180796,\n",
       " 0.13647933953912258,\n",
       " -1.1069617367052509,\n",
       " 0.8272799374526634,\n",
       " -0.13984089962629373,\n",
       " -1.245121856287959,\n",
       " -0.8306414975398345,\n",
       " 1.9325608941143286,\n",
       " -0.2780010192090019,\n",
       " -0.9688016171225426,\n",
       " -1.7977623346187916,\n",
       " -0.2780010192090019,\n",
       " -0.0016807800435855774,\n",
       " -0.0016807800435855774,\n",
       " ...]"
      ]
     },
     "execution_count": 32,
     "metadata": {},
     "output_type": "execute_result"
    }
   ],
   "source": [
    "zscore_age"
   ]
  },
  {
   "cell_type": "code",
   "execution_count": 33,
   "metadata": {},
   "outputs": [],
   "source": [
    "data['zscore_age'] = zscore_age"
   ]
  },
  {
   "cell_type": "code",
   "execution_count": 34,
   "metadata": {},
   "outputs": [
    {
     "data": {
      "text/html": [
       "<div>\n",
       "<style scoped>\n",
       "    .dataframe tbody tr th:only-of-type {\n",
       "        vertical-align: middle;\n",
       "    }\n",
       "\n",
       "    .dataframe tbody tr th {\n",
       "        vertical-align: top;\n",
       "    }\n",
       "\n",
       "    .dataframe thead th {\n",
       "        text-align: right;\n",
       "    }\n",
       "</style>\n",
       "<table border=\"1\" class=\"dataframe\">\n",
       "  <thead>\n",
       "    <tr style=\"text-align: right;\">\n",
       "      <th></th>\n",
       "      <th>Age</th>\n",
       "      <th>Gender</th>\n",
       "      <th>Country</th>\n",
       "      <th>self_employed</th>\n",
       "      <th>family_history</th>\n",
       "      <th>treatment</th>\n",
       "      <th>work_interfere</th>\n",
       "      <th>no_employees</th>\n",
       "      <th>remote_work</th>\n",
       "      <th>tech_company</th>\n",
       "      <th>...</th>\n",
       "      <th>leave</th>\n",
       "      <th>mental_health_consequence</th>\n",
       "      <th>phys_health_consequence</th>\n",
       "      <th>coworkers</th>\n",
       "      <th>supervisor</th>\n",
       "      <th>mental_health_interview</th>\n",
       "      <th>phys_health_interview</th>\n",
       "      <th>mental_vs_physical</th>\n",
       "      <th>obs_consequence</th>\n",
       "      <th>zscore_age</th>\n",
       "    </tr>\n",
       "  </thead>\n",
       "  <tbody>\n",
       "    <tr>\n",
       "      <th>18</th>\n",
       "      <td>46</td>\n",
       "      <td>male</td>\n",
       "      <td>United States</td>\n",
       "      <td>Yes</td>\n",
       "      <td>Yes</td>\n",
       "      <td>No</td>\n",
       "      <td>Sometimes</td>\n",
       "      <td>1-5</td>\n",
       "      <td>Yes</td>\n",
       "      <td>Yes</td>\n",
       "      <td>...</td>\n",
       "      <td>Very easy</td>\n",
       "      <td>No</td>\n",
       "      <td>No</td>\n",
       "      <td>Yes</td>\n",
       "      <td>Yes</td>\n",
       "      <td>No</td>\n",
       "      <td>Yes</td>\n",
       "      <td>Yes</td>\n",
       "      <td>Yes</td>\n",
       "      <td>1.932561</td>\n",
       "    </tr>\n",
       "    <tr>\n",
       "      <th>19</th>\n",
       "      <td>36</td>\n",
       "      <td>Male</td>\n",
       "      <td>France</td>\n",
       "      <td>Yes</td>\n",
       "      <td>Yes</td>\n",
       "      <td>No</td>\n",
       "      <td>Sometimes</td>\n",
       "      <td>6-25</td>\n",
       "      <td>Yes</td>\n",
       "      <td>Yes</td>\n",
       "      <td>...</td>\n",
       "      <td>Somewhat easy</td>\n",
       "      <td>No</td>\n",
       "      <td>No</td>\n",
       "      <td>Some of them</td>\n",
       "      <td>Some of them</td>\n",
       "      <td>Maybe</td>\n",
       "      <td>Maybe</td>\n",
       "      <td>Don't know</td>\n",
       "      <td>No</td>\n",
       "      <td>0.550960</td>\n",
       "    </tr>\n",
       "    <tr>\n",
       "      <th>20</th>\n",
       "      <td>29</td>\n",
       "      <td>Male</td>\n",
       "      <td>United States</td>\n",
       "      <td>No</td>\n",
       "      <td>Yes</td>\n",
       "      <td>Yes</td>\n",
       "      <td>Sometimes</td>\n",
       "      <td>100-500</td>\n",
       "      <td>No</td>\n",
       "      <td>Yes</td>\n",
       "      <td>...</td>\n",
       "      <td>Somewhat difficult</td>\n",
       "      <td>Maybe</td>\n",
       "      <td>No</td>\n",
       "      <td>Some of them</td>\n",
       "      <td>Some of them</td>\n",
       "      <td>No</td>\n",
       "      <td>No</td>\n",
       "      <td>No</td>\n",
       "      <td>No</td>\n",
       "      <td>-0.416161</td>\n",
       "    </tr>\n",
       "    <tr>\n",
       "      <th>21</th>\n",
       "      <td>31</td>\n",
       "      <td>male</td>\n",
       "      <td>United States</td>\n",
       "      <td>Yes</td>\n",
       "      <td>No</td>\n",
       "      <td>No</td>\n",
       "      <td>Never</td>\n",
       "      <td>1-5</td>\n",
       "      <td>Yes</td>\n",
       "      <td>Yes</td>\n",
       "      <td>...</td>\n",
       "      <td>Somewhat difficult</td>\n",
       "      <td>No</td>\n",
       "      <td>No</td>\n",
       "      <td>Some of them</td>\n",
       "      <td>Some of them</td>\n",
       "      <td>No</td>\n",
       "      <td>Maybe</td>\n",
       "      <td>Yes</td>\n",
       "      <td>No</td>\n",
       "      <td>-0.139841</td>\n",
       "    </tr>\n",
       "    <tr>\n",
       "      <th>22</th>\n",
       "      <td>46</td>\n",
       "      <td>Male</td>\n",
       "      <td>United States</td>\n",
       "      <td>No</td>\n",
       "      <td>No</td>\n",
       "      <td>Yes</td>\n",
       "      <td>Often</td>\n",
       "      <td>26-100</td>\n",
       "      <td>Yes</td>\n",
       "      <td>Yes</td>\n",
       "      <td>...</td>\n",
       "      <td>Don't know</td>\n",
       "      <td>Maybe</td>\n",
       "      <td>No</td>\n",
       "      <td>Some of them</td>\n",
       "      <td>Yes</td>\n",
       "      <td>No</td>\n",
       "      <td>Maybe</td>\n",
       "      <td>No</td>\n",
       "      <td>No</td>\n",
       "      <td>1.932561</td>\n",
       "    </tr>\n",
       "  </tbody>\n",
       "</table>\n",
       "<p>5 rows × 25 columns</p>\n",
       "</div>"
      ],
      "text/plain": [
       "    Age Gender        Country self_employed family_history treatment  \\\n",
       "18   46   male  United States           Yes            Yes        No   \n",
       "19   36   Male         France           Yes            Yes        No   \n",
       "20   29   Male  United States            No            Yes       Yes   \n",
       "21   31   male  United States           Yes             No        No   \n",
       "22   46   Male  United States            No             No       Yes   \n",
       "\n",
       "   work_interfere no_employees remote_work tech_company    ...      \\\n",
       "18      Sometimes          1-5         Yes          Yes    ...       \n",
       "19      Sometimes         6-25         Yes          Yes    ...       \n",
       "20      Sometimes      100-500          No          Yes    ...       \n",
       "21          Never          1-5         Yes          Yes    ...       \n",
       "22          Often       26-100         Yes          Yes    ...       \n",
       "\n",
       "                 leave mental_health_consequence phys_health_consequence  \\\n",
       "18           Very easy                        No                      No   \n",
       "19       Somewhat easy                        No                      No   \n",
       "20  Somewhat difficult                     Maybe                      No   \n",
       "21  Somewhat difficult                        No                      No   \n",
       "22          Don't know                     Maybe                      No   \n",
       "\n",
       "       coworkers    supervisor mental_health_interview phys_health_interview  \\\n",
       "18           Yes           Yes                      No                   Yes   \n",
       "19  Some of them  Some of them                   Maybe                 Maybe   \n",
       "20  Some of them  Some of them                      No                    No   \n",
       "21  Some of them  Some of them                      No                 Maybe   \n",
       "22  Some of them           Yes                      No                 Maybe   \n",
       "\n",
       "   mental_vs_physical obs_consequence zscore_age  \n",
       "18                Yes             Yes   1.932561  \n",
       "19         Don't know              No   0.550960  \n",
       "20                 No              No  -0.416161  \n",
       "21                Yes              No  -0.139841  \n",
       "22                 No              No   1.932561  \n",
       "\n",
       "[5 rows x 25 columns]"
      ]
     },
     "execution_count": 34,
     "metadata": {},
     "output_type": "execute_result"
    }
   ],
   "source": [
    "data.head()"
   ]
  },
  {
   "cell_type": "code",
   "execution_count": 35,
   "metadata": {},
   "outputs": [
    {
     "data": {
      "text/html": [
       "<div>\n",
       "<style scoped>\n",
       "    .dataframe tbody tr th:only-of-type {\n",
       "        vertical-align: middle;\n",
       "    }\n",
       "\n",
       "    .dataframe tbody tr th {\n",
       "        vertical-align: top;\n",
       "    }\n",
       "\n",
       "    .dataframe thead th {\n",
       "        text-align: right;\n",
       "    }\n",
       "</style>\n",
       "<table border=\"1\" class=\"dataframe\">\n",
       "  <thead>\n",
       "    <tr style=\"text-align: right;\">\n",
       "      <th></th>\n",
       "      <th>Age</th>\n",
       "      <th>zscore_age</th>\n",
       "    </tr>\n",
       "  </thead>\n",
       "  <tbody>\n",
       "    <tr>\n",
       "      <th>294</th>\n",
       "      <td>56</td>\n",
       "      <td>3.314162</td>\n",
       "    </tr>\n",
       "    <tr>\n",
       "      <th>297</th>\n",
       "      <td>60</td>\n",
       "      <td>3.866803</td>\n",
       "    </tr>\n",
       "    <tr>\n",
       "      <th>347</th>\n",
       "      <td>54</td>\n",
       "      <td>3.037842</td>\n",
       "    </tr>\n",
       "    <tr>\n",
       "      <th>372</th>\n",
       "      <td>55</td>\n",
       "      <td>3.176002</td>\n",
       "    </tr>\n",
       "    <tr>\n",
       "      <th>419</th>\n",
       "      <td>55</td>\n",
       "      <td>3.176002</td>\n",
       "    </tr>\n",
       "    <tr>\n",
       "      <th>466</th>\n",
       "      <td>57</td>\n",
       "      <td>3.452322</td>\n",
       "    </tr>\n",
       "    <tr>\n",
       "      <th>471</th>\n",
       "      <td>58</td>\n",
       "      <td>3.590482</td>\n",
       "    </tr>\n",
       "    <tr>\n",
       "      <th>475</th>\n",
       "      <td>57</td>\n",
       "      <td>3.452322</td>\n",
       "    </tr>\n",
       "    <tr>\n",
       "      <th>498</th>\n",
       "      <td>54</td>\n",
       "      <td>3.037842</td>\n",
       "    </tr>\n",
       "    <tr>\n",
       "      <th>520</th>\n",
       "      <td>62</td>\n",
       "      <td>4.143123</td>\n",
       "    </tr>\n",
       "    <tr>\n",
       "      <th>560</th>\n",
       "      <td>65</td>\n",
       "      <td>4.557603</td>\n",
       "    </tr>\n",
       "    <tr>\n",
       "      <th>631</th>\n",
       "      <td>56</td>\n",
       "      <td>3.314162</td>\n",
       "    </tr>\n",
       "    <tr>\n",
       "      <th>643</th>\n",
       "      <td>57</td>\n",
       "      <td>3.452322</td>\n",
       "    </tr>\n",
       "    <tr>\n",
       "      <th>652</th>\n",
       "      <td>54</td>\n",
       "      <td>3.037842</td>\n",
       "    </tr>\n",
       "    <tr>\n",
       "      <th>870</th>\n",
       "      <td>56</td>\n",
       "      <td>3.314162</td>\n",
       "    </tr>\n",
       "    <tr>\n",
       "      <th>952</th>\n",
       "      <td>61</td>\n",
       "      <td>4.004963</td>\n",
       "    </tr>\n",
       "    <tr>\n",
       "      <th>964</th>\n",
       "      <td>55</td>\n",
       "      <td>3.176002</td>\n",
       "    </tr>\n",
       "    <tr>\n",
       "      <th>1186</th>\n",
       "      <td>56</td>\n",
       "      <td>3.314162</td>\n",
       "    </tr>\n",
       "    <tr>\n",
       "      <th>1236</th>\n",
       "      <td>60</td>\n",
       "      <td>3.866803</td>\n",
       "    </tr>\n",
       "  </tbody>\n",
       "</table>\n",
       "</div>"
      ],
      "text/plain": [
       "      Age  zscore_age\n",
       "294    56    3.314162\n",
       "297    60    3.866803\n",
       "347    54    3.037842\n",
       "372    55    3.176002\n",
       "419    55    3.176002\n",
       "466    57    3.452322\n",
       "471    58    3.590482\n",
       "475    57    3.452322\n",
       "498    54    3.037842\n",
       "520    62    4.143123\n",
       "560    65    4.557603\n",
       "631    56    3.314162\n",
       "643    57    3.452322\n",
       "652    54    3.037842\n",
       "870    56    3.314162\n",
       "952    61    4.004963\n",
       "964    55    3.176002\n",
       "1186   56    3.314162\n",
       "1236   60    3.866803"
      ]
     },
     "execution_count": 35,
     "metadata": {},
     "output_type": "execute_result"
    }
   ],
   "source": [
    "data.loc[((data.zscore_age>3) | (data.zscore_age<-3)),['Age','zscore_age']]"
   ]
  },
  {
   "cell_type": "code",
   "execution_count": 36,
   "metadata": {},
   "outputs": [
    {
     "data": {
      "text/html": [
       "<div>\n",
       "<style scoped>\n",
       "    .dataframe tbody tr th:only-of-type {\n",
       "        vertical-align: middle;\n",
       "    }\n",
       "\n",
       "    .dataframe tbody tr th {\n",
       "        vertical-align: top;\n",
       "    }\n",
       "\n",
       "    .dataframe thead th {\n",
       "        text-align: right;\n",
       "    }\n",
       "</style>\n",
       "<table border=\"1\" class=\"dataframe\">\n",
       "  <thead>\n",
       "    <tr style=\"text-align: right;\">\n",
       "      <th></th>\n",
       "      <th>Age</th>\n",
       "    </tr>\n",
       "  </thead>\n",
       "  <tbody>\n",
       "    <tr>\n",
       "      <th>911</th>\n",
       "      <td>53</td>\n",
       "    </tr>\n",
       "  </tbody>\n",
       "</table>\n",
       "</div>"
      ],
      "text/plain": [
       "     Age\n",
       "911   53"
      ]
     },
     "execution_count": 36,
     "metadata": {},
     "output_type": "execute_result"
    }
   ],
   "source": [
    "data.loc[((data.zscore_age>2.8) & (data.zscore_age<3.0)),['Age']]"
   ]
  },
  {
   "cell_type": "code",
   "execution_count": 37,
   "metadata": {},
   "outputs": [],
   "source": [
    "data.loc[(data.zscore_age>3.0),['Age']]=53"
   ]
  },
  {
   "cell_type": "code",
   "execution_count": 38,
   "metadata": {
    "scrolled": true
   },
   "outputs": [
    {
     "data": {
      "text/plain": [
       "<matplotlib.axes._subplots.AxesSubplot at 0x18639236da0>"
      ]
     },
     "execution_count": 38,
     "metadata": {},
     "output_type": "execute_result"
    },
    {
     "data": {
      "image/png": "[encoded data removed]",
      "text/plain": [
       "<Figure size 432x288 with 1 Axes>"
      ]
     },
     "metadata": {
      "needs_background": "light"
     },
     "output_type": "display_data"
    }
   ],
   "source": [
    "sb.boxplot(data.Age)"
   ]
  },
  {
   "cell_type": "code",
   "execution_count": 39,
   "metadata": {},
   "outputs": [],
   "source": [
    "data.drop(data[data.Age==11].index,inplace=True)"
   ]
  },
  {
   "cell_type": "code",
   "execution_count": 40,
   "metadata": {},
   "outputs": [
    {
     "data": {
      "text/plain": [
       "<matplotlib.axes._subplots.AxesSubplot at 0x186392727f0>"
      ]
     },
     "execution_count": 40,
     "metadata": {},
     "output_type": "execute_result"
    },
    {
     "data": {
      "image/png": "[encoded data removed]",
      "text/plain": [
       "<Figure size 432x288 with 1 Axes>"
      ]
     },
     "metadata": {
      "needs_background": "light"
     },
     "output_type": "display_data"
    }
   ],
   "source": [
    "sb.boxplot(data.Age)"
   ]
  },
  {
   "cell_type": "code",
   "execution_count": 41,
   "metadata": {},
   "outputs": [],
   "source": [
    "data.drop(columns=['zscore_age'],inplace=True)"
   ]
  },
  {
   "cell_type": "code",
   "execution_count": 42,
   "metadata": {},
   "outputs": [
    {
     "name": "stdout",
     "output_type": "stream",
     "text": [
      "<class 'pandas.core.frame.DataFrame'>\n",
      "Int64Index: 1232 entries, 18 to 1258\n",
      "Data columns (total 24 columns):\n",
      "Age                          1232 non-null int64\n",
      "Gender                       1232 non-null object\n",
      "Country                      1232 non-null object\n",
      "self_employed                1232 non-null object\n",
      "family_history               1232 non-null object\n",
      "treatment                    1232 non-null object\n",
      "work_interfere               1232 non-null object\n",
      "no_employees                 1232 non-null object\n",
      "remote_work                  1232 non-null object\n",
      "tech_company                 1232 non-null object\n",
      "benefits                     1232 non-null object\n",
      "care_options                 1232 non-null object\n",
      "wellness_program             1232 non-null object\n",
      "seek_help                    1232 non-null object\n",
      "anonymity                    1232 non-null object\n",
      "leave                        1232 non-null object\n",
      "mental_health_consequence    1232 non-null object\n",
      "phys_health_consequence      1232 non-null object\n",
      "coworkers                    1232 non-null object\n",
      "supervisor                   1232 non-null object\n",
      "mental_health_interview      1232 non-null object\n",
      "phys_health_interview        1232 non-null object\n",
      "mental_vs_physical           1232 non-null object\n",
      "obs_consequence              1232 non-null object\n",
      "dtypes: int64(1), object(23)\n",
      "memory usage: 240.6+ KB\n"
     ]
    }
   ],
   "source": [
    "data.info()"
   ]
  },
  {
   "cell_type": "code",
   "execution_count": 43,
   "metadata": {},
   "outputs": [
    {
     "data": {
      "text/html": [
       "<div>\n",
       "<style scoped>\n",
       "    .dataframe tbody tr th:only-of-type {\n",
       "        vertical-align: middle;\n",
       "    }\n",
       "\n",
       "    .dataframe tbody tr th {\n",
       "        vertical-align: top;\n",
       "    }\n",
       "\n",
       "    .dataframe thead th {\n",
       "        text-align: right;\n",
       "    }\n",
       "</style>\n",
       "<table border=\"1\" class=\"dataframe\">\n",
       "  <thead>\n",
       "    <tr style=\"text-align: right;\">\n",
       "      <th></th>\n",
       "      <th>Age</th>\n",
       "    </tr>\n",
       "  </thead>\n",
       "  <tbody>\n",
       "    <tr>\n",
       "      <th>count</th>\n",
       "      <td>1232.000000</td>\n",
       "    </tr>\n",
       "    <tr>\n",
       "      <th>mean</th>\n",
       "      <td>31.963474</td>\n",
       "    </tr>\n",
       "    <tr>\n",
       "      <th>std</th>\n",
       "      <td>6.995377</td>\n",
       "    </tr>\n",
       "    <tr>\n",
       "      <th>min</th>\n",
       "      <td>18.000000</td>\n",
       "    </tr>\n",
       "    <tr>\n",
       "      <th>25%</th>\n",
       "      <td>27.000000</td>\n",
       "    </tr>\n",
       "    <tr>\n",
       "      <th>50%</th>\n",
       "      <td>31.000000</td>\n",
       "    </tr>\n",
       "    <tr>\n",
       "      <th>75%</th>\n",
       "      <td>36.000000</td>\n",
       "    </tr>\n",
       "    <tr>\n",
       "      <th>max</th>\n",
       "      <td>53.000000</td>\n",
       "    </tr>\n",
       "  </tbody>\n",
       "</table>\n",
       "</div>"
      ],
      "text/plain": [
       "               Age\n",
       "count  1232.000000\n",
       "mean     31.963474\n",
       "std       6.995377\n",
       "min      18.000000\n",
       "25%      27.000000\n",
       "50%      31.000000\n",
       "75%      36.000000\n",
       "max      53.000000"
      ]
     },
     "execution_count": 43,
     "metadata": {},
     "output_type": "execute_result"
    }
   ],
   "source": [
    "data.describe()"
   ]
  },
  {
   "cell_type": "code",
   "execution_count": 44,
   "metadata": {},
   "outputs": [
    {
     "data": {
      "text/html": [
       "<div>\n",
       "<style scoped>\n",
       "    .dataframe tbody tr th:only-of-type {\n",
       "        vertical-align: middle;\n",
       "    }\n",
       "\n",
       "    .dataframe tbody tr th {\n",
       "        vertical-align: top;\n",
       "    }\n",
       "\n",
       "    .dataframe thead th {\n",
       "        text-align: right;\n",
       "    }\n",
       "</style>\n",
       "<table border=\"1\" class=\"dataframe\">\n",
       "  <thead>\n",
       "    <tr style=\"text-align: right;\">\n",
       "      <th></th>\n",
       "      <th>Age</th>\n",
       "      <th>Gender</th>\n",
       "      <th>Country</th>\n",
       "      <th>self_employed</th>\n",
       "      <th>family_history</th>\n",
       "      <th>treatment</th>\n",
       "      <th>work_interfere</th>\n",
       "      <th>no_employees</th>\n",
       "      <th>remote_work</th>\n",
       "      <th>tech_company</th>\n",
       "      <th>...</th>\n",
       "      <th>anonymity</th>\n",
       "      <th>leave</th>\n",
       "      <th>mental_health_consequence</th>\n",
       "      <th>phys_health_consequence</th>\n",
       "      <th>coworkers</th>\n",
       "      <th>supervisor</th>\n",
       "      <th>mental_health_interview</th>\n",
       "      <th>phys_health_interview</th>\n",
       "      <th>mental_vs_physical</th>\n",
       "      <th>obs_consequence</th>\n",
       "    </tr>\n",
       "  </thead>\n",
       "  <tbody>\n",
       "    <tr>\n",
       "      <th>18</th>\n",
       "      <td>46</td>\n",
       "      <td>male</td>\n",
       "      <td>United States</td>\n",
       "      <td>Yes</td>\n",
       "      <td>Yes</td>\n",
       "      <td>No</td>\n",
       "      <td>Sometimes</td>\n",
       "      <td>1-5</td>\n",
       "      <td>Yes</td>\n",
       "      <td>Yes</td>\n",
       "      <td>...</td>\n",
       "      <td>Yes</td>\n",
       "      <td>Very easy</td>\n",
       "      <td>No</td>\n",
       "      <td>No</td>\n",
       "      <td>Yes</td>\n",
       "      <td>Yes</td>\n",
       "      <td>No</td>\n",
       "      <td>Yes</td>\n",
       "      <td>Yes</td>\n",
       "      <td>Yes</td>\n",
       "    </tr>\n",
       "    <tr>\n",
       "      <th>19</th>\n",
       "      <td>36</td>\n",
       "      <td>Male</td>\n",
       "      <td>France</td>\n",
       "      <td>Yes</td>\n",
       "      <td>Yes</td>\n",
       "      <td>No</td>\n",
       "      <td>Sometimes</td>\n",
       "      <td>6-25</td>\n",
       "      <td>Yes</td>\n",
       "      <td>Yes</td>\n",
       "      <td>...</td>\n",
       "      <td>Yes</td>\n",
       "      <td>Somewhat easy</td>\n",
       "      <td>No</td>\n",
       "      <td>No</td>\n",
       "      <td>Some of them</td>\n",
       "      <td>Some of them</td>\n",
       "      <td>Maybe</td>\n",
       "      <td>Maybe</td>\n",
       "      <td>Don't know</td>\n",
       "      <td>No</td>\n",
       "    </tr>\n",
       "    <tr>\n",
       "      <th>20</th>\n",
       "      <td>29</td>\n",
       "      <td>Male</td>\n",
       "      <td>United States</td>\n",
       "      <td>No</td>\n",
       "      <td>Yes</td>\n",
       "      <td>Yes</td>\n",
       "      <td>Sometimes</td>\n",
       "      <td>100-500</td>\n",
       "      <td>No</td>\n",
       "      <td>Yes</td>\n",
       "      <td>...</td>\n",
       "      <td>No</td>\n",
       "      <td>Somewhat difficult</td>\n",
       "      <td>Maybe</td>\n",
       "      <td>No</td>\n",
       "      <td>Some of them</td>\n",
       "      <td>Some of them</td>\n",
       "      <td>No</td>\n",
       "      <td>No</td>\n",
       "      <td>No</td>\n",
       "      <td>No</td>\n",
       "    </tr>\n",
       "    <tr>\n",
       "      <th>21</th>\n",
       "      <td>31</td>\n",
       "      <td>male</td>\n",
       "      <td>United States</td>\n",
       "      <td>Yes</td>\n",
       "      <td>No</td>\n",
       "      <td>No</td>\n",
       "      <td>Never</td>\n",
       "      <td>1-5</td>\n",
       "      <td>Yes</td>\n",
       "      <td>Yes</td>\n",
       "      <td>...</td>\n",
       "      <td>Yes</td>\n",
       "      <td>Somewhat difficult</td>\n",
       "      <td>No</td>\n",
       "      <td>No</td>\n",
       "      <td>Some of them</td>\n",
       "      <td>Some of them</td>\n",
       "      <td>No</td>\n",
       "      <td>Maybe</td>\n",
       "      <td>Yes</td>\n",
       "      <td>No</td>\n",
       "    </tr>\n",
       "    <tr>\n",
       "      <th>22</th>\n",
       "      <td>46</td>\n",
       "      <td>Male</td>\n",
       "      <td>United States</td>\n",
       "      <td>No</td>\n",
       "      <td>No</td>\n",
       "      <td>Yes</td>\n",
       "      <td>Often</td>\n",
       "      <td>26-100</td>\n",
       "      <td>Yes</td>\n",
       "      <td>Yes</td>\n",
       "      <td>...</td>\n",
       "      <td>Don't know</td>\n",
       "      <td>Don't know</td>\n",
       "      <td>Maybe</td>\n",
       "      <td>No</td>\n",
       "      <td>Some of them</td>\n",
       "      <td>Yes</td>\n",
       "      <td>No</td>\n",
       "      <td>Maybe</td>\n",
       "      <td>No</td>\n",
       "      <td>No</td>\n",
       "    </tr>\n",
       "  </tbody>\n",
       "</table>\n",
       "<p>5 rows × 24 columns</p>\n",
       "</div>"
      ],
      "text/plain": [
       "    Age Gender        Country self_employed family_history treatment  \\\n",
       "18   46   male  United States           Yes            Yes        No   \n",
       "19   36   Male         France           Yes            Yes        No   \n",
       "20   29   Male  United States            No            Yes       Yes   \n",
       "21   31   male  United States           Yes             No        No   \n",
       "22   46   Male  United States            No             No       Yes   \n",
       "\n",
       "   work_interfere no_employees remote_work tech_company       ...        \\\n",
       "18      Sometimes          1-5         Yes          Yes       ...         \n",
       "19      Sometimes         6-25         Yes          Yes       ...         \n",
       "20      Sometimes      100-500          No          Yes       ...         \n",
       "21          Never          1-5         Yes          Yes       ...         \n",
       "22          Often       26-100         Yes          Yes       ...         \n",
       "\n",
       "     anonymity               leave mental_health_consequence  \\\n",
       "18         Yes           Very easy                        No   \n",
       "19         Yes       Somewhat easy                        No   \n",
       "20          No  Somewhat difficult                     Maybe   \n",
       "21         Yes  Somewhat difficult                        No   \n",
       "22  Don't know          Don't know                     Maybe   \n",
       "\n",
       "   phys_health_consequence     coworkers    supervisor  \\\n",
       "18                      No           Yes           Yes   \n",
       "19                      No  Some of them  Some of them   \n",
       "20                      No  Some of them  Some of them   \n",
       "21                      No  Some of them  Some of them   \n",
       "22                      No  Some of them           Yes   \n",
       "\n",
       "   mental_health_interview phys_health_interview mental_vs_physical  \\\n",
       "18                      No                   Yes                Yes   \n",
       "19                   Maybe                 Maybe         Don't know   \n",
       "20                      No                    No                 No   \n",
       "21                      No                 Maybe                Yes   \n",
       "22                      No                 Maybe                 No   \n",
       "\n",
       "   obs_consequence  \n",
       "18             Yes  \n",
       "19              No  \n",
       "20              No  \n",
       "21              No  \n",
       "22              No  \n",
       "\n",
       "[5 rows x 24 columns]"
      ]
     },
     "execution_count": 44,
     "metadata": {},
     "output_type": "execute_result"
    }
   ],
   "source": [
    "data.head()"
   ]
  },
  {
   "cell_type": "code",
   "execution_count": 45,
   "metadata": {},
   "outputs": [
    {
     "data": {
      "text/plain": [
       "United States             734\n",
       "United Kingdom            182\n",
       "Canada                     68\n",
       "Germany                    45\n",
       "Ireland                    27\n",
       "Netherlands                27\n",
       "Australia                  21\n",
       "France                     13\n",
       "India                      10\n",
       "New Zealand                 8\n",
       "Switzerland                 7\n",
       "Poland                      7\n",
       "Sweden                      7\n",
       "Italy                       7\n",
       "Belgium                     6\n",
       "South Africa                6\n",
       "Brazil                      6\n",
       "Israel                      5\n",
       "Singapore                   4\n",
       "Austria                     3\n",
       "Finland                     3\n",
       "Russia                      3\n",
       "Bulgaria                    3\n",
       "Mexico                      3\n",
       "Portugal                    2\n",
       "Denmark                     2\n",
       "Croatia                     2\n",
       "Greece                      2\n",
       "Colombia                    2\n",
       "Japan                       1\n",
       "Romania                     1\n",
       "Philippines                 1\n",
       "Moldova                     1\n",
       "Latvia                      1\n",
       "Uruguay                     1\n",
       "Norway                      1\n",
       "Slovenia                    1\n",
       "Costa Rica                  1\n",
       "Spain                       1\n",
       "Nigeria                     1\n",
       "Georgia                     1\n",
       "Thailand                    1\n",
       "Bosnia and Herzegovina      1\n",
       "Czech Republic              1\n",
       "Hungary                     1\n",
       "China                       1\n",
       "Name: Country, dtype: int64"
      ]
     },
     "execution_count": 45,
     "metadata": {},
     "output_type": "execute_result"
    }
   ],
   "source": [
    "data.Country.value_counts()"
   ]
  },
  {
   "cell_type": "code",
   "execution_count": 46,
   "metadata": {},
   "outputs": [
    {
     "data": {
      "text/plain": [
       "Male                                              602\n",
       "male                                              203\n",
       "Female                                            117\n",
       "M                                                 114\n",
       "female                                             60\n",
       "F                                                  38\n",
       "m                                                  34\n",
       "f                                                  15\n",
       "Make                                                4\n",
       "Male                                                3\n",
       "Woman                                               3\n",
       "Female                                              2\n",
       "Female (trans)                                      2\n",
       "Man                                                 2\n",
       "Cis Male                                            2\n",
       "cis male                                            1\n",
       "Mal                                                 1\n",
       "woman                                               1\n",
       "Enby                                                1\n",
       "femail                                              1\n",
       "cis-female/femme                                    1\n",
       "male leaning androgynous                            1\n",
       "Trans-female                                        1\n",
       "non-binary                                          1\n",
       "Agender                                             1\n",
       "Genderqueer                                         1\n",
       "Guy (-ish) ^_^                                      1\n",
       "ostensibly male, unsure what that really means      1\n",
       "Male (CIS)                                          1\n",
       "Malr                                                1\n",
       "Androgyne                                           1\n",
       "Nah                                                 1\n",
       "maile                                               1\n",
       "queer/she/they                                      1\n",
       "Cis Man                                             1\n",
       "queer                                               1\n",
       "Trans woman                                         1\n",
       "something kinda male?                               1\n",
       "Femake                                              1\n",
       "Cis Female                                          1\n",
       "Female (cis)                                        1\n",
       "Neuter                                              1\n",
       "fluid                                               1\n",
       "Mail                                                1\n",
       "msle                                                1\n",
       "Male-ish                                            1\n",
       "Name: Gender, dtype: int64"
      ]
     },
     "execution_count": 46,
     "metadata": {},
     "output_type": "execute_result"
    }
   ],
   "source": [
    "data.Gender.value_counts()"
   ]
  },
  {
   "cell_type": "code",
   "execution_count": 47,
   "metadata": {},
   "outputs": [],
   "source": [
    "data.loc[data.Gender == 'male',['Gender']] = 'Male'\n",
    "data.loc[((data.Gender == 'm')|(data.Gender == 'M')),['Gender']] = 'Male'\n",
    "data.loc[data.Gender == 'female',['Gender']] = 'Female'\n",
    "data.loc[((data.Gender == 'f') | (data.Gender == 'F')),['Gender']] = 'Female'"
   ]
  },
  {
   "cell_type": "code",
   "execution_count": 48,
   "metadata": {},
   "outputs": [],
   "source": [
    "data.loc[((data.Gender == 'Woman')|(data.Gender == 'woman')),['Gender']] = 'Female'"
   ]
  },
  {
   "cell_type": "code",
   "execution_count": 49,
   "metadata": {},
   "outputs": [
    {
     "data": {
      "text/plain": [
       "Male                                              953\n",
       "Female                                            234\n",
       "Make                                                4\n",
       "Male                                                3\n",
       "Cis Male                                            2\n",
       "Man                                                 2\n",
       "Female (trans)                                      2\n",
       "Female                                              2\n",
       "Male (CIS)                                          1\n",
       "cis male                                            1\n",
       "Mal                                                 1\n",
       "femail                                              1\n",
       "cis-female/femme                                    1\n",
       "Enby                                                1\n",
       "Trans-female                                        1\n",
       "non-binary                                          1\n",
       "Agender                                             1\n",
       "Genderqueer                                         1\n",
       "Guy (-ish) ^_^                                      1\n",
       "Female (cis)                                        1\n",
       "ostensibly male, unsure what that really means      1\n",
       "msle                                                1\n",
       "Malr                                                1\n",
       "Femake                                              1\n",
       "Male-ish                                            1\n",
       "Mail                                                1\n",
       "fluid                                               1\n",
       "Neuter                                              1\n",
       "Cis Female                                          1\n",
       "something kinda male?                               1\n",
       "Androgyne                                           1\n",
       "Trans woman                                         1\n",
       "queer                                               1\n",
       "Cis Man                                             1\n",
       "queer/she/they                                      1\n",
       "maile                                               1\n",
       "Nah                                                 1\n",
       "male leaning androgynous                            1\n",
       "Name: Gender, dtype: int64"
      ]
     },
     "execution_count": 49,
     "metadata": {},
     "output_type": "execute_result"
    }
   ],
   "source": [
    "data.Gender.value_counts()"
   ]
  },
  {
   "cell_type": "code",
   "execution_count": 50,
   "metadata": {},
   "outputs": [],
   "source": [
    "data.loc[((data.Gender == 'ostensibly male, unsure what that really means') | (data.Gender=='Androgyne')| (data.Gender=='Neuter') | (data.Gender=='Trans-female') | (data.Gender=='non-binary')|(data.Gender=='Female (trans)') | (data.Gender=='Enby')),['Gender']] = 'Trans'\n",
    "data.loc[((data.Gender == 'cis-female/femme')| (data.Gender == 'Agender')),['Gender']] = 'Trans'"
   ]
  },
  {
   "cell_type": "code",
   "execution_count": 51,
   "metadata": {},
   "outputs": [
    {
     "data": {
      "text/plain": [
       "Male                        953\n",
       "Female                      234\n",
       "Trans                        10\n",
       "Make                          4\n",
       "Male                          3\n",
       "Man                           2\n",
       "Female                        2\n",
       "Cis Male                      2\n",
       "cis male                      1\n",
       "Malr                          1\n",
       "Male (CIS)                    1\n",
       "msle                          1\n",
       "Mal                           1\n",
       "femail                        1\n",
       "Genderqueer                   1\n",
       "Guy (-ish) ^_^                1\n",
       "Female (cis)                  1\n",
       "Femake                        1\n",
       "Mail                          1\n",
       "Male-ish                      1\n",
       "fluid                         1\n",
       "Cis Female                    1\n",
       "something kinda male?         1\n",
       "Trans woman                   1\n",
       "queer                         1\n",
       "Cis Man                       1\n",
       "queer/she/they                1\n",
       "maile                         1\n",
       "Nah                           1\n",
       "male leaning androgynous      1\n",
       "Name: Gender, dtype: int64"
      ]
     },
     "execution_count": 51,
     "metadata": {},
     "output_type": "execute_result"
    }
   ],
   "source": [
    "data.Gender.value_counts()"
   ]
  },
  {
   "cell_type": "code",
   "execution_count": 52,
   "metadata": {},
   "outputs": [],
   "source": [
    "data['Gender']=data.Gender.str.strip()"
   ]
  },
  {
   "cell_type": "code",
   "execution_count": 53,
   "metadata": {},
   "outputs": [
    {
     "data": {
      "text/plain": [
       "Male                        956\n",
       "Female                      236\n",
       "Trans                        10\n",
       "Make                          4\n",
       "Man                           2\n",
       "Cis Male                      2\n",
       "Female (cis)                  1\n",
       "Guy (-ish) ^_^                1\n",
       "Genderqueer                   1\n",
       "femail                        1\n",
       "Mal                           1\n",
       "cis male                      1\n",
       "Malr                          1\n",
       "Femake                        1\n",
       "msle                          1\n",
       "Male-ish                      1\n",
       "Male (CIS)                    1\n",
       "Mail                          1\n",
       "fluid                         1\n",
       "Cis Female                    1\n",
       "something kinda male?         1\n",
       "Trans woman                   1\n",
       "queer                         1\n",
       "Cis Man                       1\n",
       "queer/she/they                1\n",
       "maile                         1\n",
       "Nah                           1\n",
       "male leaning androgynous      1\n",
       "Name: Gender, dtype: int64"
      ]
     },
     "execution_count": 53,
     "metadata": {},
     "output_type": "execute_result"
    }
   ],
   "source": [
    "data.Gender.value_counts()"
   ]
  },
  {
   "cell_type": "code",
   "execution_count": 54,
   "metadata": {},
   "outputs": [],
   "source": [
    "data.loc[((data.Gender == 'Trans woman')| (data.Gender == 'Genderqueer') | (data.Gender == 'Cis Female') | (data.Gender == 'Cis Man')),['Gender']] = 'Trans'\n",
    "data.loc[((data.Gender == 'Cis Male')| (data.Gender == 'Male (CIS)') | (data.Gender == 'Female (cis)') | (data.Gender == 'Guy (-ish) ^_^') | (data.Gender == 'queer') | (data.Gender == 'queer/she/they')),['Gender']] = 'Trans'\n",
    "data.loc[((data.Gender == 'cis male') | (data.Gender == 'male leaning androgynous') | (data.Gender == 'Male-ish') | (data.Gender == 'something kinda male?')),['Gender']] = 'Trans'"
   ]
  },
  {
   "cell_type": "code",
   "execution_count": 55,
   "metadata": {},
   "outputs": [],
   "source": [
    "data.loc[((data.Gender=='Make') | (data.Gender=='Mal')|(data.Gender=='Malr') | (data.Gender=='Mail') | (data.Gender=='Malr') | (data.Gender=='maile')),['Gender']]='Male'\n",
    "data.loc[((data.Gender=='msle')|(data.Gender=='Man')),['Gender']]= 'Male'\n",
    "data.loc[((data.Gender == 'Nah')|(data.Gender=='fluid')),['Gender']]= 'Trans'\n",
    "data.loc[((data.Gender=='Femake')|(data.Gender=='femail')),['Gender']]='Female'"
   ]
  },
  {
   "cell_type": "code",
   "execution_count": 56,
   "metadata": {},
   "outputs": [
    {
     "data": {
      "text/plain": [
       "Male      967\n",
       "Female    238\n",
       "Trans      27\n",
       "Name: Gender, dtype: int64"
      ]
     },
     "execution_count": 56,
     "metadata": {},
     "output_type": "execute_result"
    }
   ],
   "source": [
    "data.Gender.value_counts()"
   ]
  },
  {
   "cell_type": "code",
   "execution_count": 57,
   "metadata": {},
   "outputs": [
    {
     "data": {
      "text/html": [
       "<div>\n",
       "<style scoped>\n",
       "    .dataframe tbody tr th:only-of-type {\n",
       "        vertical-align: middle;\n",
       "    }\n",
       "\n",
       "    .dataframe tbody tr th {\n",
       "        vertical-align: top;\n",
       "    }\n",
       "\n",
       "    .dataframe thead th {\n",
       "        text-align: right;\n",
       "    }\n",
       "</style>\n",
       "<table border=\"1\" class=\"dataframe\">\n",
       "  <thead>\n",
       "    <tr style=\"text-align: right;\">\n",
       "      <th></th>\n",
       "      <th>Age</th>\n",
       "      <th>Gender</th>\n",
       "      <th>Country</th>\n",
       "      <th>self_employed</th>\n",
       "      <th>family_history</th>\n",
       "      <th>treatment</th>\n",
       "      <th>work_interfere</th>\n",
       "      <th>no_employees</th>\n",
       "      <th>remote_work</th>\n",
       "      <th>tech_company</th>\n",
       "      <th>...</th>\n",
       "      <th>anonymity</th>\n",
       "      <th>leave</th>\n",
       "      <th>mental_health_consequence</th>\n",
       "      <th>phys_health_consequence</th>\n",
       "      <th>coworkers</th>\n",
       "      <th>supervisor</th>\n",
       "      <th>mental_health_interview</th>\n",
       "      <th>phys_health_interview</th>\n",
       "      <th>mental_vs_physical</th>\n",
       "      <th>obs_consequence</th>\n",
       "    </tr>\n",
       "  </thead>\n",
       "  <tbody>\n",
       "    <tr>\n",
       "      <th>18</th>\n",
       "      <td>46</td>\n",
       "      <td>Male</td>\n",
       "      <td>United States</td>\n",
       "      <td>Yes</td>\n",
       "      <td>Yes</td>\n",
       "      <td>No</td>\n",
       "      <td>Sometimes</td>\n",
       "      <td>1-5</td>\n",
       "      <td>Yes</td>\n",
       "      <td>Yes</td>\n",
       "      <td>...</td>\n",
       "      <td>Yes</td>\n",
       "      <td>Very easy</td>\n",
       "      <td>No</td>\n",
       "      <td>No</td>\n",
       "      <td>Yes</td>\n",
       "      <td>Yes</td>\n",
       "      <td>No</td>\n",
       "      <td>Yes</td>\n",
       "      <td>Yes</td>\n",
       "      <td>Yes</td>\n",
       "    </tr>\n",
       "    <tr>\n",
       "      <th>19</th>\n",
       "      <td>36</td>\n",
       "      <td>Male</td>\n",
       "      <td>France</td>\n",
       "      <td>Yes</td>\n",
       "      <td>Yes</td>\n",
       "      <td>No</td>\n",
       "      <td>Sometimes</td>\n",
       "      <td>6-25</td>\n",
       "      <td>Yes</td>\n",
       "      <td>Yes</td>\n",
       "      <td>...</td>\n",
       "      <td>Yes</td>\n",
       "      <td>Somewhat easy</td>\n",
       "      <td>No</td>\n",
       "      <td>No</td>\n",
       "      <td>Some of them</td>\n",
       "      <td>Some of them</td>\n",
       "      <td>Maybe</td>\n",
       "      <td>Maybe</td>\n",
       "      <td>Don't know</td>\n",
       "      <td>No</td>\n",
       "    </tr>\n",
       "    <tr>\n",
       "      <th>20</th>\n",
       "      <td>29</td>\n",
       "      <td>Male</td>\n",
       "      <td>United States</td>\n",
       "      <td>No</td>\n",
       "      <td>Yes</td>\n",
       "      <td>Yes</td>\n",
       "      <td>Sometimes</td>\n",
       "      <td>100-500</td>\n",
       "      <td>No</td>\n",
       "      <td>Yes</td>\n",
       "      <td>...</td>\n",
       "      <td>No</td>\n",
       "      <td>Somewhat difficult</td>\n",
       "      <td>Maybe</td>\n",
       "      <td>No</td>\n",
       "      <td>Some of them</td>\n",
       "      <td>Some of them</td>\n",
       "      <td>No</td>\n",
       "      <td>No</td>\n",
       "      <td>No</td>\n",
       "      <td>No</td>\n",
       "    </tr>\n",
       "    <tr>\n",
       "      <th>21</th>\n",
       "      <td>31</td>\n",
       "      <td>Male</td>\n",
       "      <td>United States</td>\n",
       "      <td>Yes</td>\n",
       "      <td>No</td>\n",
       "      <td>No</td>\n",
       "      <td>Never</td>\n",
       "      <td>1-5</td>\n",
       "      <td>Yes</td>\n",
       "      <td>Yes</td>\n",
       "      <td>...</td>\n",
       "      <td>Yes</td>\n",
       "      <td>Somewhat difficult</td>\n",
       "      <td>No</td>\n",
       "      <td>No</td>\n",
       "      <td>Some of them</td>\n",
       "      <td>Some of them</td>\n",
       "      <td>No</td>\n",
       "      <td>Maybe</td>\n",
       "      <td>Yes</td>\n",
       "      <td>No</td>\n",
       "    </tr>\n",
       "    <tr>\n",
       "      <th>22</th>\n",
       "      <td>46</td>\n",
       "      <td>Male</td>\n",
       "      <td>United States</td>\n",
       "      <td>No</td>\n",
       "      <td>No</td>\n",
       "      <td>Yes</td>\n",
       "      <td>Often</td>\n",
       "      <td>26-100</td>\n",
       "      <td>Yes</td>\n",
       "      <td>Yes</td>\n",
       "      <td>...</td>\n",
       "      <td>Don't know</td>\n",
       "      <td>Don't know</td>\n",
       "      <td>Maybe</td>\n",
       "      <td>No</td>\n",
       "      <td>Some of them</td>\n",
       "      <td>Yes</td>\n",
       "      <td>No</td>\n",
       "      <td>Maybe</td>\n",
       "      <td>No</td>\n",
       "      <td>No</td>\n",
       "    </tr>\n",
       "  </tbody>\n",
       "</table>\n",
       "<p>5 rows × 24 columns</p>\n",
       "</div>"
      ],
      "text/plain": [
       "    Age Gender        Country self_employed family_history treatment  \\\n",
       "18   46   Male  United States           Yes            Yes        No   \n",
       "19   36   Male         France           Yes            Yes        No   \n",
       "20   29   Male  United States            No            Yes       Yes   \n",
       "21   31   Male  United States           Yes             No        No   \n",
       "22   46   Male  United States            No             No       Yes   \n",
       "\n",
       "   work_interfere no_employees remote_work tech_company       ...        \\\n",
       "18      Sometimes          1-5         Yes          Yes       ...         \n",
       "19      Sometimes         6-25         Yes          Yes       ...         \n",
       "20      Sometimes      100-500          No          Yes       ...         \n",
       "21          Never          1-5         Yes          Yes       ...         \n",
       "22          Often       26-100         Yes          Yes       ...         \n",
       "\n",
       "     anonymity               leave mental_health_consequence  \\\n",
       "18         Yes           Very easy                        No   \n",
       "19         Yes       Somewhat easy                        No   \n",
       "20          No  Somewhat difficult                     Maybe   \n",
       "21         Yes  Somewhat difficult                        No   \n",
       "22  Don't know          Don't know                     Maybe   \n",
       "\n",
       "   phys_health_consequence     coworkers    supervisor  \\\n",
       "18                      No           Yes           Yes   \n",
       "19                      No  Some of them  Some of them   \n",
       "20                      No  Some of them  Some of them   \n",
       "21                      No  Some of them  Some of them   \n",
       "22                      No  Some of them           Yes   \n",
       "\n",
       "   mental_health_interview phys_health_interview mental_vs_physical  \\\n",
       "18                      No                   Yes                Yes   \n",
       "19                   Maybe                 Maybe         Don't know   \n",
       "20                      No                    No                 No   \n",
       "21                      No                 Maybe                Yes   \n",
       "22                      No                 Maybe                 No   \n",
       "\n",
       "   obs_consequence  \n",
       "18             Yes  \n",
       "19              No  \n",
       "20              No  \n",
       "21              No  \n",
       "22              No  \n",
       "\n",
       "[5 rows x 24 columns]"
      ]
     },
     "execution_count": 57,
     "metadata": {},
     "output_type": "execute_result"
    }
   ],
   "source": [
    "data.head()"
   ]
  },
  {
   "cell_type": "code",
   "execution_count": 58,
   "metadata": {},
   "outputs": [
    {
     "data": {
      "text/plain": [
       "United States             734\n",
       "United Kingdom            182\n",
       "Canada                     68\n",
       "Germany                    45\n",
       "Ireland                    27\n",
       "Netherlands                27\n",
       "Australia                  21\n",
       "France                     13\n",
       "India                      10\n",
       "New Zealand                 8\n",
       "Switzerland                 7\n",
       "Poland                      7\n",
       "Sweden                      7\n",
       "Italy                       7\n",
       "Belgium                     6\n",
       "South Africa                6\n",
       "Brazil                      6\n",
       "Israel                      5\n",
       "Singapore                   4\n",
       "Austria                     3\n",
       "Finland                     3\n",
       "Russia                      3\n",
       "Bulgaria                    3\n",
       "Mexico                      3\n",
       "Portugal                    2\n",
       "Denmark                     2\n",
       "Croatia                     2\n",
       "Greece                      2\n",
       "Colombia                    2\n",
       "Japan                       1\n",
       "Romania                     1\n",
       "Philippines                 1\n",
       "Moldova                     1\n",
       "Latvia                      1\n",
       "Uruguay                     1\n",
       "Norway                      1\n",
       "Slovenia                    1\n",
       "Costa Rica                  1\n",
       "Spain                       1\n",
       "Nigeria                     1\n",
       "Georgia                     1\n",
       "Thailand                    1\n",
       "Bosnia and Herzegovina      1\n",
       "Czech Republic              1\n",
       "Hungary                     1\n",
       "China                       1\n",
       "Name: Country, dtype: int64"
      ]
     },
     "execution_count": 58,
     "metadata": {},
     "output_type": "execute_result"
    }
   ],
   "source": [
    "data.Country.value_counts()"
   ]
  },
  {
   "cell_type": "code",
   "execution_count": 59,
   "metadata": {},
   "outputs": [
    {
     "data": {
      "text/plain": [
       "No     1090\n",
       "Yes     142\n",
       "Name: self_employed, dtype: int64"
      ]
     },
     "execution_count": 59,
     "metadata": {},
     "output_type": "execute_result"
    }
   ],
   "source": [
    "data.self_employed.value_counts()"
   ]
  },
  {
   "cell_type": "code",
   "execution_count": 60,
   "metadata": {},
   "outputs": [
    {
     "data": {
      "text/plain": [
       "No     751\n",
       "Yes    481\n",
       "Name: family_history, dtype: int64"
      ]
     },
     "execution_count": 60,
     "metadata": {},
     "output_type": "execute_result"
    }
   ],
   "source": [
    "data.family_history.value_counts()"
   ]
  },
  {
   "cell_type": "code",
   "execution_count": 61,
   "metadata": {},
   "outputs": [
    {
     "data": {
      "text/plain": [
       "Yes    622\n",
       "No     610\n",
       "Name: treatment, dtype: int64"
      ]
     },
     "execution_count": 61,
     "metadata": {},
     "output_type": "execute_result"
    }
   ],
   "source": [
    "data.treatment.value_counts()"
   ]
  },
  {
   "cell_type": "code",
   "execution_count": 62,
   "metadata": {},
   "outputs": [
    {
     "data": {
      "text/plain": [
       "Sometimes    719\n",
       "Never        205\n",
       "Rarely       170\n",
       "Often        138\n",
       "Name: work_interfere, dtype: int64"
      ]
     },
     "execution_count": 62,
     "metadata": {},
     "output_type": "execute_result"
    }
   ],
   "source": [
    "data.work_interfere.value_counts()"
   ]
  },
  {
   "cell_type": "code",
   "execution_count": 63,
   "metadata": {},
   "outputs": [
    {
     "data": {
      "text/plain": [
       "6-25              283\n",
       "26-100            283\n",
       "More than 1000    280\n",
       "100-500           172\n",
       "1-5               156\n",
       "500-1000           58\n",
       "Name: no_employees, dtype: int64"
      ]
     },
     "execution_count": 63,
     "metadata": {},
     "output_type": "execute_result"
    }
   ],
   "source": [
    "data.no_employees.value_counts()"
   ]
  },
  {
   "cell_type": "code",
   "execution_count": 64,
   "metadata": {},
   "outputs": [
    {
     "data": {
      "text/plain": [
       "No     868\n",
       "Yes    364\n",
       "Name: remote_work, dtype: int64"
      ]
     },
     "execution_count": 64,
     "metadata": {},
     "output_type": "execute_result"
    }
   ],
   "source": [
    "data.remote_work.value_counts()"
   ]
  },
  {
   "cell_type": "code",
   "execution_count": 65,
   "metadata": {},
   "outputs": [
    {
     "data": {
      "text/plain": [
       "Yes    1009\n",
       "No      223\n",
       "Name: tech_company, dtype: int64"
      ]
     },
     "execution_count": 65,
     "metadata": {},
     "output_type": "execute_result"
    }
   ],
   "source": [
    "data.tech_company.value_counts()"
   ]
  },
  {
   "cell_type": "code",
   "execution_count": 66,
   "metadata": {},
   "outputs": [
    {
     "name": "stdout",
     "output_type": "stream",
     "text": [
      "<class 'pandas.core.frame.DataFrame'>\n",
      "Int64Index: 1232 entries, 18 to 1258\n",
      "Data columns (total 24 columns):\n",
      "Age                          1232 non-null int64\n",
      "Gender                       1232 non-null object\n",
      "Country                      1232 non-null object\n",
      "self_employed                1232 non-null object\n",
      "family_history               1232 non-null object\n",
      "treatment                    1232 non-null object\n",
      "work_interfere               1232 non-null object\n",
      "no_employees                 1232 non-null object\n",
      "remote_work                  1232 non-null object\n",
      "tech_company                 1232 non-null object\n",
      "benefits                     1232 non-null object\n",
      "care_options                 1232 non-null object\n",
      "wellness_program             1232 non-null object\n",
      "seek_help                    1232 non-null object\n",
      "anonymity                    1232 non-null object\n",
      "leave                        1232 non-null object\n",
      "mental_health_consequence    1232 non-null object\n",
      "phys_health_consequence      1232 non-null object\n",
      "coworkers                    1232 non-null object\n",
      "supervisor                   1232 non-null object\n",
      "mental_health_interview      1232 non-null object\n",
      "phys_health_interview        1232 non-null object\n",
      "mental_vs_physical           1232 non-null object\n",
      "obs_consequence              1232 non-null object\n",
      "dtypes: int64(1), object(23)\n",
      "memory usage: 240.6+ KB\n"
     ]
    }
   ],
   "source": [
    "data.info()"
   ]
  },
  {
   "cell_type": "code",
   "execution_count": 67,
   "metadata": {},
   "outputs": [
    {
     "data": {
      "text/plain": [
       "Yes           465\n",
       "Don't know    400\n",
       "No            367\n",
       "Name: benefits, dtype: int64"
      ]
     },
     "execution_count": 67,
     "metadata": {},
     "output_type": "execute_result"
    }
   ],
   "source": [
    "data.benefits.value_counts()"
   ]
  },
  {
   "cell_type": "code",
   "execution_count": 68,
   "metadata": {},
   "outputs": [
    {
     "data": {
      "text/plain": [
       "No          492\n",
       "Yes         434\n",
       "Not sure    306\n",
       "Name: care_options, dtype: int64"
      ]
     },
     "execution_count": 68,
     "metadata": {},
     "output_type": "execute_result"
    }
   ],
   "source": [
    "data.care_options.value_counts()"
   ]
  },
  {
   "cell_type": "code",
   "execution_count": 69,
   "metadata": {},
   "outputs": [
    {
     "data": {
      "text/plain": [
       "No            824\n",
       "Yes           227\n",
       "Don't know    181\n",
       "Name: wellness_program, dtype: int64"
      ]
     },
     "execution_count": 69,
     "metadata": {},
     "output_type": "execute_result"
    }
   ],
   "source": [
    "data.wellness_program.value_counts()"
   ]
  },
  {
   "cell_type": "code",
   "execution_count": 70,
   "metadata": {},
   "outputs": [
    {
     "data": {
      "text/plain": [
       "No            632\n",
       "Don't know    355\n",
       "Yes           245\n",
       "Name: seek_help, dtype: int64"
      ]
     },
     "execution_count": 70,
     "metadata": {},
     "output_type": "execute_result"
    }
   ],
   "source": [
    "data.seek_help.value_counts()"
   ]
  },
  {
   "cell_type": "code",
   "execution_count": 71,
   "metadata": {},
   "outputs": [
    {
     "name": "stdout",
     "output_type": "stream",
     "text": [
      "<class 'pandas.core.frame.DataFrame'>\n",
      "Int64Index: 1232 entries, 18 to 1258\n",
      "Data columns (total 24 columns):\n",
      "Age                          1232 non-null int64\n",
      "Gender                       1232 non-null object\n",
      "Country                      1232 non-null object\n",
      "self_employed                1232 non-null object\n",
      "family_history               1232 non-null object\n",
      "treatment                    1232 non-null object\n",
      "work_interfere               1232 non-null object\n",
      "no_employees                 1232 non-null object\n",
      "remote_work                  1232 non-null object\n",
      "tech_company                 1232 non-null object\n",
      "benefits                     1232 non-null object\n",
      "care_options                 1232 non-null object\n",
      "wellness_program             1232 non-null object\n",
      "seek_help                    1232 non-null object\n",
      "anonymity                    1232 non-null object\n",
      "leave                        1232 non-null object\n",
      "mental_health_consequence    1232 non-null object\n",
      "phys_health_consequence      1232 non-null object\n",
      "coworkers                    1232 non-null object\n",
      "supervisor                   1232 non-null object\n",
      "mental_health_interview      1232 non-null object\n",
      "phys_health_interview        1232 non-null object\n",
      "mental_vs_physical           1232 non-null object\n",
      "obs_consequence              1232 non-null object\n",
      "dtypes: int64(1), object(23)\n",
      "memory usage: 240.6+ KB\n"
     ]
    }
   ],
   "source": [
    "data.info()"
   ]
  },
  {
   "cell_type": "code",
   "execution_count": 72,
   "metadata": {},
   "outputs": [],
   "source": [
    "#data.to_csv('Mental-Health-Cleaned-Data.csv',index=False)"
   ]
  },
  {
   "cell_type": "code",
   "execution_count": 73,
   "metadata": {},
   "outputs": [],
   "source": [
    "data = pd.read_csv('Mental-Health-Cleaned-Data.csv')"
   ]
  },
  {
   "cell_type": "code",
   "execution_count": 74,
   "metadata": {},
   "outputs": [
    {
     "data": {
      "text/html": [
       "<div>\n",
       "<style scoped>\n",
       "    .dataframe tbody tr th:only-of-type {\n",
       "        vertical-align: middle;\n",
       "    }\n",
       "\n",
       "    .dataframe tbody tr th {\n",
       "        vertical-align: top;\n",
       "    }\n",
       "\n",
       "    .dataframe thead th {\n",
       "        text-align: right;\n",
       "    }\n",
       "</style>\n",
       "<table border=\"1\" class=\"dataframe\">\n",
       "  <thead>\n",
       "    <tr style=\"text-align: right;\">\n",
       "      <th></th>\n",
       "      <th>Age</th>\n",
       "      <th>Gender</th>\n",
       "      <th>Country</th>\n",
       "      <th>self_employed</th>\n",
       "      <th>family_history</th>\n",
       "      <th>treatment</th>\n",
       "      <th>work_interfere</th>\n",
       "      <th>no_employees</th>\n",
       "      <th>remote_work</th>\n",
       "      <th>tech_company</th>\n",
       "      <th>...</th>\n",
       "      <th>anonymity</th>\n",
       "      <th>leave</th>\n",
       "      <th>mental_health_consequence</th>\n",
       "      <th>phys_health_consequence</th>\n",
       "      <th>coworkers</th>\n",
       "      <th>supervisor</th>\n",
       "      <th>mental_health_interview</th>\n",
       "      <th>phys_health_interview</th>\n",
       "      <th>mental_vs_physical</th>\n",
       "      <th>obs_consequence</th>\n",
       "    </tr>\n",
       "  </thead>\n",
       "  <tbody>\n",
       "    <tr>\n",
       "      <th>0</th>\n",
       "      <td>46</td>\n",
       "      <td>Male</td>\n",
       "      <td>United States</td>\n",
       "      <td>Yes</td>\n",
       "      <td>Yes</td>\n",
       "      <td>No</td>\n",
       "      <td>Sometimes</td>\n",
       "      <td>1-5</td>\n",
       "      <td>Yes</td>\n",
       "      <td>Yes</td>\n",
       "      <td>...</td>\n",
       "      <td>Yes</td>\n",
       "      <td>Very easy</td>\n",
       "      <td>No</td>\n",
       "      <td>No</td>\n",
       "      <td>Yes</td>\n",
       "      <td>Yes</td>\n",
       "      <td>No</td>\n",
       "      <td>Yes</td>\n",
       "      <td>Yes</td>\n",
       "      <td>Yes</td>\n",
       "    </tr>\n",
       "    <tr>\n",
       "      <th>1</th>\n",
       "      <td>36</td>\n",
       "      <td>Male</td>\n",
       "      <td>France</td>\n",
       "      <td>Yes</td>\n",
       "      <td>Yes</td>\n",
       "      <td>No</td>\n",
       "      <td>Sometimes</td>\n",
       "      <td>6-25</td>\n",
       "      <td>Yes</td>\n",
       "      <td>Yes</td>\n",
       "      <td>...</td>\n",
       "      <td>Yes</td>\n",
       "      <td>Somewhat easy</td>\n",
       "      <td>No</td>\n",
       "      <td>No</td>\n",
       "      <td>Some of them</td>\n",
       "      <td>Some of them</td>\n",
       "      <td>Maybe</td>\n",
       "      <td>Maybe</td>\n",
       "      <td>Don't know</td>\n",
       "      <td>No</td>\n",
       "    </tr>\n",
       "    <tr>\n",
       "      <th>2</th>\n",
       "      <td>29</td>\n",
       "      <td>Male</td>\n",
       "      <td>United States</td>\n",
       "      <td>No</td>\n",
       "      <td>Yes</td>\n",
       "      <td>Yes</td>\n",
       "      <td>Sometimes</td>\n",
       "      <td>100-500</td>\n",
       "      <td>No</td>\n",
       "      <td>Yes</td>\n",
       "      <td>...</td>\n",
       "      <td>No</td>\n",
       "      <td>Somewhat difficult</td>\n",
       "      <td>Maybe</td>\n",
       "      <td>No</td>\n",
       "      <td>Some of them</td>\n",
       "      <td>Some of them</td>\n",
       "      <td>No</td>\n",
       "      <td>No</td>\n",
       "      <td>No</td>\n",
       "      <td>No</td>\n",
       "    </tr>\n",
       "    <tr>\n",
       "      <th>3</th>\n",
       "      <td>31</td>\n",
       "      <td>Male</td>\n",
       "      <td>United States</td>\n",
       "      <td>Yes</td>\n",
       "      <td>No</td>\n",
       "      <td>No</td>\n",
       "      <td>Never</td>\n",
       "      <td>1-5</td>\n",
       "      <td>Yes</td>\n",
       "      <td>Yes</td>\n",
       "      <td>...</td>\n",
       "      <td>Yes</td>\n",
       "      <td>Somewhat difficult</td>\n",
       "      <td>No</td>\n",
       "      <td>No</td>\n",
       "      <td>Some of them</td>\n",
       "      <td>Some of them</td>\n",
       "      <td>No</td>\n",
       "      <td>Maybe</td>\n",
       "      <td>Yes</td>\n",
       "      <td>No</td>\n",
       "    </tr>\n",
       "    <tr>\n",
       "      <th>4</th>\n",
       "      <td>46</td>\n",
       "      <td>Male</td>\n",
       "      <td>United States</td>\n",
       "      <td>No</td>\n",
       "      <td>No</td>\n",
       "      <td>Yes</td>\n",
       "      <td>Often</td>\n",
       "      <td>26-100</td>\n",
       "      <td>Yes</td>\n",
       "      <td>Yes</td>\n",
       "      <td>...</td>\n",
       "      <td>Don't know</td>\n",
       "      <td>Don't know</td>\n",
       "      <td>Maybe</td>\n",
       "      <td>No</td>\n",
       "      <td>Some of them</td>\n",
       "      <td>Yes</td>\n",
       "      <td>No</td>\n",
       "      <td>Maybe</td>\n",
       "      <td>No</td>\n",
       "      <td>No</td>\n",
       "    </tr>\n",
       "  </tbody>\n",
       "</table>\n",
       "<p>5 rows × 24 columns</p>\n",
       "</div>"
      ],
      "text/plain": [
       "   Age Gender        Country self_employed family_history treatment  \\\n",
       "0   46   Male  United States           Yes            Yes        No   \n",
       "1   36   Male         France           Yes            Yes        No   \n",
       "2   29   Male  United States            No            Yes       Yes   \n",
       "3   31   Male  United States           Yes             No        No   \n",
       "4   46   Male  United States            No             No       Yes   \n",
       "\n",
       "  work_interfere no_employees remote_work tech_company       ...        \\\n",
       "0      Sometimes          1-5         Yes          Yes       ...         \n",
       "1      Sometimes         6-25         Yes          Yes       ...         \n",
       "2      Sometimes      100-500          No          Yes       ...         \n",
       "3          Never          1-5         Yes          Yes       ...         \n",
       "4          Often       26-100         Yes          Yes       ...         \n",
       "\n",
       "    anonymity               leave mental_health_consequence  \\\n",
       "0         Yes           Very easy                        No   \n",
       "1         Yes       Somewhat easy                        No   \n",
       "2          No  Somewhat difficult                     Maybe   \n",
       "3         Yes  Somewhat difficult                        No   \n",
       "4  Don't know          Don't know                     Maybe   \n",
       "\n",
       "  phys_health_consequence     coworkers    supervisor mental_health_interview  \\\n",
       "0                      No           Yes           Yes                      No   \n",
       "1                      No  Some of them  Some of them                   Maybe   \n",
       "2                      No  Some of them  Some of them                      No   \n",
       "3                      No  Some of them  Some of them                      No   \n",
       "4                      No  Some of them           Yes                      No   \n",
       "\n",
       "  phys_health_interview mental_vs_physical obs_consequence  \n",
       "0                   Yes                Yes             Yes  \n",
       "1                 Maybe         Don't know              No  \n",
       "2                    No                 No              No  \n",
       "3                 Maybe                Yes              No  \n",
       "4                 Maybe                 No              No  \n",
       "\n",
       "[5 rows x 24 columns]"
      ]
     },
     "execution_count": 74,
     "metadata": {},
     "output_type": "execute_result"
    }
   ],
   "source": [
    "data.head()"
   ]
  },
  {
   "cell_type": "code",
   "execution_count": 75,
   "metadata": {},
   "outputs": [
    {
     "data": {
      "text/plain": [
       "<matplotlib.axes._subplots.AxesSubplot at 0x18639322080>"
      ]
     },
     "execution_count": 75,
     "metadata": {},
     "output_type": "execute_result"
    },
    {
     "data": {
      "image/png": "[encoded data removed]",
      "text/plain": [
       "<Figure size 432x288 with 1 Axes>"
      ]
     },
     "metadata": {
      "needs_background": "light"
     },
     "output_type": "display_data"
    }
   ],
   "source": [
    "sb.boxplot(data.Age)"
   ]
  },
  {
   "cell_type": "code",
   "execution_count": 76,
   "metadata": {},
   "outputs": [
    {
     "data": {
      "text/plain": [
       "<matplotlib.axes._subplots.AxesSubplot at 0x18639374d68>"
      ]
     },
     "execution_count": 76,
     "metadata": {},
     "output_type": "execute_result"
    },
    {
     "data": {
      "image/png": "[encoded data removed]",
      "text/plain": [
       "<Figure size 432x288 with 1 Axes>"
      ]
     },
     "metadata": {
      "needs_background": "light"
     },
     "output_type": "display_data"
    }
   ],
   "source": [
    "sb.distplot(data.Age)"
   ]
  },
  {
   "cell_type": "markdown",
   "metadata": {},
   "source": [
    "#### Age Group Distribution"
   ]
  },
  {
   "cell_type": "code",
   "execution_count": 77,
   "metadata": {},
   "outputs": [],
   "source": [
    "data['Age_group'] = pd.cut(data.Age,bins=[0,25,30,40,50,55],labels=['0-25','25-30','30-40','40-50','50-55'])"
   ]
  },
  {
   "cell_type": "code",
   "execution_count": 78,
   "metadata": {},
   "outputs": [
    {
     "data": {
      "text/plain": [
       "30-40    514\n",
       "25-30    359\n",
       "0-25     215\n",
       "40-50    119\n",
       "50-55     25\n",
       "Name: Age_group, dtype: int64"
      ]
     },
     "execution_count": 78,
     "metadata": {},
     "output_type": "execute_result"
    }
   ],
   "source": [
    "data['Age_group'].value_counts()"
   ]
  },
  {
   "cell_type": "code",
   "execution_count": 79,
   "metadata": {},
   "outputs": [
    {
     "data": {
      "text/plain": [
       "Text(0.5, 1.0, 'Age Group Distribution')"
      ]
     },
     "execution_count": 79,
     "metadata": {},
     "output_type": "execute_result"
    },
    {
     "data": {
      "image/png": "[encoded data removed]",
      "text/plain": [
       "<Figure size 1080x504 with 1 Axes>"
      ]
     },
     "metadata": {
      "needs_background": "light"
     },
     "output_type": "display_data"
    }
   ],
   "source": [
    "plt.figure(figsize=(15,7))\n",
    "sb.countplot(data.Age_group)\n",
    "plt.title('Age Group Distribution')"
   ]
  },
  {
   "cell_type": "markdown",
   "metadata": {},
   "source": [
    "- Some Observations from above graph and values\n",
    "    1. Employees with Age between 0-25 are 215\n",
    "    2. Employees with Age between 25-30 are 359\n",
    "    3. Employees with Age between 30-40 are 514\n",
    "    4. Employees with Age between 40-50 are 119\n",
    "    5. Employees with Age between 50-55 are 25"
   ]
  },
  {
   "cell_type": "markdown",
   "metadata": {},
   "source": [
    "### Gender Distribution"
   ]
  },
  {
   "cell_type": "code",
   "execution_count": 80,
   "metadata": {},
   "outputs": [
    {
     "data": {
      "text/plain": [
       "Male      967\n",
       "Female    238\n",
       "Trans      27\n",
       "Name: Gender, dtype: int64"
      ]
     },
     "execution_count": 80,
     "metadata": {},
     "output_type": "execute_result"
    }
   ],
   "source": [
    "data.Gender.value_counts()"
   ]
  },
  {
   "cell_type": "code",
   "execution_count": 81,
   "metadata": {},
   "outputs": [
    {
     "data": {
      "text/plain": [
       "<matplotlib.axes._subplots.AxesSubplot at 0x18639432470>"
      ]
     },
     "execution_count": 81,
     "metadata": {},
     "output_type": "execute_result"
    },
    {
     "data": {
      "image/png": "[encoded data removed]",
      "text/plain": [
       "<Figure size 720x288 with 1 Axes>"
      ]
     },
     "metadata": {
      "needs_background": "light"
     },
     "output_type": "display_data"
    }
   ],
   "source": [
    "plt.figure(figsize=(10,4))\n",
    "sb.countplot(data.Gender)"
   ]
  },
  {
   "cell_type": "markdown",
   "metadata": {},
   "source": [
    "- Some Observations from above graph and values\n",
    "    1. Employees with Gender Male are 967\n",
    "    2. Employees with Gender Female are 238\n",
    "    3. Employees with Gender Female are 27"
   ]
  },
  {
   "cell_type": "markdown",
   "metadata": {},
   "source": [
    "#### Countplot for Country"
   ]
  },
  {
   "cell_type": "code",
   "execution_count": 82,
   "metadata": {},
   "outputs": [
    {
     "data": {
      "text/plain": [
       "United States             734\n",
       "United Kingdom            182\n",
       "Canada                     68\n",
       "Germany                    45\n",
       "Ireland                    27\n",
       "Netherlands                27\n",
       "Australia                  21\n",
       "France                     13\n",
       "India                      10\n",
       "New Zealand                 8\n",
       "Switzerland                 7\n",
       "Poland                      7\n",
       "Sweden                      7\n",
       "Italy                       7\n",
       "Belgium                     6\n",
       "South Africa                6\n",
       "Brazil                      6\n",
       "Israel                      5\n",
       "Singapore                   4\n",
       "Austria                     3\n",
       "Finland                     3\n",
       "Russia                      3\n",
       "Bulgaria                    3\n",
       "Mexico                      3\n",
       "Portugal                    2\n",
       "Denmark                     2\n",
       "Croatia                     2\n",
       "Greece                      2\n",
       "Colombia                    2\n",
       "Japan                       1\n",
       "Romania                     1\n",
       "Philippines                 1\n",
       "Moldova                     1\n",
       "Latvia                      1\n",
       "Uruguay                     1\n",
       "Norway                      1\n",
       "Slovenia                    1\n",
       "Costa Rica                  1\n",
       "Spain                       1\n",
       "Nigeria                     1\n",
       "Georgia                     1\n",
       "Thailand                    1\n",
       "Bosnia and Herzegovina      1\n",
       "Czech Republic              1\n",
       "Hungary                     1\n",
       "China                       1\n",
       "Name: Country, dtype: int64"
      ]
     },
     "execution_count": 82,
     "metadata": {},
     "output_type": "execute_result"
    }
   ],
   "source": [
    "data.Country.value_counts()"
   ]
  },
  {
   "cell_type": "code",
   "execution_count": 83,
   "metadata": {},
   "outputs": [
    {
     "data": {
      "text/plain": [
       "<matplotlib.axes._subplots.AxesSubplot at 0x186394598d0>"
      ]
     },
     "execution_count": 83,
     "metadata": {},
     "output_type": "execute_result"
    },
    {
     "data": {
      "image/png": "[encoded data removed]",
      "text/plain": [
       "<Figure size 1368x720 with 1 Axes>"
      ]
     },
     "metadata": {
      "needs_background": "light"
     },
     "output_type": "display_data"
    }
   ],
   "source": [
    "plt.figure(figsize=(19,10))\n",
    "sb.countplot(y=data.Country)"
   ]
  },
  {
   "cell_type": "markdown",
   "metadata": {},
   "source": [
    "- The Top 10 Countries from data are\n",
    "\n",
    "   . United States             \n",
    "   . United Kingdom            \n",
    "   . Canada                    \n",
    "   . Germany                   \n",
    "   . Netherlands               \n",
    "   . Ireland                   \n",
    "   . Australia                 \n",
    "   . France                    \n",
    "   . India                     \n",
    "   . New Zealand               "
   ]
  },
  {
   "cell_type": "markdown",
   "metadata": {},
   "source": [
    "#### Treatment  Distribution"
   ]
  },
  {
   "cell_type": "code",
   "execution_count": 84,
   "metadata": {},
   "outputs": [
    {
     "data": {
      "text/plain": [
       "Yes    622\n",
       "No     610\n",
       "Name: treatment, dtype: int64"
      ]
     },
     "execution_count": 84,
     "metadata": {},
     "output_type": "execute_result"
    }
   ],
   "source": [
    "data.treatment.value_counts()"
   ]
  },
  {
   "cell_type": "code",
   "execution_count": 85,
   "metadata": {},
   "outputs": [
    {
     "data": {
      "text/plain": [
       "Text(0.5, 1.0, 'Treatment Distribution')"
      ]
     },
     "execution_count": 85,
     "metadata": {},
     "output_type": "execute_result"
    },
    {
     "data": {
      "image/png": "[encoded data removed]",
      "text/plain": [
       "<Figure size 720x360 with 1 Axes>"
      ]
     },
     "metadata": {
      "needs_background": "light"
     },
     "output_type": "display_data"
    }
   ],
   "source": [
    "plt.figure(figsize=(10,5))\n",
    "sb.countplot(data.treatment,order=['Yes','No'],palette=['Green','red'])\n",
    "plt.title('Treatment Distribution')"
   ]
  },
  {
   "cell_type": "markdown",
   "metadata": {},
   "source": [
    "#### Number of Employees"
   ]
  },
  {
   "cell_type": "code",
   "execution_count": 86,
   "metadata": {},
   "outputs": [
    {
     "data": {
      "text/plain": [
       "6-25              283\n",
       "26-100            283\n",
       "More than 1000    280\n",
       "100-500           172\n",
       "1-5               156\n",
       "500-1000           58\n",
       "Name: no_employees, dtype: int64"
      ]
     },
     "execution_count": 86,
     "metadata": {},
     "output_type": "execute_result"
    }
   ],
   "source": [
    "data.no_employees.value_counts()"
   ]
  },
  {
   "cell_type": "code",
   "execution_count": 87,
   "metadata": {},
   "outputs": [
    {
     "data": {
      "text/plain": [
       "<matplotlib.axes._subplots.AxesSubplot at 0x186395f5860>"
      ]
     },
     "execution_count": 87,
     "metadata": {},
     "output_type": "execute_result"
    },
    {
     "data": {
      "image/png": "[encoded data removed]",
      "text/plain": [
       "<Figure size 720x360 with 1 Axes>"
      ]
     },
     "metadata": {
      "needs_background": "light"
     },
     "output_type": "display_data"
    }
   ],
   "source": [
    "plt.figure(figsize=(10,5))\n",
    "sb.countplot(data.no_employees,order=['500-1000','1-5','100-500','More than 1000','26-100','6-25'])"
   ]
  },
  {
   "cell_type": "markdown",
   "metadata": {},
   "source": [
    "- Some observation from above graph and values \n",
    "    1. 156 Employees working in CompanySize between 1-5 employees\n",
    "    2. 283 Employees working in CompanySize between 6-25 employees\n",
    "    3. 283 Employees working in CompanySize between 26-100 employees\n",
    "    4. 172 Employees working in CompanySize between 100-500 employees\n",
    "    5. 58 Employees working in CompanySize between 500-1000 employees\n",
    "    6. 280 Employees working in CompanySize between More than 1000 employees"
   ]
  },
  {
   "cell_type": "markdown",
   "metadata": {},
   "source": [
    "#### Work Interfere Distribution "
   ]
  },
  {
   "cell_type": "code",
   "execution_count": 88,
   "metadata": {},
   "outputs": [
    {
     "data": {
      "text/plain": [
       "<matplotlib.axes._subplots.AxesSubplot at 0x186392fe4a8>"
      ]
     },
     "execution_count": 88,
     "metadata": {},
     "output_type": "execute_result"
    },
    {
     "data": {
      "image/png": "[encoded data removed]",
      "text/plain": [
       "<Figure size 720x360 with 1 Axes>"
      ]
     },
     "metadata": {
      "needs_background": "light"
     },
     "output_type": "display_data"
    }
   ],
   "source": [
    "plt.figure(figsize=(10,5))\n",
    "sb.countplot(data.work_interfere)"
   ]
  },
  {
   "cell_type": "code",
   "execution_count": 89,
   "metadata": {},
   "outputs": [
    {
     "data": {
      "text/plain": [
       "Text(0.5, 1.0, 'no_employee vs tech_company')"
      ]
     },
     "execution_count": 89,
     "metadata": {},
     "output_type": "execute_result"
    },
    {
     "data": {
      "image/png": "[encoded data removed]",
      "text/plain": [
       "<Figure size 720x360 with 1 Axes>"
      ]
     },
     "metadata": {
      "needs_background": "light"
     },
     "output_type": "display_data"
    }
   ],
   "source": [
    "plt.figure(figsize=(10,5))\n",
    "sb.countplot(x = data.no_employees, hue =data.tech_company)\n",
    "plt.title('no_employee vs tech_company')"
   ]
  },
  {
   "cell_type": "code",
   "execution_count": 90,
   "metadata": {},
   "outputs": [
    {
     "data": {
      "text/plain": [
       "Text(0.5, 1.0, 'no_employee vs treatment')"
      ]
     },
     "execution_count": 90,
     "metadata": {},
     "output_type": "execute_result"
    },
    {
     "data": {
      "image/png": "[encoded data removed]",
      "text/plain": [
       "<Figure size 720x360 with 1 Axes>"
      ]
     },
     "metadata": {
      "needs_background": "light"
     },
     "output_type": "display_data"
    }
   ],
   "source": [
    "plt.figure(figsize=(10,5))\n",
    "sb.countplot(x = data.no_employees, hue =data.treatment,palette=['LightGreen','Red'])\n",
    "plt.title('no_employee vs treatment')"
   ]
  },
  {
   "cell_type": "code",
   "execution_count": 91,
   "metadata": {},
   "outputs": [
    {
     "data": {
      "text/plain": [
       "Text(0.5, 1.0, 'Age Group vs treatment')"
      ]
     },
     "execution_count": 91,
     "metadata": {},
     "output_type": "execute_result"
    },
    {
     "data": {
      "image/png": "[encoded data removed]",
      "text/plain": [
       "<Figure size 720x360 with 1 Axes>"
      ]
     },
     "metadata": {
      "needs_background": "light"
     },
     "output_type": "display_data"
    }
   ],
   "source": [
    "plt.figure(figsize=(10,5))\n",
    "sb.countplot(x = data.Age_group, hue =data.treatment,palette=['LightGreen','Red'])\n",
    "plt.title('Age Group vs treatment')"
   ]
  },
  {
   "cell_type": "code",
   "execution_count": 92,
   "metadata": {},
   "outputs": [
    {
     "data": {
      "text/html": [
       "<div>\n",
       "<style scoped>\n",
       "    .dataframe tbody tr th:only-of-type {\n",
       "        vertical-align: middle;\n",
       "    }\n",
       "\n",
       "    .dataframe tbody tr th {\n",
       "        vertical-align: top;\n",
       "    }\n",
       "\n",
       "    .dataframe thead th {\n",
       "        text-align: right;\n",
       "    }\n",
       "</style>\n",
       "<table border=\"1\" class=\"dataframe\">\n",
       "  <thead>\n",
       "    <tr style=\"text-align: right;\">\n",
       "      <th></th>\n",
       "      <th>Age</th>\n",
       "      <th>Gender</th>\n",
       "      <th>Country</th>\n",
       "      <th>self_employed</th>\n",
       "      <th>family_history</th>\n",
       "      <th>treatment</th>\n",
       "      <th>work_interfere</th>\n",
       "      <th>no_employees</th>\n",
       "      <th>remote_work</th>\n",
       "      <th>tech_company</th>\n",
       "      <th>...</th>\n",
       "      <th>anonymity</th>\n",
       "      <th>leave</th>\n",
       "      <th>mental_health_consequence</th>\n",
       "      <th>phys_health_consequence</th>\n",
       "      <th>coworkers</th>\n",
       "      <th>supervisor</th>\n",
       "      <th>mental_health_interview</th>\n",
       "      <th>phys_health_interview</th>\n",
       "      <th>mental_vs_physical</th>\n",
       "      <th>obs_consequence</th>\n",
       "    </tr>\n",
       "  </thead>\n",
       "  <tbody>\n",
       "    <tr>\n",
       "      <th>0</th>\n",
       "      <td>46</td>\n",
       "      <td>Male</td>\n",
       "      <td>United States</td>\n",
       "      <td>Yes</td>\n",
       "      <td>Yes</td>\n",
       "      <td>No</td>\n",
       "      <td>Sometimes</td>\n",
       "      <td>1-5</td>\n",
       "      <td>Yes</td>\n",
       "      <td>Yes</td>\n",
       "      <td>...</td>\n",
       "      <td>Yes</td>\n",
       "      <td>Very easy</td>\n",
       "      <td>No</td>\n",
       "      <td>No</td>\n",
       "      <td>Yes</td>\n",
       "      <td>Yes</td>\n",
       "      <td>No</td>\n",
       "      <td>Yes</td>\n",
       "      <td>Yes</td>\n",
       "      <td>Yes</td>\n",
       "    </tr>\n",
       "    <tr>\n",
       "      <th>1</th>\n",
       "      <td>36</td>\n",
       "      <td>Male</td>\n",
       "      <td>France</td>\n",
       "      <td>Yes</td>\n",
       "      <td>Yes</td>\n",
       "      <td>No</td>\n",
       "      <td>Sometimes</td>\n",
       "      <td>6-25</td>\n",
       "      <td>Yes</td>\n",
       "      <td>Yes</td>\n",
       "      <td>...</td>\n",
       "      <td>Yes</td>\n",
       "      <td>Somewhat easy</td>\n",
       "      <td>No</td>\n",
       "      <td>No</td>\n",
       "      <td>Some of them</td>\n",
       "      <td>Some of them</td>\n",
       "      <td>Maybe</td>\n",
       "      <td>Maybe</td>\n",
       "      <td>Don't know</td>\n",
       "      <td>No</td>\n",
       "    </tr>\n",
       "    <tr>\n",
       "      <th>2</th>\n",
       "      <td>29</td>\n",
       "      <td>Male</td>\n",
       "      <td>United States</td>\n",
       "      <td>No</td>\n",
       "      <td>Yes</td>\n",
       "      <td>Yes</td>\n",
       "      <td>Sometimes</td>\n",
       "      <td>100-500</td>\n",
       "      <td>No</td>\n",
       "      <td>Yes</td>\n",
       "      <td>...</td>\n",
       "      <td>No</td>\n",
       "      <td>Somewhat difficult</td>\n",
       "      <td>Maybe</td>\n",
       "      <td>No</td>\n",
       "      <td>Some of them</td>\n",
       "      <td>Some of them</td>\n",
       "      <td>No</td>\n",
       "      <td>No</td>\n",
       "      <td>No</td>\n",
       "      <td>No</td>\n",
       "    </tr>\n",
       "    <tr>\n",
       "      <th>3</th>\n",
       "      <td>31</td>\n",
       "      <td>Male</td>\n",
       "      <td>United States</td>\n",
       "      <td>Yes</td>\n",
       "      <td>No</td>\n",
       "      <td>No</td>\n",
       "      <td>Never</td>\n",
       "      <td>1-5</td>\n",
       "      <td>Yes</td>\n",
       "      <td>Yes</td>\n",
       "      <td>...</td>\n",
       "      <td>Yes</td>\n",
       "      <td>Somewhat difficult</td>\n",
       "      <td>No</td>\n",
       "      <td>No</td>\n",
       "      <td>Some of them</td>\n",
       "      <td>Some of them</td>\n",
       "      <td>No</td>\n",
       "      <td>Maybe</td>\n",
       "      <td>Yes</td>\n",
       "      <td>No</td>\n",
       "    </tr>\n",
       "    <tr>\n",
       "      <th>4</th>\n",
       "      <td>46</td>\n",
       "      <td>Male</td>\n",
       "      <td>United States</td>\n",
       "      <td>No</td>\n",
       "      <td>No</td>\n",
       "      <td>Yes</td>\n",
       "      <td>Often</td>\n",
       "      <td>26-100</td>\n",
       "      <td>Yes</td>\n",
       "      <td>Yes</td>\n",
       "      <td>...</td>\n",
       "      <td>Don't know</td>\n",
       "      <td>Don't know</td>\n",
       "      <td>Maybe</td>\n",
       "      <td>No</td>\n",
       "      <td>Some of them</td>\n",
       "      <td>Yes</td>\n",
       "      <td>No</td>\n",
       "      <td>Maybe</td>\n",
       "      <td>No</td>\n",
       "      <td>No</td>\n",
       "    </tr>\n",
       "  </tbody>\n",
       "</table>\n",
       "<p>5 rows × 24 columns</p>\n",
       "</div>"
      ],
      "text/plain": [
       "   Age Gender        Country self_employed family_history treatment  \\\n",
       "0   46   Male  United States           Yes            Yes        No   \n",
       "1   36   Male         France           Yes            Yes        No   \n",
       "2   29   Male  United States            No            Yes       Yes   \n",
       "3   31   Male  United States           Yes             No        No   \n",
       "4   46   Male  United States            No             No       Yes   \n",
       "\n",
       "  work_interfere no_employees remote_work tech_company       ...        \\\n",
       "0      Sometimes          1-5         Yes          Yes       ...         \n",
       "1      Sometimes         6-25         Yes          Yes       ...         \n",
       "2      Sometimes      100-500          No          Yes       ...         \n",
       "3          Never          1-5         Yes          Yes       ...         \n",
       "4          Often       26-100         Yes          Yes       ...         \n",
       "\n",
       "    anonymity               leave mental_health_consequence  \\\n",
       "0         Yes           Very easy                        No   \n",
       "1         Yes       Somewhat easy                        No   \n",
       "2          No  Somewhat difficult                     Maybe   \n",
       "3         Yes  Somewhat difficult                        No   \n",
       "4  Don't know          Don't know                     Maybe   \n",
       "\n",
       "  phys_health_consequence     coworkers    supervisor mental_health_interview  \\\n",
       "0                      No           Yes           Yes                      No   \n",
       "1                      No  Some of them  Some of them                   Maybe   \n",
       "2                      No  Some of them  Some of them                      No   \n",
       "3                      No  Some of them  Some of them                      No   \n",
       "4                      No  Some of them           Yes                      No   \n",
       "\n",
       "  phys_health_interview mental_vs_physical obs_consequence  \n",
       "0                   Yes                Yes             Yes  \n",
       "1                 Maybe         Don't know              No  \n",
       "2                    No                 No              No  \n",
       "3                 Maybe                Yes              No  \n",
       "4                 Maybe                 No              No  \n",
       "\n",
       "[5 rows x 24 columns]"
      ]
     },
     "execution_count": 92,
     "metadata": {},
     "output_type": "execute_result"
    }
   ],
   "source": [
    "data = pd.read_csv('Mental-Health-Cleaned-Data.csv')\n",
    "data.head()"
   ]
  },
  {
   "cell_type": "code",
   "execution_count": 93,
   "metadata": {},
   "outputs": [
    {
     "name": "stdout",
     "output_type": "stream",
     "text": [
      "<class 'pandas.core.frame.DataFrame'>\n",
      "RangeIndex: 1232 entries, 0 to 1231\n",
      "Data columns (total 24 columns):\n",
      "Age                          1232 non-null int64\n",
      "Gender                       1232 non-null object\n",
      "Country                      1232 non-null object\n",
      "self_employed                1232 non-null object\n",
      "family_history               1232 non-null object\n",
      "treatment                    1232 non-null object\n",
      "work_interfere               1232 non-null object\n",
      "no_employees                 1232 non-null object\n",
      "remote_work                  1232 non-null object\n",
      "tech_company                 1232 non-null object\n",
      "benefits                     1232 non-null object\n",
      "care_options                 1232 non-null object\n",
      "wellness_program             1232 non-null object\n",
      "seek_help                    1232 non-null object\n",
      "anonymity                    1232 non-null object\n",
      "leave                        1232 non-null object\n",
      "mental_health_consequence    1232 non-null object\n",
      "phys_health_consequence      1232 non-null object\n",
      "coworkers                    1232 non-null object\n",
      "supervisor                   1232 non-null object\n",
      "mental_health_interview      1232 non-null object\n",
      "phys_health_interview        1232 non-null object\n",
      "mental_vs_physical           1232 non-null object\n",
      "obs_consequence              1232 non-null object\n",
      "dtypes: int64(1), object(23)\n",
      "memory usage: 231.1+ KB\n"
     ]
    }
   ],
   "source": [
    "data.info()"
   ]
  },
  {
   "cell_type": "markdown",
   "metadata": {},
   "source": [
    "### Data PreProcessing\n",
    "#### Converting the categorical data to numerical data\n",
    "     1. Assiging the values inplace of categorical data(Manually)\n",
    "     2. LabelEncoder used for converting categorical data to numerical data(Automatic)"
   ]
  },
  {
   "cell_type": "code",
   "execution_count": 94,
   "metadata": {},
   "outputs": [],
   "source": [
    "from sklearn.preprocessing import LabelEncoder\n",
    "labelEncoder = LabelEncoder()"
   ]
  },
  {
   "cell_type": "code",
   "execution_count": 95,
   "metadata": {},
   "outputs": [
    {
     "data": {
      "text/plain": [
       "Male      967\n",
       "Female    238\n",
       "Trans      27\n",
       "Name: Gender, dtype: int64"
      ]
     },
     "execution_count": 95,
     "metadata": {},
     "output_type": "execute_result"
    }
   ],
   "source": [
    "data.Gender.value_counts()"
   ]
  },
  {
   "cell_type": "code",
   "execution_count": 96,
   "metadata": {},
   "outputs": [],
   "source": [
    "data.Gender[data.Gender == 'Male'] = 1 # Assiging value 1 to Gender as Male\n",
    "data.Gender[data.Gender == 'Female'] = 0 # Assiging value 0 to Gender as Female\n",
    "data.Gender[data.Gender == 'Trans'] = 2 # Assiging value 2 to Gender as Trans"
   ]
  },
  {
   "cell_type": "code",
   "execution_count": 97,
   "metadata": {},
   "outputs": [],
   "source": [
    "data.Gender = pd.to_numeric(data.Gender)"
   ]
  },
  {
   "cell_type": "code",
   "execution_count": 98,
   "metadata": {},
   "outputs": [
    {
     "data": {
      "text/plain": [
       "1    967\n",
       "0    238\n",
       "2     27\n",
       "Name: Gender, dtype: int64"
      ]
     },
     "execution_count": 98,
     "metadata": {},
     "output_type": "execute_result"
    }
   ],
   "source": [
    "data.Gender.value_counts()"
   ]
  },
  {
   "cell_type": "code",
   "execution_count": 99,
   "metadata": {},
   "outputs": [
    {
     "data": {
      "text/plain": [
       "array(['Australia', 'Austria', 'Belgium', 'Bosnia and Herzegovina',\n",
       "       'Brazil', 'Bulgaria', 'Canada', 'China', 'Colombia', 'Costa Rica',\n",
       "       'Croatia', 'Czech Republic', 'Denmark', 'Finland', 'France',\n",
       "       'Georgia', 'Germany', 'Greece', 'Hungary', 'India', 'Ireland',\n",
       "       'Israel', 'Italy', 'Japan', 'Latvia', 'Mexico', 'Moldova',\n",
       "       'Netherlands', 'New Zealand', 'Nigeria', 'Norway', 'Philippines',\n",
       "       'Poland', 'Portugal', 'Romania', 'Russia', 'Singapore', 'Slovenia',\n",
       "       'South Africa', 'Spain', 'Sweden', 'Switzerland', 'Thailand',\n",
       "       'United Kingdom', 'United States', 'Uruguay'], dtype=object)"
      ]
     },
     "execution_count": 99,
     "metadata": {},
     "output_type": "execute_result"
    }
   ],
   "source": [
    "data.Country = labelEncoder.fit_transform(data.Country)\n",
    "labelEncoder.classes_"
   ]
  },
  {
   "cell_type": "code",
   "execution_count": 100,
   "metadata": {},
   "outputs": [
    {
     "data": {
      "text/plain": [
       "array(['No', 'Yes'], dtype=object)"
      ]
     },
     "execution_count": 100,
     "metadata": {},
     "output_type": "execute_result"
    }
   ],
   "source": [
    "data.self_employed = labelEncoder.fit_transform(data.self_employed)\n",
    "labelEncoder.classes_"
   ]
  },
  {
   "cell_type": "code",
   "execution_count": 101,
   "metadata": {},
   "outputs": [
    {
     "data": {
      "text/plain": [
       "array(['No', 'Yes'], dtype=object)"
      ]
     },
     "execution_count": 101,
     "metadata": {},
     "output_type": "execute_result"
    }
   ],
   "source": [
    "data.family_history = labelEncoder.fit_transform(data.family_history)\n",
    "labelEncoder.classes_"
   ]
  },
  {
   "cell_type": "code",
   "execution_count": 102,
   "metadata": {},
   "outputs": [
    {
     "data": {
      "text/plain": [
       "array(['Never', 'Often', 'Rarely', 'Sometimes'], dtype=object)"
      ]
     },
     "execution_count": 102,
     "metadata": {},
     "output_type": "execute_result"
    }
   ],
   "source": [
    "data.work_interfere = labelEncoder.fit_transform(data.work_interfere)\n",
    "labelEncoder.classes_"
   ]
  },
  {
   "cell_type": "code",
   "execution_count": 103,
   "metadata": {},
   "outputs": [
    {
     "data": {
      "text/plain": [
       "array(['1-5', '100-500', '26-100', '500-1000', '6-25', 'More than 1000'],\n",
       "      dtype=object)"
      ]
     },
     "execution_count": 103,
     "metadata": {},
     "output_type": "execute_result"
    }
   ],
   "source": [
    "data.no_employees = labelEncoder.fit_transform(data.no_employees)\n",
    "labelEncoder.classes_"
   ]
  },
  {
   "cell_type": "code",
   "execution_count": 104,
   "metadata": {},
   "outputs": [
    {
     "data": {
      "text/plain": [
       "array(['No', 'Yes'], dtype=object)"
      ]
     },
     "execution_count": 104,
     "metadata": {},
     "output_type": "execute_result"
    }
   ],
   "source": [
    "data.remote_work= labelEncoder.fit_transform(data.remote_work)\n",
    "labelEncoder.classes_"
   ]
  },
  {
   "cell_type": "code",
   "execution_count": 105,
   "metadata": {},
   "outputs": [
    {
     "data": {
      "text/plain": [
       "array(['No', 'Yes'], dtype=object)"
      ]
     },
     "execution_count": 105,
     "metadata": {},
     "output_type": "execute_result"
    }
   ],
   "source": [
    "data.tech_company = labelEncoder.fit_transform(data.tech_company)\n",
    "labelEncoder.classes_"
   ]
  },
  {
   "cell_type": "code",
   "execution_count": 106,
   "metadata": {},
   "outputs": [
    {
     "data": {
      "text/plain": [
       "array([\"Don't know\", 'No', 'Yes'], dtype=object)"
      ]
     },
     "execution_count": 106,
     "metadata": {},
     "output_type": "execute_result"
    }
   ],
   "source": [
    "data.benefits = labelEncoder.fit_transform(data.benefits)\n",
    "labelEncoder.classes_"
   ]
  },
  {
   "cell_type": "code",
   "execution_count": 107,
   "metadata": {},
   "outputs": [
    {
     "data": {
      "text/plain": [
       "array(['No', 'Not sure', 'Yes'], dtype=object)"
      ]
     },
     "execution_count": 107,
     "metadata": {},
     "output_type": "execute_result"
    }
   ],
   "source": [
    "data.care_options = labelEncoder.fit_transform(data.care_options)\n",
    "labelEncoder.classes_"
   ]
  },
  {
   "cell_type": "code",
   "execution_count": 108,
   "metadata": {},
   "outputs": [
    {
     "data": {
      "text/plain": [
       "array([\"Don't know\", 'No', 'Yes'], dtype=object)"
      ]
     },
     "execution_count": 108,
     "metadata": {},
     "output_type": "execute_result"
    }
   ],
   "source": [
    "data.wellness_program = labelEncoder.fit_transform(data.wellness_program)\n",
    "labelEncoder.classes_"
   ]
  },
  {
   "cell_type": "code",
   "execution_count": 109,
   "metadata": {},
   "outputs": [
    {
     "data": {
      "text/plain": [
       "array([\"Don't know\", 'No', 'Yes'], dtype=object)"
      ]
     },
     "execution_count": 109,
     "metadata": {},
     "output_type": "execute_result"
    }
   ],
   "source": [
    "data.seek_help = labelEncoder.fit_transform(data.seek_help)\n",
    "labelEncoder.classes_"
   ]
  },
  {
   "cell_type": "code",
   "execution_count": 110,
   "metadata": {},
   "outputs": [
    {
     "data": {
      "text/plain": [
       "array([\"Don't know\", 'No', 'Yes'], dtype=object)"
      ]
     },
     "execution_count": 110,
     "metadata": {},
     "output_type": "execute_result"
    }
   ],
   "source": [
    "data.anonymity = labelEncoder.fit_transform(data.anonymity)\n",
    "labelEncoder.classes_"
   ]
  },
  {
   "cell_type": "code",
   "execution_count": 111,
   "metadata": {},
   "outputs": [
    {
     "data": {
      "text/plain": [
       "array([\"Don't know\", 'Somewhat difficult', 'Somewhat easy',\n",
       "       'Very difficult', 'Very easy'], dtype=object)"
      ]
     },
     "execution_count": 111,
     "metadata": {},
     "output_type": "execute_result"
    }
   ],
   "source": [
    "data.leave = labelEncoder.fit_transform(data.leave)\n",
    "labelEncoder.classes_"
   ]
  },
  {
   "cell_type": "code",
   "execution_count": 112,
   "metadata": {},
   "outputs": [
    {
     "data": {
      "text/plain": [
       "array(['Maybe', 'No', 'Yes'], dtype=object)"
      ]
     },
     "execution_count": 112,
     "metadata": {},
     "output_type": "execute_result"
    }
   ],
   "source": [
    "data.mental_health_consequence = labelEncoder.fit_transform(data.mental_health_consequence)\n",
    "labelEncoder.classes_"
   ]
  },
  {
   "cell_type": "code",
   "execution_count": 113,
   "metadata": {},
   "outputs": [
    {
     "data": {
      "text/plain": [
       "array(['Maybe', 'No', 'Yes'], dtype=object)"
      ]
     },
     "execution_count": 113,
     "metadata": {},
     "output_type": "execute_result"
    }
   ],
   "source": [
    "data.phys_health_consequence = labelEncoder.fit_transform(data.phys_health_consequence)\n",
    "labelEncoder.classes_"
   ]
  },
  {
   "cell_type": "code",
   "execution_count": 114,
   "metadata": {},
   "outputs": [
    {
     "data": {
      "text/plain": [
       "array(['No', 'Some of them', 'Yes'], dtype=object)"
      ]
     },
     "execution_count": 114,
     "metadata": {},
     "output_type": "execute_result"
    }
   ],
   "source": [
    "data.coworkers = labelEncoder.fit_transform(data.coworkers)\n",
    "labelEncoder.classes_"
   ]
  },
  {
   "cell_type": "code",
   "execution_count": 115,
   "metadata": {},
   "outputs": [
    {
     "data": {
      "text/plain": [
       "array(['No', 'Some of them', 'Yes'], dtype=object)"
      ]
     },
     "execution_count": 115,
     "metadata": {},
     "output_type": "execute_result"
    }
   ],
   "source": [
    "data.supervisor = labelEncoder.fit_transform(data.supervisor)\n",
    "labelEncoder.classes_"
   ]
  },
  {
   "cell_type": "code",
   "execution_count": 116,
   "metadata": {},
   "outputs": [
    {
     "data": {
      "text/plain": [
       "array(['Maybe', 'No', 'Yes'], dtype=object)"
      ]
     },
     "execution_count": 116,
     "metadata": {},
     "output_type": "execute_result"
    }
   ],
   "source": [
    "data.mental_health_interview = labelEncoder.fit_transform(data.mental_health_interview)\n",
    "labelEncoder.classes_"
   ]
  },
  {
   "cell_type": "code",
   "execution_count": 117,
   "metadata": {},
   "outputs": [
    {
     "data": {
      "text/plain": [
       "array(['Maybe', 'No', 'Yes'], dtype=object)"
      ]
     },
     "execution_count": 117,
     "metadata": {},
     "output_type": "execute_result"
    }
   ],
   "source": [
    "data.phys_health_interview = labelEncoder.fit_transform(data.phys_health_interview)\n",
    "labelEncoder.classes_"
   ]
  },
  {
   "cell_type": "code",
   "execution_count": 118,
   "metadata": {},
   "outputs": [
    {
     "data": {
      "text/plain": [
       "array([\"Don't know\", 'No', 'Yes'], dtype=object)"
      ]
     },
     "execution_count": 118,
     "metadata": {},
     "output_type": "execute_result"
    }
   ],
   "source": [
    "data.mental_vs_physical = labelEncoder.fit_transform(data.mental_vs_physical)\n",
    "labelEncoder.classes_"
   ]
  },
  {
   "cell_type": "code",
   "execution_count": 119,
   "metadata": {},
   "outputs": [
    {
     "data": {
      "text/plain": [
       "array(['No', 'Yes'], dtype=object)"
      ]
     },
     "execution_count": 119,
     "metadata": {},
     "output_type": "execute_result"
    }
   ],
   "source": [
    "data.obs_consequence = labelEncoder.fit_transform(data.obs_consequence)\n",
    "labelEncoder.classes_"
   ]
  },
  {
   "cell_type": "code",
   "execution_count": 120,
   "metadata": {},
   "outputs": [
    {
     "name": "stdout",
     "output_type": "stream",
     "text": [
      "<class 'pandas.core.frame.DataFrame'>\n",
      "RangeIndex: 1232 entries, 0 to 1231\n",
      "Data columns (total 24 columns):\n",
      "Age                          1232 non-null int64\n",
      "Gender                       1232 non-null int64\n",
      "Country                      1232 non-null int32\n",
      "self_employed                1232 non-null int32\n",
      "family_history               1232 non-null int32\n",
      "treatment                    1232 non-null object\n",
      "work_interfere               1232 non-null int32\n",
      "no_employees                 1232 non-null int32\n",
      "remote_work                  1232 non-null int32\n",
      "tech_company                 1232 non-null int32\n",
      "benefits                     1232 non-null int32\n",
      "care_options                 1232 non-null int32\n",
      "wellness_program             1232 non-null int32\n",
      "seek_help                    1232 non-null int32\n",
      "anonymity                    1232 non-null int32\n",
      "leave                        1232 non-null int32\n",
      "mental_health_consequence    1232 non-null int32\n",
      "phys_health_consequence      1232 non-null int32\n",
      "coworkers                    1232 non-null int32\n",
      "supervisor                   1232 non-null int32\n",
      "mental_health_interview      1232 non-null int32\n",
      "phys_health_interview        1232 non-null int32\n",
      "mental_vs_physical           1232 non-null int32\n",
      "obs_consequence              1232 non-null int32\n",
      "dtypes: int32(21), int64(2), object(1)\n",
      "memory usage: 130.0+ KB\n"
     ]
    }
   ],
   "source": [
    "data.info()"
   ]
  },
  {
   "cell_type": "code",
   "execution_count": 121,
   "metadata": {},
   "outputs": [],
   "source": [
    "data['Treatment'] = data.treatment\n",
    "data.drop(columns=['treatment'],inplace=True)"
   ]
  },
  {
   "cell_type": "code",
   "execution_count": 122,
   "metadata": {},
   "outputs": [],
   "source": [
    "data.Treatment[data.Treatment == 'Yes'] = 1\n",
    "data.Treatment[data.Treatment == 'No'] = 0\n",
    "data.Treatment = pd.to_numeric(data.Treatment)"
   ]
  },
  {
   "cell_type": "code",
   "execution_count": 123,
   "metadata": {},
   "outputs": [
    {
     "name": "stdout",
     "output_type": "stream",
     "text": [
      "<class 'pandas.core.frame.DataFrame'>\n",
      "RangeIndex: 1232 entries, 0 to 1231\n",
      "Data columns (total 24 columns):\n",
      "Age                          1232 non-null int64\n",
      "Gender                       1232 non-null int64\n",
      "Country                      1232 non-null int32\n",
      "self_employed                1232 non-null int32\n",
      "family_history               1232 non-null int32\n",
      "work_interfere               1232 non-null int32\n",
      "no_employees                 1232 non-null int32\n",
      "remote_work                  1232 non-null int32\n",
      "tech_company                 1232 non-null int32\n",
      "benefits                     1232 non-null int32\n",
      "care_options                 1232 non-null int32\n",
      "wellness_program             1232 non-null int32\n",
      "seek_help                    1232 non-null int32\n",
      "anonymity                    1232 non-null int32\n",
      "leave                        1232 non-null int32\n",
      "mental_health_consequence    1232 non-null int32\n",
      "phys_health_consequence      1232 non-null int32\n",
      "coworkers                    1232 non-null int32\n",
      "supervisor                   1232 non-null int32\n",
      "mental_health_interview      1232 non-null int32\n",
      "phys_health_interview        1232 non-null int32\n",
      "mental_vs_physical           1232 non-null int32\n",
      "obs_consequence              1232 non-null int32\n",
      "Treatment                    1232 non-null int64\n",
      "dtypes: int32(21), int64(3)\n",
      "memory usage: 130.0 KB\n"
     ]
    }
   ],
   "source": [
    "data.info()"
   ]
  },
  {
   "cell_type": "code",
   "execution_count": 124,
   "metadata": {
    "scrolled": false
   },
   "outputs": [
    {
     "data": {
      "text/html": [
       "<div>\n",
       "<style scoped>\n",
       "    .dataframe tbody tr th:only-of-type {\n",
       "        vertical-align: middle;\n",
       "    }\n",
       "\n",
       "    .dataframe tbody tr th {\n",
       "        vertical-align: top;\n",
       "    }\n",
       "\n",
       "    .dataframe thead th {\n",
       "        text-align: right;\n",
       "    }\n",
       "</style>\n",
       "<table border=\"1\" class=\"dataframe\">\n",
       "  <thead>\n",
       "    <tr style=\"text-align: right;\">\n",
       "      <th></th>\n",
       "      <th>Age</th>\n",
       "      <th>Gender</th>\n",
       "      <th>Country</th>\n",
       "      <th>self_employed</th>\n",
       "      <th>family_history</th>\n",
       "      <th>work_interfere</th>\n",
       "      <th>no_employees</th>\n",
       "      <th>remote_work</th>\n",
       "      <th>tech_company</th>\n",
       "      <th>benefits</th>\n",
       "      <th>...</th>\n",
       "      <th>leave</th>\n",
       "      <th>mental_health_consequence</th>\n",
       "      <th>phys_health_consequence</th>\n",
       "      <th>coworkers</th>\n",
       "      <th>supervisor</th>\n",
       "      <th>mental_health_interview</th>\n",
       "      <th>phys_health_interview</th>\n",
       "      <th>mental_vs_physical</th>\n",
       "      <th>obs_consequence</th>\n",
       "      <th>Treatment</th>\n",
       "    </tr>\n",
       "  </thead>\n",
       "  <tbody>\n",
       "    <tr>\n",
       "      <th>0</th>\n",
       "      <td>46</td>\n",
       "      <td>1</td>\n",
       "      <td>44</td>\n",
       "      <td>1</td>\n",
       "      <td>1</td>\n",
       "      <td>3</td>\n",
       "      <td>0</td>\n",
       "      <td>1</td>\n",
       "      <td>1</td>\n",
       "      <td>2</td>\n",
       "      <td>...</td>\n",
       "      <td>4</td>\n",
       "      <td>1</td>\n",
       "      <td>1</td>\n",
       "      <td>2</td>\n",
       "      <td>2</td>\n",
       "      <td>1</td>\n",
       "      <td>2</td>\n",
       "      <td>2</td>\n",
       "      <td>1</td>\n",
       "      <td>0</td>\n",
       "    </tr>\n",
       "    <tr>\n",
       "      <th>1</th>\n",
       "      <td>36</td>\n",
       "      <td>1</td>\n",
       "      <td>14</td>\n",
       "      <td>1</td>\n",
       "      <td>1</td>\n",
       "      <td>3</td>\n",
       "      <td>4</td>\n",
       "      <td>1</td>\n",
       "      <td>1</td>\n",
       "      <td>1</td>\n",
       "      <td>...</td>\n",
       "      <td>2</td>\n",
       "      <td>1</td>\n",
       "      <td>1</td>\n",
       "      <td>1</td>\n",
       "      <td>1</td>\n",
       "      <td>0</td>\n",
       "      <td>0</td>\n",
       "      <td>0</td>\n",
       "      <td>0</td>\n",
       "      <td>0</td>\n",
       "    </tr>\n",
       "    <tr>\n",
       "      <th>2</th>\n",
       "      <td>29</td>\n",
       "      <td>1</td>\n",
       "      <td>44</td>\n",
       "      <td>0</td>\n",
       "      <td>1</td>\n",
       "      <td>3</td>\n",
       "      <td>1</td>\n",
       "      <td>0</td>\n",
       "      <td>1</td>\n",
       "      <td>2</td>\n",
       "      <td>...</td>\n",
       "      <td>1</td>\n",
       "      <td>0</td>\n",
       "      <td>1</td>\n",
       "      <td>1</td>\n",
       "      <td>1</td>\n",
       "      <td>1</td>\n",
       "      <td>1</td>\n",
       "      <td>1</td>\n",
       "      <td>0</td>\n",
       "      <td>1</td>\n",
       "    </tr>\n",
       "    <tr>\n",
       "      <th>3</th>\n",
       "      <td>31</td>\n",
       "      <td>1</td>\n",
       "      <td>44</td>\n",
       "      <td>1</td>\n",
       "      <td>0</td>\n",
       "      <td>0</td>\n",
       "      <td>0</td>\n",
       "      <td>1</td>\n",
       "      <td>1</td>\n",
       "      <td>1</td>\n",
       "      <td>...</td>\n",
       "      <td>1</td>\n",
       "      <td>1</td>\n",
       "      <td>1</td>\n",
       "      <td>1</td>\n",
       "      <td>1</td>\n",
       "      <td>1</td>\n",
       "      <td>0</td>\n",
       "      <td>2</td>\n",
       "      <td>0</td>\n",
       "      <td>0</td>\n",
       "    </tr>\n",
       "    <tr>\n",
       "      <th>4</th>\n",
       "      <td>46</td>\n",
       "      <td>1</td>\n",
       "      <td>44</td>\n",
       "      <td>0</td>\n",
       "      <td>0</td>\n",
       "      <td>1</td>\n",
       "      <td>2</td>\n",
       "      <td>1</td>\n",
       "      <td>1</td>\n",
       "      <td>2</td>\n",
       "      <td>...</td>\n",
       "      <td>0</td>\n",
       "      <td>0</td>\n",
       "      <td>1</td>\n",
       "      <td>1</td>\n",
       "      <td>2</td>\n",
       "      <td>1</td>\n",
       "      <td>0</td>\n",
       "      <td>1</td>\n",
       "      <td>0</td>\n",
       "      <td>1</td>\n",
       "    </tr>\n",
       "  </tbody>\n",
       "</table>\n",
       "<p>5 rows × 24 columns</p>\n",
       "</div>"
      ],
      "text/plain": [
       "   Age  Gender  Country  self_employed  family_history  work_interfere  \\\n",
       "0   46       1       44              1               1               3   \n",
       "1   36       1       14              1               1               3   \n",
       "2   29       1       44              0               1               3   \n",
       "3   31       1       44              1               0               0   \n",
       "4   46       1       44              0               0               1   \n",
       "\n",
       "   no_employees  remote_work  tech_company  benefits    ...      leave  \\\n",
       "0             0            1             1         2    ...          4   \n",
       "1             4            1             1         1    ...          2   \n",
       "2             1            0             1         2    ...          1   \n",
       "3             0            1             1         1    ...          1   \n",
       "4             2            1             1         2    ...          0   \n",
       "\n",
       "   mental_health_consequence  phys_health_consequence  coworkers  supervisor  \\\n",
       "0                          1                        1          2           2   \n",
       "1                          1                        1          1           1   \n",
       "2                          0                        1          1           1   \n",
       "3                          1                        1          1           1   \n",
       "4                          0                        1          1           2   \n",
       "\n",
       "   mental_health_interview  phys_health_interview  mental_vs_physical  \\\n",
       "0                        1                      2                   2   \n",
       "1                        0                      0                   0   \n",
       "2                        1                      1                   1   \n",
       "3                        1                      0                   2   \n",
       "4                        1                      0                   1   \n",
       "\n",
       "   obs_consequence  Treatment  \n",
       "0                1          0  \n",
       "1                0          0  \n",
       "2                0          1  \n",
       "3                0          0  \n",
       "4                0          1  \n",
       "\n",
       "[5 rows x 24 columns]"
      ]
     },
     "execution_count": 124,
     "metadata": {},
     "output_type": "execute_result"
    }
   ],
   "source": [
    "data.head()"
   ]
  },
  {
   "cell_type": "code",
   "execution_count": 125,
   "metadata": {},
   "outputs": [],
   "source": [
    "#data.to_csv('Mental_Health_PreProcessed Data.csv',index=False)"
   ]
  }
 ],
 "metadata": {
  "celltoolbar": "Raw Cell Format",
  "kernelspec": {
   "display_name": "Python 3",
   "language": "python",
   "name": "python3"
  },
  "language_info": {
   "codemirror_mode": {
    "name": "ipython",
    "version": 3
   },
   "file_extension": ".py",
   "mimetype": "text/x-python",
   "name": "python",
   "nbconvert_exporter": "python",
   "pygments_lexer": "ipython3",
   "version": "3.7.1"
  }
 },
 "nbformat": 4,
 "nbformat_minor": 2
}
